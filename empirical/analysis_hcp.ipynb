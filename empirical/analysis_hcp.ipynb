{
 "cells": [
  {
   "cell_type": "markdown",
   "metadata": {
    "pycharm": {
     "name": "#%% md\n"
    }
   },
   "source": [
    "# Analysis of the Human Connectome Project (funcional connectome)\n",
    "\n",
    "## Imports"
   ]
  },
  {
   "cell_type": "code",
   "execution_count": 2,
   "metadata": {
    "ExecuteTime": {
     "end_time": "2021-08-03T20:04:15.431840Z",
     "start_time": "2021-08-03T20:04:14.753565Z"
    },
    "pycharm": {
     "name": "#%%\n"
    }
   },
   "outputs": [],
   "source": [
    "import numpy as np\n",
    "import pandas as pd\n",
    "import matplotlib.pyplot as plt\n",
    "import seaborn as sns\n",
    "from mlconfound.stats import full_confound_test, partial_confound_test\n",
    "from mlconfound.plot import plot_graph\n",
    "from mlconfound.stats import _r2_cat_cont, _r2_cont_cont\n",
    "\n",
    "import statsmodels.api as sm\n",
    "from statsmodels.regression.linear_model import OLS\n",
    "from statsmodels.formula.api import ols as ols_f\n",
    "from scipy.stats import kurtosis, skew\n",
    "\n",
    "from sklearn.pipeline import Pipeline\n",
    "from sklearn.feature_selection import VarianceThreshold\n",
    "from sklearn.linear_model import Ridge\n",
    "from sklearn.model_selection import KFold, GridSearchCV\n",
    "from sklearn.metrics import mean_squared_error\n",
    "from sklearn.preprocessing import quantile_transform\n",
    "\n",
    "from neurocombat_sklearn import CombatModel\n",
    "\n",
    "sns.set_style(\"whitegrid\")"
   ]
  },
  {
   "cell_type": "markdown",
   "metadata": {
    "pycharm": {
     "name": "#%% md\n"
    }
   },
   "source": [
    "## Load data"
   ]
  },
  {
   "cell_type": "code",
   "execution_count": 3,
   "metadata": {
    "ExecuteTime": {
     "end_time": "2021-08-01T12:43:07.129883Z",
     "start_time": "2021-08-01T12:42:54.233102Z"
    },
    "pycharm": {
     "name": "#%%\n"
    }
   },
   "outputs": [
    {
     "data": {
      "text/plain": "        Release Acquisition Gender    Age  3T_Full_MR_Compl  T1_Count  \\\nSubject                                                                 \n100004     S900         Q06      M  22-25             False         0   \n100206     S900         Q11      M  26-30              True         1   \n100307       Q1         Q01      F  26-30              True         1   \n100408       Q3         Q03      M  31-35              True         1   \n100610     S900         Q08      M  26-30              True         2   \n...         ...         ...    ...    ...               ...       ...   \n992774       Q2         Q02      M  31-35              True         2   \n993675     S900         Q09      F  26-30              True         2   \n994273     S500         Q06      M  26-30              True         1   \n995174    S1200         Q13      M  22-25             False         1   \n996782     S900         Q08      F  26-30              True         2   \n\n         T2_Count  3T_RS-fMRI_Count  3T_RS-fMRI_PctCompl  3T_Full_Task_fMRI  \\\nSubject                                                                       \n100004          0                 0                  0.0              False   \n100206          1                 4                100.0               True   \n100307          1                 4                100.0               True   \n100408          1                 4                100.0               True   \n100610          1                 4                100.0               True   \n...           ...               ...                  ...                ...   \n992774          2                 4                100.0               True   \n993675          2                 4                100.0               True   \n994273          1                 4                100.0               True   \n995174          1                 2                  0.0               True   \n996782          2                 4                100.0               True   \n\n         ...  Odor_Unadj  Odor_AgeAdj  PainIntens_RawScore  PainInterf_Tscore  \\\nSubject  ...                                                                    \n100004   ...      101.12        86.45                  2.0               45.9   \n100206   ...      108.79        97.19                  1.0               49.7   \n100307   ...      101.12        86.45                  0.0               38.6   \n100408   ...      108.79        98.04                  2.0               52.6   \n100610   ...      122.25       110.45                  0.0               38.6   \n...      ...         ...          ...                  ...                ...   \n992774   ...      122.25       111.41                  4.0               50.1   \n993675   ...      122.25       110.45                  0.0               38.6   \n994273   ...      122.25       111.41                  7.0               63.8   \n995174   ...       88.61        64.58                  3.0               50.1   \n996782   ...      108.79        97.19                  0.0               38.6   \n\n         Taste_Unadj  Taste_AgeAdj  Mars_Log_Score  Mars_Errs  Mars_Final  \\\nSubject                                                                     \n100004        107.17        105.31            1.80        0.0        1.80   \n100206         72.63         72.03            1.84        0.0        1.84   \n100307         71.69         71.76            1.76        0.0        1.76   \n100408        114.01        113.59            1.76        2.0        1.68   \n100610         84.84         85.31            1.92        1.0        1.88   \n...              ...           ...             ...        ...         ...   \n992774        107.17        103.55            1.76        0.0        1.76   \n993675         84.07         84.25            1.80        1.0        1.76   \n994273        110.65        109.73            1.80        1.0        1.76   \n995174        117.16        117.40            1.80        0.0        1.80   \n996782         75.43         73.72            1.84        0.0        1.84   \n\n          age  \nSubject        \n100004   23.5  \n100206   28.0  \n100307   28.0  \n100408   33.0  \n100610   28.0  \n...       ...  \n992774   33.0  \n993675   28.0  \n994273   28.0  \n995174   23.5  \n996782   28.0  \n\n[1206 rows x 582 columns]",
      "text/html": "<div>\n<style scoped>\n    .dataframe tbody tr th:only-of-type {\n        vertical-align: middle;\n    }\n\n    .dataframe tbody tr th {\n        vertical-align: top;\n    }\n\n    .dataframe thead th {\n        text-align: right;\n    }\n</style>\n<table border=\"1\" class=\"dataframe\">\n  <thead>\n    <tr style=\"text-align: right;\">\n      <th></th>\n      <th>Release</th>\n      <th>Acquisition</th>\n      <th>Gender</th>\n      <th>Age</th>\n      <th>3T_Full_MR_Compl</th>\n      <th>T1_Count</th>\n      <th>T2_Count</th>\n      <th>3T_RS-fMRI_Count</th>\n      <th>3T_RS-fMRI_PctCompl</th>\n      <th>3T_Full_Task_fMRI</th>\n      <th>...</th>\n      <th>Odor_Unadj</th>\n      <th>Odor_AgeAdj</th>\n      <th>PainIntens_RawScore</th>\n      <th>PainInterf_Tscore</th>\n      <th>Taste_Unadj</th>\n      <th>Taste_AgeAdj</th>\n      <th>Mars_Log_Score</th>\n      <th>Mars_Errs</th>\n      <th>Mars_Final</th>\n      <th>age</th>\n    </tr>\n    <tr>\n      <th>Subject</th>\n      <th></th>\n      <th></th>\n      <th></th>\n      <th></th>\n      <th></th>\n      <th></th>\n      <th></th>\n      <th></th>\n      <th></th>\n      <th></th>\n      <th></th>\n      <th></th>\n      <th></th>\n      <th></th>\n      <th></th>\n      <th></th>\n      <th></th>\n      <th></th>\n      <th></th>\n      <th></th>\n      <th></th>\n    </tr>\n  </thead>\n  <tbody>\n    <tr>\n      <th>100004</th>\n      <td>S900</td>\n      <td>Q06</td>\n      <td>M</td>\n      <td>22-25</td>\n      <td>False</td>\n      <td>0</td>\n      <td>0</td>\n      <td>0</td>\n      <td>0.0</td>\n      <td>False</td>\n      <td>...</td>\n      <td>101.12</td>\n      <td>86.45</td>\n      <td>2.0</td>\n      <td>45.9</td>\n      <td>107.17</td>\n      <td>105.31</td>\n      <td>1.80</td>\n      <td>0.0</td>\n      <td>1.80</td>\n      <td>23.5</td>\n    </tr>\n    <tr>\n      <th>100206</th>\n      <td>S900</td>\n      <td>Q11</td>\n      <td>M</td>\n      <td>26-30</td>\n      <td>True</td>\n      <td>1</td>\n      <td>1</td>\n      <td>4</td>\n      <td>100.0</td>\n      <td>True</td>\n      <td>...</td>\n      <td>108.79</td>\n      <td>97.19</td>\n      <td>1.0</td>\n      <td>49.7</td>\n      <td>72.63</td>\n      <td>72.03</td>\n      <td>1.84</td>\n      <td>0.0</td>\n      <td>1.84</td>\n      <td>28.0</td>\n    </tr>\n    <tr>\n      <th>100307</th>\n      <td>Q1</td>\n      <td>Q01</td>\n      <td>F</td>\n      <td>26-30</td>\n      <td>True</td>\n      <td>1</td>\n      <td>1</td>\n      <td>4</td>\n      <td>100.0</td>\n      <td>True</td>\n      <td>...</td>\n      <td>101.12</td>\n      <td>86.45</td>\n      <td>0.0</td>\n      <td>38.6</td>\n      <td>71.69</td>\n      <td>71.76</td>\n      <td>1.76</td>\n      <td>0.0</td>\n      <td>1.76</td>\n      <td>28.0</td>\n    </tr>\n    <tr>\n      <th>100408</th>\n      <td>Q3</td>\n      <td>Q03</td>\n      <td>M</td>\n      <td>31-35</td>\n      <td>True</td>\n      <td>1</td>\n      <td>1</td>\n      <td>4</td>\n      <td>100.0</td>\n      <td>True</td>\n      <td>...</td>\n      <td>108.79</td>\n      <td>98.04</td>\n      <td>2.0</td>\n      <td>52.6</td>\n      <td>114.01</td>\n      <td>113.59</td>\n      <td>1.76</td>\n      <td>2.0</td>\n      <td>1.68</td>\n      <td>33.0</td>\n    </tr>\n    <tr>\n      <th>100610</th>\n      <td>S900</td>\n      <td>Q08</td>\n      <td>M</td>\n      <td>26-30</td>\n      <td>True</td>\n      <td>2</td>\n      <td>1</td>\n      <td>4</td>\n      <td>100.0</td>\n      <td>True</td>\n      <td>...</td>\n      <td>122.25</td>\n      <td>110.45</td>\n      <td>0.0</td>\n      <td>38.6</td>\n      <td>84.84</td>\n      <td>85.31</td>\n      <td>1.92</td>\n      <td>1.0</td>\n      <td>1.88</td>\n      <td>28.0</td>\n    </tr>\n    <tr>\n      <th>...</th>\n      <td>...</td>\n      <td>...</td>\n      <td>...</td>\n      <td>...</td>\n      <td>...</td>\n      <td>...</td>\n      <td>...</td>\n      <td>...</td>\n      <td>...</td>\n      <td>...</td>\n      <td>...</td>\n      <td>...</td>\n      <td>...</td>\n      <td>...</td>\n      <td>...</td>\n      <td>...</td>\n      <td>...</td>\n      <td>...</td>\n      <td>...</td>\n      <td>...</td>\n      <td>...</td>\n    </tr>\n    <tr>\n      <th>992774</th>\n      <td>Q2</td>\n      <td>Q02</td>\n      <td>M</td>\n      <td>31-35</td>\n      <td>True</td>\n      <td>2</td>\n      <td>2</td>\n      <td>4</td>\n      <td>100.0</td>\n      <td>True</td>\n      <td>...</td>\n      <td>122.25</td>\n      <td>111.41</td>\n      <td>4.0</td>\n      <td>50.1</td>\n      <td>107.17</td>\n      <td>103.55</td>\n      <td>1.76</td>\n      <td>0.0</td>\n      <td>1.76</td>\n      <td>33.0</td>\n    </tr>\n    <tr>\n      <th>993675</th>\n      <td>S900</td>\n      <td>Q09</td>\n      <td>F</td>\n      <td>26-30</td>\n      <td>True</td>\n      <td>2</td>\n      <td>2</td>\n      <td>4</td>\n      <td>100.0</td>\n      <td>True</td>\n      <td>...</td>\n      <td>122.25</td>\n      <td>110.45</td>\n      <td>0.0</td>\n      <td>38.6</td>\n      <td>84.07</td>\n      <td>84.25</td>\n      <td>1.80</td>\n      <td>1.0</td>\n      <td>1.76</td>\n      <td>28.0</td>\n    </tr>\n    <tr>\n      <th>994273</th>\n      <td>S500</td>\n      <td>Q06</td>\n      <td>M</td>\n      <td>26-30</td>\n      <td>True</td>\n      <td>1</td>\n      <td>1</td>\n      <td>4</td>\n      <td>100.0</td>\n      <td>True</td>\n      <td>...</td>\n      <td>122.25</td>\n      <td>111.41</td>\n      <td>7.0</td>\n      <td>63.8</td>\n      <td>110.65</td>\n      <td>109.73</td>\n      <td>1.80</td>\n      <td>1.0</td>\n      <td>1.76</td>\n      <td>28.0</td>\n    </tr>\n    <tr>\n      <th>995174</th>\n      <td>S1200</td>\n      <td>Q13</td>\n      <td>M</td>\n      <td>22-25</td>\n      <td>False</td>\n      <td>1</td>\n      <td>1</td>\n      <td>2</td>\n      <td>0.0</td>\n      <td>True</td>\n      <td>...</td>\n      <td>88.61</td>\n      <td>64.58</td>\n      <td>3.0</td>\n      <td>50.1</td>\n      <td>117.16</td>\n      <td>117.40</td>\n      <td>1.80</td>\n      <td>0.0</td>\n      <td>1.80</td>\n      <td>23.5</td>\n    </tr>\n    <tr>\n      <th>996782</th>\n      <td>S900</td>\n      <td>Q08</td>\n      <td>F</td>\n      <td>26-30</td>\n      <td>True</td>\n      <td>2</td>\n      <td>2</td>\n      <td>4</td>\n      <td>100.0</td>\n      <td>True</td>\n      <td>...</td>\n      <td>108.79</td>\n      <td>97.19</td>\n      <td>0.0</td>\n      <td>38.6</td>\n      <td>75.43</td>\n      <td>73.72</td>\n      <td>1.84</td>\n      <td>0.0</td>\n      <td>1.84</td>\n      <td>28.0</td>\n    </tr>\n  </tbody>\n</table>\n<p>1206 rows × 582 columns</p>\n</div>"
     },
     "execution_count": 3,
     "metadata": {},
     "output_type": "execute_result"
    }
   ],
   "source": [
    "# HCP data can be obtained from the connectomeDB with special license\n",
    "# data is not part of this repository\n",
    "subjectIDs = pd.read_csv('data/hcp/subjectIDs.txt', header=None)\n",
    "\n",
    "netmats_pearson = pd.read_csv('data/hcp/netmats1_correlationZ.txt',\n",
    "                             sep=' ',\n",
    "                             header=None)\n",
    "netmats_pearson['ID'] = subjectIDs[0]\n",
    "netmats_pearson.set_index('ID', drop=True, inplace=True)\n",
    "\n",
    "\n",
    "netmats_parcor = pd.read_csv('data/hcp/netmats2_partial-correlation.txt',\n",
    "                             sep=' ',\n",
    "                             header=None)\n",
    "netmats_parcor['ID'] = subjectIDs[0]\n",
    "netmats_parcor.set_index('ID', drop=True, inplace=True)\n",
    "\n",
    "behavior = pd.read_csv('data/hcp/hcp1200_behavioral_data.csv')\n",
    "behavior = behavior.set_index('Subject', drop=True)\n",
    "\n",
    "# convert age to numeric\n",
    "age = []\n",
    "for s in behavior['Age']:\n",
    "    if s == '36+':\n",
    "        age.append(36)\n",
    "    else:\n",
    "        split = s.split(sep='-')\n",
    "        age.append(np.mean((float(split[0]), float(split[1]))))\n",
    "\n",
    "behavior['age'] = age\n",
    "behavior\n"
   ]
  },
  {
   "cell_type": "markdown",
   "metadata": {
    "ExecuteTime": {
     "end_time": "2021-07-31T17:57:39.453512Z",
     "start_time": "2021-07-31T17:57:39.441003Z"
    },
    "pycharm": {
     "name": "#%% md\n"
    }
   },
   "source": [
    "### Select target variable"
   ]
  },
  {
   "cell_type": "code",
   "execution_count": 4,
   "metadata": {
    "ExecuteTime": {
     "end_time": "2021-08-01T12:43:11.348485Z",
     "start_time": "2021-08-01T12:43:07.132838Z"
    },
    "pycharm": {
     "name": "#%%\n"
    }
   },
   "outputs": [
    {
     "data": {
      "text/plain": "<Figure size 432x288 with 1 Axes>",
      "image/png": "[encoded data removed]"
     },
     "metadata": {},
     "output_type": "display_data"
    }
   ],
   "source": [
    "##########################################################\n",
    "# change these\n",
    "target = 'PMAT24_A_CR' # fluid intelligence\n",
    "feature_data = netmats_parcor\n",
    "##########################################################\n",
    "\n",
    "sns.histplot(behavior[target], color='gray')\n",
    "plt.savefig('../fig/raw/emp_hcp_iq_nonnorm_hist.pdf')\n",
    "\n",
    "# it's a good practice to use pandas for merging, messing up subject order can be painful\n",
    "features = feature_data.columns\n",
    "df = behavior\n",
    "df = df.merge(feature_data, left_index=True, right_index=True, how='left')\n",
    "df = df.dropna(subset = [target] + features.values.tolist())\n",
    "y = df[target].values\n",
    "X = df[features].values"
   ]
  },
  {
   "cell_type": "markdown",
   "metadata": {
    "ExecuteTime": {
     "end_time": "2021-07-31T17:58:26.814045Z",
     "start_time": "2021-07-31T17:58:26.811341Z"
    },
    "pycharm": {
     "name": "#%% md\n"
    }
   },
   "source": [
    "### Normalize target"
   ]
  },
  {
   "cell_type": "code",
   "execution_count": 5,
   "metadata": {
    "ExecuteTime": {
     "end_time": "2021-08-01T12:43:11.757399Z",
     "start_time": "2021-08-01T12:43:11.351829Z"
    },
    "pycharm": {
     "name": "#%%\n"
    }
   },
   "outputs": [
    {
     "name": "stderr",
     "output_type": "stream",
     "text": [
      "/home/tspisak/src/RPN-signature/venv/lib/python3.8/site-packages/sklearn/preprocessing/_data.py:2612: UserWarning: n_quantiles (1000) is greater than the total number of samples (999). n_quantiles is set to n_samples.\n",
      "  warnings.warn(\"n_quantiles (%s) is greater than the total number \"\n"
     ]
    },
    {
     "data": {
      "text/plain": "<Figure size 432x288 with 1 Axes>",
      "image/png": "[encoded data removed]"
     },
     "metadata": {},
     "output_type": "display_data"
    }
   ],
   "source": [
    "rng = np.random.default_rng(42)\n",
    "y_trf = quantile_transform(np.array([y+rng.uniform(0,1,len(y))-0.5]).T, output_distribution='normal', n_quantiles=1000).flatten()\n",
    "\n",
    "sns.histplot(y_trf, color='gray')\n",
    "plt.savefig('../fig/raw/emp_hcp_iq_quanttrf_hist.pdf')\n",
    "\n",
    "kurtosis(y_trf), skew(y_trf)\n",
    "y=y_trf"
   ]
  },
  {
   "cell_type": "markdown",
   "metadata": {
    "ExecuteTime": {
     "end_time": "2021-07-31T17:58:55.155295Z",
     "start_time": "2021-07-31T17:58:55.151811Z"
    },
    "pycharm": {
     "name": "#%% md\n"
    }
   },
   "source": [
    "# Machine Learning on raw data"
   ]
  },
  {
   "cell_type": "code",
   "execution_count": 6,
   "metadata": {
    "ExecuteTime": {
     "end_time": "2021-08-01T12:43:11.765603Z",
     "start_time": "2021-08-01T12:43:11.760627Z"
    },
    "pycharm": {
     "name": "#%%\n"
    }
   },
   "outputs": [],
   "source": [
    "model = Pipeline([\n",
    "    ('varthr', VarianceThreshold(0)),   # omit zero variance columns (diagonal)\n",
    "    #('fsel', SelectKBest(f_regression)),\n",
    "    ('model', Ridge(max_iter=100000))])\n",
    "\n",
    "p_grid = {#'fsel__k': [500, 1000, 2000],\n",
    "          'model__alpha': [0.00001, 0.0001, 0.001, 0.01, 0.1, 1, 10, 100, 1000, 10000, 100000]}\n"
   ]
  },
  {
   "cell_type": "code",
   "execution_count": 7,
   "metadata": {
    "ExecuteTime": {
     "end_time": "2021-08-01T12:46:30.619416Z",
     "start_time": "2021-08-01T12:43:11.767453Z"
    },
    "pycharm": {
     "name": "#%%\n"
    }
   },
   "outputs": [
    {
     "name": "stdout",
     "output_type": "stream",
     "text": [
      "model\tinner_cv mean score\touter vc score\n",
      "cv: 0 {'model__alpha': 100000} -0.9199305094605629 -0.9786879290498208\n",
      "cv: 1 {'model__alpha': 100000} -0.9077079825659713 -1.0804186751948515\n",
      "cv: 2 {'model__alpha': 100000} -0.9331575065292255 -0.8310754278190696\n",
      "cv: 3 {'model__alpha': 10000} -0.8975912683493059 -1.1747262545033739\n",
      "cv: 4 {'model__alpha': 100000} -0.9269205642606616 -0.8765023704008668\n",
      "cv: 5 {'model__alpha': 100000} -0.9564344119011106 -0.6325980055959738\n",
      "cv: 6 {'model__alpha': 10000} -0.9092064303417258 -1.0547858952767655\n",
      "cv: 7 {'model__alpha': 100000} -0.9124024410173399 -0.9995504450415025\n",
      "cv: 8 {'model__alpha': 100000} -0.9055768764204947 -1.046954923971703\n",
      "cv: 9 {'model__alpha': 100000} -0.9442157525601786 -0.7378036764381557\n"
     ]
    }
   ],
   "source": [
    "# nested cv\n",
    "outer_cv = KFold(10)\n",
    "inner_cv = KFold(10)\n",
    "clf = GridSearchCV(estimator=model, param_grid=p_grid, cv=inner_cv,\n",
    "                   scoring=\"neg_mean_squared_error\", return_train_score=False,\n",
    "                   n_jobs=-1)\n",
    "\n",
    "all_models = []\n",
    "best_params = []\n",
    "predicted = np.zeros(len(y))\n",
    "nested_scores_train = np.zeros(outer_cv.get_n_splits(X))\n",
    "nested_scores_test = np.zeros(outer_cv.get_n_splits(X))\n",
    "\n",
    "print(\"model\\tinner_cv mean score\\touter vc score\")\n",
    "i=0\n",
    "for train, test in outer_cv.split(X, y):\n",
    "\n",
    "    clf.fit(X[train], y[train])\n",
    "\n",
    "    print('cv:', i, str(clf.best_params_) + \" \" + str(clf.best_score_) + \" \" + str(clf.score(X[test], y[test])))\n",
    "\n",
    "    all_models.append(clf.best_estimator_)\n",
    "    best_params.append(clf.best_params_)\n",
    "\n",
    "    predicted[test] = clf.predict(X[test])\n",
    "\n",
    "    nested_scores_train[i] = clf.best_score_\n",
    "    nested_scores_test[i] = clf.score(X[test], y[test])\n",
    "    i = i+1"
   ]
  },
  {
   "cell_type": "markdown",
   "metadata": {
    "ExecuteTime": {
     "end_time": "2021-07-31T17:59:28.540617Z",
     "start_time": "2021-07-31T17:59:28.536907Z"
    },
    "pycharm": {
     "name": "#%% md\n"
    }
   },
   "source": [
    "### Results (raw data)"
   ]
  },
  {
   "cell_type": "code",
   "execution_count": 8,
   "metadata": {
    "ExecuteTime": {
     "end_time": "2021-08-01T12:46:35.118658Z",
     "start_time": "2021-08-01T12:46:30.628840Z"
    },
    "pycharm": {
     "name": "#%%\n"
    }
   },
   "outputs": [
    {
     "name": "stdout",
     "output_type": "stream",
     "text": [
      "*** Score on mean as model:\t-1.0401469064852684\n",
      "** Mean score in the inner crossvaludation (inner_cv):\t-0.9213143743406578\n",
      "** Mean Nested Crossvalidation Score (outer_cv):\t-0.9413103603292082\n",
      "Explained Variance: 0.09502171812444837\n",
      "Correlation: 0.30794678318528035\n"
     ]
    },
    {
     "data": {
      "text/plain": "<Figure size 360x144 with 1 Axes>",
      "image/png": "[encoded data removed]"
     },
     "metadata": {},
     "output_type": "display_data"
    },
    {
     "data": {
      "text/plain": "<Figure size 360x144 with 1 Axes>",
      "image/png": "[encoded data removed]"
     },
     "metadata": {},
     "output_type": "display_data"
    }
   ],
   "source": [
    "print(\"*** Score on mean as model:\\t\" + str(-mean_squared_error(np.repeat(y.mean(), len(y)), y)))\n",
    "print(\"** Mean score in the inner crossvaludation (inner_cv):\\t\" + str(nested_scores_train.mean()))\n",
    "print(\"** Mean Nested Crossvalidation Score (outer_cv):\\t\" + str(nested_scores_test.mean()))\n",
    "print(\"Explained Variance: \" +  str( 1- nested_scores_test.mean()/-mean_squared_error(np.repeat(y.mean(), len(y)), y) ))\n",
    "print(\"Correlation: \" + str(np.corrcoef(y, predicted)[0,1]))\n",
    "\n",
    "plt.figure(figsize=(5,2))\n",
    "sns.regplot(x=y, y=predicted, scatter=False, color='gray')\n",
    "sns.scatterplot(x=y, y=predicted, hue=df.age, palette=sns.color_palette(\"coolwarm\", as_cmap=True), alpha=0.4)\n",
    "plt.savefig('../fig/raw/emp_hcp_age_raw_regplot.pdf')\n",
    "plt.show()\n",
    "\n",
    "plt.figure(figsize=(5,2))\n",
    "sns.regplot(x=y, y=predicted, scatter=False, color='gray')\n",
    "sns.scatterplot(x=y, y=predicted, hue=df.Acquisition.astype(\"category\").cat.codes.values,\n",
    "                palette=sns.color_palette(\"coolwarm\", as_cmap=True), alpha=0.4)\n",
    "plt.savefig('../fig/raw/emp_hcp_acq_raw_regplot.pdf')\n"
   ]
  },
  {
   "cell_type": "markdown",
   "metadata": {
    "ExecuteTime": {
     "end_time": "2021-07-31T18:00:09.490554Z",
     "start_time": "2021-07-31T18:00:09.486785Z"
    },
    "pycharm": {
     "name": "#%% md\n"
    }
   },
   "source": [
    "## Confound testing: age groups (raw)"
   ]
  },
  {
   "cell_type": "code",
   "execution_count": 9,
   "metadata": {
    "ExecuteTime": {
     "end_time": "2021-08-01T12:46:45.146084Z",
     "start_time": "2021-08-01T12:46:35.125796Z"
    },
    "pycharm": {
     "name": "#%%\n"
    }
   },
   "outputs": [
    {
     "name": "stderr",
     "output_type": "stream",
     "text": [
      "Permuting: 100%|██████████| 1000/1000 [00:01<00:00, 581.73it/s]\n"
     ]
    },
    {
     "data": {
      "text/plain": "<graphviz.dot.Graph at 0x7fdb387c57c0>",
      "image/svg+xml": "<?xml version=\"1.0\" encoding=\"UTF-8\" standalone=\"no\"?>\n<!DOCTYPE svg PUBLIC \"-//W3C//DTD SVG 1.1//EN\"\n \"http://www.w3.org/Graphics/SVG/1.1/DTD/svg11.dtd\">\n<!-- Generated by graphviz version 2.43.0 (0)\n -->\n<!-- Title: %3 Pages: 1 -->\n<svg width=\"403pt\" height=\"79pt\"\n viewBox=\"0.00 0.00 403.00 79.00\" xmlns=\"http://www.w3.org/2000/svg\" xmlns:xlink=\"http://www.w3.org/1999/xlink\">\n<g id=\"graph0\" class=\"graph\" transform=\"scale(1 1) rotate(0) translate(4 75)\">\n<title>%3</title>\n<polygon fill=\"white\" stroke=\"transparent\" points=\"-4,4 -4,-75 399,-75 399,4 -4,4\"/>\n<!-- c -->\n<g id=\"node1\" class=\"node\">\n<title>c</title>\n<ellipse fill=\"none\" stroke=\"black\" cx=\"27\" cy=\"-18\" rx=\"27\" ry=\"18\"/>\n<text text-anchor=\"middle\" x=\"27\" y=\"-14.3\" font-family=\"Times,serif\" font-size=\"14.00\">c</text>\n</g>\n<!-- y -->\n<g id=\"node2\" class=\"node\">\n<title>y</title>\n<ellipse fill=\"none\" stroke=\"black\" cx=\"197.5\" cy=\"-53\" rx=\"27\" ry=\"18\"/>\n<text text-anchor=\"middle\" x=\"197.5\" y=\"-49.3\" font-family=\"Times,serif\" font-size=\"14.00\">y</text>\n</g>\n<!-- c&#45;&#45;y -->\n<g id=\"edge2\" class=\"edge\">\n<title>c&#45;&#45;y</title>\n<path fill=\"none\" stroke=\"black\" d=\"M53.23,-23.24C85.08,-29.86 139.57,-41.17 171.38,-47.78\"/>\n<text text-anchor=\"middle\" x=\"92.5\" y=\"-38.8\" font-family=\"Times,serif\" font-size=\"14.00\">0.011</text>\n</g>\n<!-- yhat -->\n<g id=\"node3\" class=\"node\">\n<title>yhat</title>\n<ellipse fill=\"none\" stroke=\"black\" cx=\"368\" cy=\"-18\" rx=\"27\" ry=\"18\"/>\n<text text-anchor=\"start\" x=\"363.5\" y=\"-14.3\" font-family=\"Times,serif\" font-size=\"14.00\">ŷ</text>\n</g>\n<!-- c&#45;&#45;yhat -->\n<g id=\"edge1\" class=\"edge\">\n<title>c&#45;&#45;yhat</title>\n<path fill=\"none\" stroke=\"black\" stroke-dasharray=\"5,2\" d=\"M53.8,-15.76C74.61,-14.07 104.67,-11.89 131,-11 190.08,-8.99 204.92,-8.99 264,-11 290.33,-11.89 320.39,-14.07 341.2,-15.76\"/>\n<text text-anchor=\"middle\" x=\"197.5\" y=\"-14.8\" font-family=\"Times,serif\" font-size=\"14.00\">0.034 (p&lt;0.0001*)</text>\n</g>\n<!-- y&#45;&#45;yhat -->\n<g id=\"edge3\" class=\"edge\">\n<title>y&#45;&#45;yhat</title>\n<path fill=\"none\" stroke=\"black\" d=\"M223.73,-47.76C255.58,-41.14 310.07,-29.83 341.88,-23.22\"/>\n<text text-anchor=\"middle\" x=\"302.5\" y=\"-38.8\" font-family=\"Times,serif\" font-size=\"14.00\">0.095</text>\n</g>\n</g>\n</svg>\n"
     },
     "execution_count": 9,
     "metadata": {},
     "output_type": "execute_result"
    }
   ],
   "source": [
    "plot_graph(partial_confound_test(y, predicted, df['age'],\n",
    "                                     random_state=42), outfile_base='../fig/raw/emp_hcp_age_raw_partial')"
   ]
  },
  {
   "cell_type": "code",
   "execution_count": 10,
   "metadata": {
    "ExecuteTime": {
     "end_time": "2021-08-01T12:46:53.862711Z",
     "start_time": "2021-08-01T12:46:45.154913Z"
    },
    "pycharm": {
     "name": "#%%\n"
    }
   },
   "outputs": [
    {
     "name": "stderr",
     "output_type": "stream",
     "text": [
      "Permuting: 100%|██████████| 1000/1000 [00:01<00:00, 761.30it/s]\n"
     ]
    },
    {
     "data": {
      "text/plain": "<graphviz.dot.Graph at 0x7fdb919c7250>",
      "image/svg+xml": "<?xml version=\"1.0\" encoding=\"UTF-8\" standalone=\"no\"?>\n<!DOCTYPE svg PUBLIC \"-//W3C//DTD SVG 1.1//EN\"\n \"http://www.w3.org/Graphics/SVG/1.1/DTD/svg11.dtd\">\n<!-- Generated by graphviz version 2.43.0 (0)\n -->\n<!-- Title: %3 Pages: 1 -->\n<svg width=\"416pt\" height=\"79pt\"\n viewBox=\"0.00 0.00 416.00 79.00\" xmlns=\"http://www.w3.org/2000/svg\" xmlns:xlink=\"http://www.w3.org/1999/xlink\">\n<g id=\"graph0\" class=\"graph\" transform=\"scale(1 1) rotate(0) translate(4 75)\">\n<title>%3</title>\n<polygon fill=\"white\" stroke=\"transparent\" points=\"-4,4 -4,-75 412,-75 412,4 -4,4\"/>\n<!-- c -->\n<g id=\"node1\" class=\"node\">\n<title>c</title>\n<ellipse fill=\"none\" stroke=\"black\" cx=\"27\" cy=\"-18\" rx=\"27\" ry=\"18\"/>\n<text text-anchor=\"middle\" x=\"27\" y=\"-14.3\" font-family=\"Times,serif\" font-size=\"14.00\">c</text>\n</g>\n<!-- y -->\n<g id=\"node2\" class=\"node\">\n<title>y</title>\n<ellipse fill=\"none\" stroke=\"black\" cx=\"158\" cy=\"-53\" rx=\"27\" ry=\"18\"/>\n<text text-anchor=\"middle\" x=\"158\" y=\"-49.3\" font-family=\"Times,serif\" font-size=\"14.00\">y</text>\n</g>\n<!-- c&#45;&#45;y -->\n<g id=\"edge2\" class=\"edge\">\n<title>c&#45;&#45;y</title>\n<path fill=\"none\" stroke=\"black\" d=\"M52.26,-24.58C75.33,-30.84 109.82,-40.2 132.84,-46.45\"/>\n<text text-anchor=\"middle\" x=\"92.5\" y=\"-43.8\" font-family=\"Times,serif\" font-size=\"14.00\">0.011</text>\n</g>\n<!-- yhat -->\n<g id=\"node3\" class=\"node\">\n<title>yhat</title>\n<ellipse fill=\"none\" stroke=\"black\" cx=\"381\" cy=\"-18\" rx=\"27\" ry=\"18\"/>\n<text text-anchor=\"start\" x=\"376.5\" y=\"-14.3\" font-family=\"Times,serif\" font-size=\"14.00\">ŷ</text>\n</g>\n<!-- c&#45;&#45;yhat -->\n<g id=\"edge1\" class=\"edge\">\n<title>c&#45;&#45;yhat</title>\n<path fill=\"none\" stroke=\"black\" d=\"M53.8,-15.76C74.61,-14.07 104.67,-11.89 131,-11 212.26,-8.24 308.45,-13.31 353.83,-16.2\"/>\n<text text-anchor=\"middle\" x=\"158\" y=\"-14.8\" font-family=\"Times,serif\" font-size=\"14.00\">0.034</text>\n</g>\n<!-- y&#45;&#45;yhat -->\n<g id=\"edge3\" class=\"edge\">\n<title>y&#45;&#45;yhat</title>\n<path fill=\"none\" stroke=\"black\" stroke-dasharray=\"5,2\" d=\"M184.35,-48.99C226.87,-42.25 312.06,-28.76 354.6,-22.02\"/>\n<text text-anchor=\"middle\" x=\"269.5\" y=\"-48.8\" font-family=\"Times,serif\" font-size=\"14.00\">0.095 (p&lt;0.0001*)</text>\n</g>\n</g>\n</svg>\n"
     },
     "execution_count": 10,
     "metadata": {},
     "output_type": "execute_result"
    }
   ],
   "source": [
    "plot_graph(full_confound_test(y, predicted, df['age'],\n",
    "                                random_state=42), outfile_base='../fig/raw/emp_hcp_age_raw_full')"
   ]
  },
  {
   "cell_type": "code",
   "execution_count": 11,
   "outputs": [
    {
     "name": "stdout",
     "output_type": "stream",
     "text": [
      "0.03376435760825214\n"
     ]
    },
    {
     "data": {
      "text/plain": "0.0"
     },
     "execution_count": 11,
     "metadata": {},
     "output_type": "execute_result"
    }
   ],
   "source": [
    "nulldist = []\n",
    "unpermuted = _r2_cont_cont(predicted, df['age'])\n",
    "\n",
    "print(unpermuted)\n",
    "\n",
    "for i in range(1000):\n",
    "    yperm = np.random.permutation(predicted)\n",
    "    nulldist.append(_r2_cont_cont(yperm, df['age']))\n",
    "(nulldist >= unpermuted).sum()/len(nulldist)"
   ],
   "metadata": {
    "collapsed": false,
    "pycharm": {
     "name": "#%%\n"
    }
   }
  },
  {
   "cell_type": "code",
   "execution_count": 12,
   "outputs": [
    {
     "name": "stdout",
     "output_type": "stream",
     "text": [
      "0.09483122127416206\n"
     ]
    },
    {
     "data": {
      "text/plain": "0.0"
     },
     "execution_count": 12,
     "metadata": {},
     "output_type": "execute_result"
    }
   ],
   "source": [
    "nulldist = []\n",
    "unpermuted = _r2_cont_cont(y, predicted)\n",
    "\n",
    "print(unpermuted)\n",
    "\n",
    "for i in range(1000):\n",
    "    yperm = np.random.\\\n",
    "        permutation(predicted)\n",
    "    nulldist.append(_r2_cont_cont(y, yperm))\n",
    "(nulldist >= unpermuted).sum()/len(nulldist)\n"
   ],
   "metadata": {
    "collapsed": false,
    "pycharm": {
     "name": "#%%\n"
    }
   }
  },
  {
   "cell_type": "markdown",
   "metadata": {
    "pycharm": {
     "name": "#%% md\n"
    }
   },
   "source": [
    "## Confound testing: acquisition batch (raw)"
   ]
  },
  {
   "cell_type": "code",
   "execution_count": 13,
   "metadata": {
    "ExecuteTime": {
     "end_time": "2021-08-01T12:47:10.084704Z",
     "start_time": "2021-08-01T12:46:53.868101Z"
    },
    "pycharm": {
     "name": "#%%\n"
    }
   },
   "outputs": [
    {
     "name": "stderr",
     "output_type": "stream",
     "text": [
      "Permuting: 100%|██████████| 1000/1000 [00:02<00:00, 411.15it/s]\n"
     ]
    },
    {
     "data": {
      "text/plain": "<graphviz.dot.Graph at 0x7fdb22679f10>",
      "image/svg+xml": "<?xml version=\"1.0\" encoding=\"UTF-8\" standalone=\"no\"?>\n<!DOCTYPE svg PUBLIC \"-//W3C//DTD SVG 1.1//EN\"\n \"http://www.w3.org/Graphics/SVG/1.1/DTD/svg11.dtd\">\n<!-- Generated by graphviz version 2.43.0 (0)\n -->\n<!-- Title: %3 Pages: 1 -->\n<svg width=\"403pt\" height=\"79pt\"\n viewBox=\"0.00 0.00 403.00 79.00\" xmlns=\"http://www.w3.org/2000/svg\" xmlns:xlink=\"http://www.w3.org/1999/xlink\">\n<g id=\"graph0\" class=\"graph\" transform=\"scale(1 1) rotate(0) translate(4 75)\">\n<title>%3</title>\n<polygon fill=\"white\" stroke=\"transparent\" points=\"-4,4 -4,-75 399,-75 399,4 -4,4\"/>\n<!-- c -->\n<g id=\"node1\" class=\"node\">\n<title>c</title>\n<ellipse fill=\"none\" stroke=\"black\" cx=\"27\" cy=\"-18\" rx=\"27\" ry=\"18\"/>\n<text text-anchor=\"middle\" x=\"27\" y=\"-14.3\" font-family=\"Times,serif\" font-size=\"14.00\">c</text>\n</g>\n<!-- y -->\n<g id=\"node2\" class=\"node\">\n<title>y</title>\n<ellipse fill=\"none\" stroke=\"black\" cx=\"197.5\" cy=\"-53\" rx=\"27\" ry=\"18\"/>\n<text text-anchor=\"middle\" x=\"197.5\" y=\"-49.3\" font-family=\"Times,serif\" font-size=\"14.00\">y</text>\n</g>\n<!-- c&#45;&#45;y -->\n<g id=\"edge2\" class=\"edge\">\n<title>c&#45;&#45;y</title>\n<path fill=\"none\" stroke=\"black\" d=\"M53.23,-23.24C85.08,-29.86 139.57,-41.17 171.38,-47.78\"/>\n<text text-anchor=\"middle\" x=\"92.5\" y=\"-38.8\" font-family=\"Times,serif\" font-size=\"14.00\">0.032</text>\n</g>\n<!-- yhat -->\n<g id=\"node3\" class=\"node\">\n<title>yhat</title>\n<ellipse fill=\"none\" stroke=\"black\" cx=\"368\" cy=\"-18\" rx=\"27\" ry=\"18\"/>\n<text text-anchor=\"start\" x=\"363.5\" y=\"-14.3\" font-family=\"Times,serif\" font-size=\"14.00\">ŷ</text>\n</g>\n<!-- c&#45;&#45;yhat -->\n<g id=\"edge1\" class=\"edge\">\n<title>c&#45;&#45;yhat</title>\n<path fill=\"none\" stroke=\"black\" stroke-dasharray=\"5,2\" d=\"M53.8,-15.76C74.61,-14.07 104.67,-11.89 131,-11 190.08,-8.99 204.92,-8.99 264,-11 290.33,-11.89 320.39,-14.07 341.2,-15.76\"/>\n<text text-anchor=\"middle\" x=\"197.5\" y=\"-14.8\" font-family=\"Times,serif\" font-size=\"14.00\">0.071 (p&lt;0.0001*)</text>\n</g>\n<!-- y&#45;&#45;yhat -->\n<g id=\"edge3\" class=\"edge\">\n<title>y&#45;&#45;yhat</title>\n<path fill=\"none\" stroke=\"black\" d=\"M223.73,-47.76C255.58,-41.14 310.07,-29.83 341.88,-23.22\"/>\n<text text-anchor=\"middle\" x=\"302.5\" y=\"-38.8\" font-family=\"Times,serif\" font-size=\"14.00\">0.095</text>\n</g>\n</g>\n</svg>\n"
     },
     "execution_count": 13,
     "metadata": {},
     "output_type": "execute_result"
    }
   ],
   "source": [
    "plot_graph(partial_confound_test(y, predicted, pd.Categorical(df['Acquisition'].values).codes, cat_c=True,\n",
    "                                     random_state=42), outfile_base='../fig/raw/emp_hcp_acq_raw_partial')"
   ]
  },
  {
   "cell_type": "code",
   "execution_count": 14,
   "metadata": {
    "ExecuteTime": {
     "end_time": "2021-08-01T12:47:17.687890Z",
     "start_time": "2021-08-01T12:47:10.089889Z"
    },
    "pycharm": {
     "name": "#%%\n"
    }
   },
   "outputs": [
    {
     "name": "stderr",
     "output_type": "stream",
     "text": [
      "Permuting: 100%|██████████| 1000/1000 [00:01<00:00, 759.05it/s]\n"
     ]
    },
    {
     "data": {
      "text/plain": "<graphviz.dot.Graph at 0x7fdb91a30b20>",
      "image/svg+xml": "<?xml version=\"1.0\" encoding=\"UTF-8\" standalone=\"no\"?>\n<!DOCTYPE svg PUBLIC \"-//W3C//DTD SVG 1.1//EN\"\n \"http://www.w3.org/Graphics/SVG/1.1/DTD/svg11.dtd\">\n<!-- Generated by graphviz version 2.43.0 (0)\n -->\n<!-- Title: %3 Pages: 1 -->\n<svg width=\"416pt\" height=\"79pt\"\n viewBox=\"0.00 0.00 416.00 79.00\" xmlns=\"http://www.w3.org/2000/svg\" xmlns:xlink=\"http://www.w3.org/1999/xlink\">\n<g id=\"graph0\" class=\"graph\" transform=\"scale(1 1) rotate(0) translate(4 75)\">\n<title>%3</title>\n<polygon fill=\"white\" stroke=\"transparent\" points=\"-4,4 -4,-75 412,-75 412,4 -4,4\"/>\n<!-- c -->\n<g id=\"node1\" class=\"node\">\n<title>c</title>\n<ellipse fill=\"none\" stroke=\"black\" cx=\"27\" cy=\"-18\" rx=\"27\" ry=\"18\"/>\n<text text-anchor=\"middle\" x=\"27\" y=\"-14.3\" font-family=\"Times,serif\" font-size=\"14.00\">c</text>\n</g>\n<!-- y -->\n<g id=\"node2\" class=\"node\">\n<title>y</title>\n<ellipse fill=\"none\" stroke=\"black\" cx=\"158\" cy=\"-53\" rx=\"27\" ry=\"18\"/>\n<text text-anchor=\"middle\" x=\"158\" y=\"-49.3\" font-family=\"Times,serif\" font-size=\"14.00\">y</text>\n</g>\n<!-- c&#45;&#45;y -->\n<g id=\"edge2\" class=\"edge\">\n<title>c&#45;&#45;y</title>\n<path fill=\"none\" stroke=\"black\" d=\"M52.26,-24.58C75.33,-30.84 109.82,-40.2 132.84,-46.45\"/>\n<text text-anchor=\"middle\" x=\"92.5\" y=\"-43.8\" font-family=\"Times,serif\" font-size=\"14.00\">0.032</text>\n</g>\n<!-- yhat -->\n<g id=\"node3\" class=\"node\">\n<title>yhat</title>\n<ellipse fill=\"none\" stroke=\"black\" cx=\"381\" cy=\"-18\" rx=\"27\" ry=\"18\"/>\n<text text-anchor=\"start\" x=\"376.5\" y=\"-14.3\" font-family=\"Times,serif\" font-size=\"14.00\">ŷ</text>\n</g>\n<!-- c&#45;&#45;yhat -->\n<g id=\"edge1\" class=\"edge\">\n<title>c&#45;&#45;yhat</title>\n<path fill=\"none\" stroke=\"black\" d=\"M53.8,-15.76C74.61,-14.07 104.67,-11.89 131,-11 212.26,-8.24 308.45,-13.31 353.83,-16.2\"/>\n<text text-anchor=\"middle\" x=\"158\" y=\"-14.8\" font-family=\"Times,serif\" font-size=\"14.00\">0.071</text>\n</g>\n<!-- y&#45;&#45;yhat -->\n<g id=\"edge3\" class=\"edge\">\n<title>y&#45;&#45;yhat</title>\n<path fill=\"none\" stroke=\"black\" stroke-dasharray=\"5,2\" d=\"M184.35,-48.99C226.87,-42.25 312.06,-28.76 354.6,-22.02\"/>\n<text text-anchor=\"middle\" x=\"269.5\" y=\"-48.8\" font-family=\"Times,serif\" font-size=\"14.00\">0.095 (p&lt;0.0001*)</text>\n</g>\n</g>\n</svg>\n"
     },
     "execution_count": 14,
     "metadata": {},
     "output_type": "execute_result"
    }
   ],
   "source": [
    "plot_graph(full_confound_test(y, predicted, pd.Categorical(df['Acquisition'].values).codes, cat_c=True,\n",
    "                                random_state=42), outfile_base='../fig/raw/emp_hcp_acq_raw_full')"
   ]
  },
  {
   "cell_type": "code",
   "execution_count": 15,
   "outputs": [
    {
     "name": "stdout",
     "output_type": "stream",
     "text": [
      "0.07074436756038216\n"
     ]
    },
    {
     "data": {
      "text/plain": "0.0"
     },
     "execution_count": 15,
     "metadata": {},
     "output_type": "execute_result"
    }
   ],
   "source": [
    "nulldist = []\n",
    "unpermuted = _r2_cat_cont(pd.Categorical(df['Acquisition'].values).codes, predicted)\n",
    "\n",
    "print(unpermuted)\n",
    "\n",
    "for i in range(1000):\n",
    "    yperm = np.random.permutation(predicted)\n",
    "    nulldist.append(_r2_cat_cont(pd.Categorical(df['Acquisition'].values).codes, yperm))\n",
    "(nulldist >= unpermuted).sum()/len(nulldist)\n"
   ],
   "metadata": {
    "collapsed": false,
    "pycharm": {
     "name": "#%%\n"
    }
   }
  },
  {
   "cell_type": "code",
   "execution_count": 16,
   "outputs": [
    {
     "name": "stdout",
     "output_type": "stream",
     "text": [
      "0.09483122127416206\n"
     ]
    },
    {
     "data": {
      "text/plain": "0.0"
     },
     "execution_count": 16,
     "metadata": {},
     "output_type": "execute_result"
    }
   ],
   "source": [
    "nulldist = []\n",
    "unpermuted = _r2_cont_cont(y, predicted)\n",
    "\n",
    "print(unpermuted)\n",
    "\n",
    "for i in range(1000):\n",
    "    yperm = np.random.\\\n",
    "        permutation(predicted)\n",
    "    nulldist.append(_r2_cont_cont(y, yperm))\n",
    "(nulldist >= unpermuted).sum()/len(nulldist)"
   ],
   "metadata": {
    "collapsed": false,
    "pycharm": {
     "name": "#%%\n"
    }
   }
  },
  {
   "cell_type": "markdown",
   "metadata": {
    "pycharm": {
     "name": "#%% md\n"
    }
   },
   "source": [
    "# Regress out confounder from features"
   ]
  },
  {
   "cell_type": "code",
   "execution_count": 17,
   "metadata": {
    "ExecuteTime": {
     "end_time": "2021-08-01T12:50:33.907548Z",
     "start_time": "2021-08-01T12:47:46.089537Z"
    },
    "pycharm": {
     "name": "#%%\n"
    }
   },
   "outputs": [
    {
     "name": "stdout",
     "output_type": "stream",
     "text": [
      "model\tinner_cv mean score\touter vc score\n",
      "Fitting 10 folds for each of 11 candidates, totalling 110 fits\n",
      "cv: 0 {'model__alpha': 100000} -0.9343709996113784 -0.9811952454483837\n",
      "Fitting 10 folds for each of 11 candidates, totalling 110 fits\n",
      "cv: 1 {'model__alpha': 100000} -0.9164719339351445 -1.1021592131468385\n",
      "Fitting 10 folds for each of 11 candidates, totalling 110 fits\n",
      "cv: 2 {'model__alpha': 100000} -0.9439284847515538 -0.8501259588494416\n",
      "Fitting 10 folds for each of 11 candidates, totalling 110 fits\n",
      "cv: 3 {'model__alpha': 100000} -0.9113730300595222 -1.0897317303916907\n",
      "Fitting 10 folds for each of 11 candidates, totalling 110 fits\n",
      "cv: 4 {'model__alpha': 100000} -0.9386505242865779 -0.8891496950580395\n",
      "Fitting 10 folds for each of 11 candidates, totalling 110 fits\n",
      "cv: 5 {'model__alpha': 100000} -0.9714311277890342 -0.63267816889349\n",
      "Fitting 10 folds for each of 11 candidates, totalling 110 fits\n",
      "cv: 6 {'model__alpha': 100000} -0.9267976865702862 -0.9615573146336034\n",
      "Fitting 10 folds for each of 11 candidates, totalling 110 fits\n",
      "cv: 7 {'model__alpha': 100000} -0.9202389426960783 -1.0279842649878161\n",
      "Fitting 10 folds for each of 11 candidates, totalling 110 fits\n",
      "cv: 8 {'model__alpha': 100000} -0.919485163556811 -1.0416620131256096\n",
      "Fitting 10 folds for each of 11 candidates, totalling 110 fits\n",
      "cv: 9 {'model__alpha': 100000} -0.9542090213706814 -0.7508881792781792\n"
     ]
    }
   ],
   "source": [
    "# nested cv\n",
    "outer_cv = KFold(10)\n",
    "inner_cv = KFold(10)\n",
    "clf = GridSearchCV(estimator=model, param_grid=p_grid, cv=inner_cv,\n",
    "                   scoring=\"neg_mean_squared_error\", verbose=True, return_train_score=False,\n",
    "                   n_jobs=-1)\n",
    "\n",
    "all_models = []\n",
    "best_params = []\n",
    "predicted = np.zeros(len(y))\n",
    "nested_scores_train = np.zeros(outer_cv.get_n_splits(X))\n",
    "nested_scores_test = np.zeros(outer_cv.get_n_splits(X))\n",
    "\n",
    "print(\"model\\tinner_cv mean score\\touter vc score\")\n",
    "ii=0\n",
    "for train, test in outer_cv.split(X, y):\n",
    "\n",
    "    # regress out within the cv\n",
    "    X_adj = np.zeros_like(X)\n",
    "    for i in range(X.shape[1]):\n",
    "        tmp = pd.DataFrame({\n",
    "            'age': df.age.values[train],\n",
    "            'y': X[train,i]\n",
    "        })\n",
    "\n",
    "        OLS_model = ols_f(\"y ~ age\", tmp).fit()\n",
    "        X_adj[train, i] = OLS_model.resid\n",
    "\n",
    "        tmp2 = pd.DataFrame({\n",
    "            'age': df.age.values[test]\n",
    "        })\n",
    "        X_adj[test, i] = X[test,i] - OLS_model.predict(tmp2)\n",
    "\n",
    "    clf.fit(X_adj[train], y[train])\n",
    "\n",
    "    print('cv:', ii, str(clf.best_params_) + \" \" + str(clf.best_score_) + \" \" + str(clf.score(X_adj[test], y[test])))\n",
    "\n",
    "    all_models.append(clf.best_estimator_)\n",
    "    best_params.append(clf.best_params_)\n",
    "\n",
    "    predicted[test] = clf.predict(X_adj[test])\n",
    "\n",
    "    nested_scores_train[ii] = clf.best_score_\n",
    "    nested_scores_test[ii] = clf.score(X_adj[test], y[test])\n",
    "    ii = ii+1"
   ]
  },
  {
   "cell_type": "markdown",
   "metadata": {
    "pycharm": {
     "name": "#%% md\n"
    }
   },
   "source": [
    "## Results (feature regression)"
   ]
  },
  {
   "cell_type": "code",
   "execution_count": 18,
   "metadata": {
    "ExecuteTime": {
     "end_time": "2021-08-01T12:50:35.239315Z",
     "start_time": "2021-08-01T12:50:33.912296Z"
    },
    "pycharm": {
     "name": "#%%\n"
    }
   },
   "outputs": [
    {
     "name": "stdout",
     "output_type": "stream",
     "text": [
      "*** Score on mean as model:\t-1.0401469064852684\n",
      "** Mean score in the inner crossvaludation (inner_cv):\t-0.9336956914627068\n",
      "** Mean Nested Crossvalidation Score (outer_cv):\t-0.9327131783813092\n",
      "Explained Variance: 0.10328707169546425\n",
      "Correlation: 0.3432823263112662\n"
     ]
    },
    {
     "data": {
      "text/plain": "<Figure size 360x144 with 1 Axes>",
      "image/png": "[encoded data removed]"
     },
     "metadata": {},
     "output_type": "display_data"
    }
   ],
   "source": [
    "print(\"*** Score on mean as model:\\t\" + str(-mean_squared_error(np.repeat(y.mean(), len(y)), y)))\n",
    "print(\"** Mean score in the inner crossvaludation (inner_cv):\\t\" + str(nested_scores_train.mean()))\n",
    "print(\"** Mean Nested Crossvalidation Score (outer_cv):\\t\" + str(nested_scores_test.mean()))\n",
    "print(\"Explained Variance: \" +  str( 1- nested_scores_test.mean()/-mean_squared_error(np.repeat(y.mean(), len(y)), y) ))\n",
    "print(\"Correlation: \" + str(np.corrcoef(y, predicted)[0,1]))\n",
    "\n",
    "plt.figure(figsize=(5,2))\n",
    "sns.regplot(x=y, y=predicted, scatter=False, color='gray')\n",
    "sns.scatterplot(x=y, y=predicted, hue=df.age, palette=sns.color_palette(\"coolwarm\", as_cmap=True), alpha=0.4)\n",
    "plt.savefig('../fig/raw/emp_hcp_age_reg_regplot.pdf')"
   ]
  },
  {
   "cell_type": "markdown",
   "metadata": {
    "pycharm": {
     "name": "#%% md\n"
    }
   },
   "source": [
    "#### Confound test (feature regression)"
   ]
  },
  {
   "cell_type": "code",
   "execution_count": 19,
   "metadata": {
    "ExecuteTime": {
     "end_time": "2021-08-01T12:50:41.963426Z",
     "start_time": "2021-08-01T12:50:35.243799Z"
    },
    "pycharm": {
     "name": "#%%\n"
    }
   },
   "outputs": [
    {
     "name": "stderr",
     "output_type": "stream",
     "text": [
      "Permuting: 100%|██████████| 1000/1000 [00:01<00:00, 801.47it/s]\n"
     ]
    },
    {
     "data": {
      "text/plain": "<graphviz.dot.Graph at 0x7fdb23833a90>",
      "image/svg+xml": "<?xml version=\"1.0\" encoding=\"UTF-8\" standalone=\"no\"?>\n<!DOCTYPE svg PUBLIC \"-//W3C//DTD SVG 1.1//EN\"\n \"http://www.w3.org/Graphics/SVG/1.1/DTD/svg11.dtd\">\n<!-- Generated by graphviz version 2.43.0 (0)\n -->\n<!-- Title: %3 Pages: 1 -->\n<svg width=\"361pt\" height=\"79pt\"\n viewBox=\"0.00 0.00 361.00 79.00\" xmlns=\"http://www.w3.org/2000/svg\" xmlns:xlink=\"http://www.w3.org/1999/xlink\">\n<g id=\"graph0\" class=\"graph\" transform=\"scale(1 1) rotate(0) translate(4 75)\">\n<title>%3</title>\n<polygon fill=\"white\" stroke=\"transparent\" points=\"-4,4 -4,-75 357,-75 357,4 -4,4\"/>\n<!-- c -->\n<g id=\"node1\" class=\"node\">\n<title>c</title>\n<ellipse fill=\"none\" stroke=\"black\" cx=\"27\" cy=\"-18\" rx=\"27\" ry=\"18\"/>\n<text text-anchor=\"middle\" x=\"27\" y=\"-14.3\" font-family=\"Times,serif\" font-size=\"14.00\">c</text>\n</g>\n<!-- y -->\n<g id=\"node2\" class=\"node\">\n<title>y</title>\n<ellipse fill=\"none\" stroke=\"black\" cx=\"176.5\" cy=\"-53\" rx=\"27\" ry=\"18\"/>\n<text text-anchor=\"middle\" x=\"176.5\" y=\"-49.3\" font-family=\"Times,serif\" font-size=\"14.00\">y</text>\n</g>\n<!-- c&#45;&#45;y -->\n<g id=\"edge2\" class=\"edge\">\n<title>c&#45;&#45;y</title>\n<path fill=\"none\" stroke=\"black\" d=\"M52.69,-23.86C79.92,-30.32 123.47,-40.65 150.73,-47.12\"/>\n<text text-anchor=\"middle\" x=\"92.5\" y=\"-40.8\" font-family=\"Times,serif\" font-size=\"14.00\">0.011</text>\n</g>\n<!-- yhat -->\n<g id=\"node3\" class=\"node\">\n<title>yhat</title>\n<ellipse fill=\"none\" stroke=\"black\" cx=\"326\" cy=\"-18\" rx=\"27\" ry=\"18\"/>\n<text text-anchor=\"start\" x=\"321.5\" y=\"-14.3\" font-family=\"Times,serif\" font-size=\"14.00\">ŷ</text>\n</g>\n<!-- c&#45;&#45;yhat -->\n<g id=\"edge1\" class=\"edge\">\n<title>c&#45;&#45;yhat</title>\n<path fill=\"none\" stroke=\"black\" stroke-dasharray=\"5,2\" d=\"M53.8,-15.76C74.61,-14.07 104.67,-11.89 131,-11 171.42,-9.63 181.58,-9.63 222,-11 248.33,-11.89 278.39,-14.07 299.2,-15.76\"/>\n<text text-anchor=\"middle\" x=\"176.5\" y=\"-14.8\" font-family=\"Times,serif\" font-size=\"14.00\">0.0 (p=0.95)</text>\n</g>\n<!-- y&#45;&#45;yhat -->\n<g id=\"edge3\" class=\"edge\">\n<title>y&#45;&#45;yhat</title>\n<path fill=\"none\" stroke=\"black\" d=\"M202.19,-47.14C229.42,-40.68 272.97,-30.35 300.23,-23.88\"/>\n<text text-anchor=\"middle\" x=\"260.5\" y=\"-40.8\" font-family=\"Times,serif\" font-size=\"14.00\">0.118</text>\n</g>\n</g>\n</svg>\n"
     },
     "execution_count": 19,
     "metadata": {},
     "output_type": "execute_result"
    }
   ],
   "source": [
    "plot_graph(partial_confound_test(y, predicted, df['age'], random_state=42),\n",
    "          outfile_base='../fig/raw/emp_hcp_age_reg_partial')"
   ]
  },
  {
   "cell_type": "code",
   "execution_count": 20,
   "metadata": {
    "ExecuteTime": {
     "end_time": "2021-08-01T12:50:48.180928Z",
     "start_time": "2021-08-01T12:50:41.966080Z"
    },
    "pycharm": {
     "name": "#%%\n"
    }
   },
   "outputs": [
    {
     "name": "stderr",
     "output_type": "stream",
     "text": [
      "Permuting: 100%|██████████| 1000/1000 [00:01<00:00, 742.68it/s]\n"
     ]
    },
    {
     "data": {
      "text/plain": "<graphviz.dot.Graph at 0x7fdb91917e80>",
      "image/svg+xml": "<?xml version=\"1.0\" encoding=\"UTF-8\" standalone=\"no\"?>\n<!DOCTYPE svg PUBLIC \"-//W3C//DTD SVG 1.1//EN\"\n \"http://www.w3.org/Graphics/SVG/1.1/DTD/svg11.dtd\">\n<!-- Generated by graphviz version 2.43.0 (0)\n -->\n<!-- Title: %3 Pages: 1 -->\n<svg width=\"416pt\" height=\"79pt\"\n viewBox=\"0.00 0.00 416.00 79.00\" xmlns=\"http://www.w3.org/2000/svg\" xmlns:xlink=\"http://www.w3.org/1999/xlink\">\n<g id=\"graph0\" class=\"graph\" transform=\"scale(1 1) rotate(0) translate(4 75)\">\n<title>%3</title>\n<polygon fill=\"white\" stroke=\"transparent\" points=\"-4,4 -4,-75 412,-75 412,4 -4,4\"/>\n<!-- c -->\n<g id=\"node1\" class=\"node\">\n<title>c</title>\n<ellipse fill=\"none\" stroke=\"black\" cx=\"27\" cy=\"-18\" rx=\"27\" ry=\"18\"/>\n<text text-anchor=\"middle\" x=\"27\" y=\"-14.3\" font-family=\"Times,serif\" font-size=\"14.00\">c</text>\n</g>\n<!-- y -->\n<g id=\"node2\" class=\"node\">\n<title>y</title>\n<ellipse fill=\"none\" stroke=\"black\" cx=\"158\" cy=\"-53\" rx=\"27\" ry=\"18\"/>\n<text text-anchor=\"middle\" x=\"158\" y=\"-49.3\" font-family=\"Times,serif\" font-size=\"14.00\">y</text>\n</g>\n<!-- c&#45;&#45;y -->\n<g id=\"edge2\" class=\"edge\">\n<title>c&#45;&#45;y</title>\n<path fill=\"none\" stroke=\"black\" d=\"M52.26,-24.58C75.33,-30.84 109.82,-40.2 132.84,-46.45\"/>\n<text text-anchor=\"middle\" x=\"92.5\" y=\"-43.8\" font-family=\"Times,serif\" font-size=\"14.00\">0.011</text>\n</g>\n<!-- yhat -->\n<g id=\"node3\" class=\"node\">\n<title>yhat</title>\n<ellipse fill=\"none\" stroke=\"black\" cx=\"381\" cy=\"-18\" rx=\"27\" ry=\"18\"/>\n<text text-anchor=\"start\" x=\"376.5\" y=\"-14.3\" font-family=\"Times,serif\" font-size=\"14.00\">ŷ</text>\n</g>\n<!-- c&#45;&#45;yhat -->\n<g id=\"edge1\" class=\"edge\">\n<title>c&#45;&#45;yhat</title>\n<path fill=\"none\" stroke=\"black\" d=\"M53.8,-15.76C74.61,-14.07 104.67,-11.89 131,-11 212.26,-8.24 308.45,-13.31 353.83,-16.2\"/>\n<text text-anchor=\"middle\" x=\"158\" y=\"-14.8\" font-family=\"Times,serif\" font-size=\"14.00\">0.0</text>\n</g>\n<!-- y&#45;&#45;yhat -->\n<g id=\"edge3\" class=\"edge\">\n<title>y&#45;&#45;yhat</title>\n<path fill=\"none\" stroke=\"black\" stroke-dasharray=\"5,2\" d=\"M184.35,-48.99C226.87,-42.25 312.06,-28.76 354.6,-22.02\"/>\n<text text-anchor=\"middle\" x=\"269.5\" y=\"-48.8\" font-family=\"Times,serif\" font-size=\"14.00\">0.118 (p&lt;0.0001*)</text>\n</g>\n</g>\n</svg>\n"
     },
     "execution_count": 20,
     "metadata": {},
     "output_type": "execute_result"
    }
   ],
   "source": [
    "plot_graph(full_confound_test(y, predicted, df['age'], random_state=42),\n",
    "           outfile_base='../fig/raw/emp_hcp_age_reg_full')"
   ]
  },
  {
   "cell_type": "code",
   "execution_count": 21,
   "outputs": [
    {
     "name": "stdout",
     "output_type": "stream",
     "text": [
      "7.0800062273005525e-06\n"
     ]
    },
    {
     "data": {
      "text/plain": "0.923"
     },
     "execution_count": 21,
     "metadata": {},
     "output_type": "execute_result"
    }
   ],
   "source": [
    "nulldist = []\n",
    "unpermuted = _r2_cont_cont(predicted, df['age'])\n",
    "\n",
    "print(unpermuted)\n",
    "\n",
    "for i in range(1000):\n",
    "    yperm = np.random.permutation(predicted)\n",
    "    nulldist.append(_r2_cont_cont(yperm, df['age']))\n",
    "(nulldist >= unpermuted).sum()/len(nulldist)\n"
   ],
   "metadata": {
    "collapsed": false,
    "pycharm": {
     "name": "#%%\n"
    }
   }
  },
  {
   "cell_type": "code",
   "execution_count": 22,
   "outputs": [
    {
     "name": "stdout",
     "output_type": "stream",
     "text": [
      "0.11784275555767465\n"
     ]
    },
    {
     "data": {
      "text/plain": "0.0"
     },
     "execution_count": 22,
     "metadata": {},
     "output_type": "execute_result"
    }
   ],
   "source": [
    "nulldist = []\n",
    "unpermuted = _r2_cont_cont(y, predicted)\n",
    "\n",
    "print(unpermuted)\n",
    "\n",
    "for i in range(1000):\n",
    "    yperm = np.random.\\\n",
    "        permutation(predicted)\n",
    "    nulldist.append(_r2_cont_cont(y, yperm))\n",
    "(nulldist >= unpermuted).sum()/len(nulldist)"
   ],
   "metadata": {
    "collapsed": false,
    "pycharm": {
     "name": "#%%\n"
    }
   }
  },
  {
   "cell_type": "markdown",
   "metadata": {
    "pycharm": {
     "name": "#%% md\n"
    }
   },
   "source": [
    "## Regress out acquisition batch"
   ]
  },
  {
   "cell_type": "code",
   "execution_count": 23,
   "metadata": {
    "ExecuteTime": {
     "end_time": "2021-08-01T13:11:32.538414Z",
     "start_time": "2021-08-01T13:08:49.530346Z"
    },
    "pycharm": {
     "name": "#%%\n"
    }
   },
   "outputs": [
    {
     "name": "stdout",
     "output_type": "stream",
     "text": [
      "model\tinner_cv mean score\touter vc score\n",
      "Fitting 10 folds for each of 11 candidates, totalling 110 fits\n",
      "cv: 0 {'model__alpha': 100000} -0.941326099175139 -0.9939591802183\n",
      "Fitting 10 folds for each of 11 candidates, totalling 110 fits\n",
      "cv: 1 {'model__alpha': 100000} -0.9278163989545412 -1.1012489599453685\n",
      "Fitting 10 folds for each of 11 candidates, totalling 110 fits\n",
      "cv: 2 {'model__alpha': 100000} -0.9567055461750721 -0.8372802355861957\n",
      "Fitting 10 folds for each of 11 candidates, totalling 110 fits\n",
      "cv: 3 {'model__alpha': 100000} -0.924165415160946 -1.0976104919318344\n",
      "Fitting 10 folds for each of 11 candidates, totalling 110 fits\n",
      "cv: 4 {'model__alpha': 100000} -0.9413475035222634 -0.9126793239567319\n",
      "Fitting 10 folds for each of 11 candidates, totalling 110 fits\n",
      "cv: 5 {'model__alpha': 100000} -0.9787467500313174 -0.6457695784773899\n",
      "Fitting 10 folds for each of 11 candidates, totalling 110 fits\n",
      "cv: 6 {'model__alpha': 100000} -0.9385327250966133 -0.955141509973377\n",
      "Fitting 10 folds for each of 11 candidates, totalling 110 fits\n",
      "cv: 7 {'model__alpha': 100000} -0.9326498769899357 -1.0275036917707192\n",
      "Fitting 10 folds for each of 11 candidates, totalling 110 fits\n",
      "cv: 8 {'model__alpha': 100000} -0.9356187887348882 -1.0184530579962843\n",
      "Fitting 10 folds for each of 11 candidates, totalling 110 fits\n",
      "cv: 9 {'model__alpha': 100000} -0.9603092285343369 -0.7808419379194587\n"
     ]
    }
   ],
   "source": [
    "# nested cv\n",
    "outer_cv = KFold(10)\n",
    "inner_cv = KFold(10)\n",
    "clf = GridSearchCV(estimator=model, param_grid=p_grid, cv=inner_cv,\n",
    "                   scoring=\"neg_mean_squared_error\", verbose=True, return_train_score=False,\n",
    "                   n_jobs=-1)\n",
    "\n",
    "all_models = []\n",
    "best_params = []\n",
    "predicted = np.zeros(len(y))\n",
    "nested_scores_train = np.zeros(outer_cv.get_n_splits(X))\n",
    "nested_scores_test = np.zeros(outer_cv.get_n_splits(X))\n",
    "\n",
    "print(\"model\\tinner_cv mean score\\touter vc score\")\n",
    "ii=0\n",
    "for train, test in outer_cv.split(X, y):\n",
    "\n",
    "    # regress out within the cv\n",
    "    X_adj = np.zeros_like(X)\n",
    "    for i in range(X.shape[1]):\n",
    "        tmp = pd.DataFrame({\n",
    "            'acq': df.Acquisition.values[train],\n",
    "            'y': X[train,i]\n",
    "        })\n",
    "\n",
    "        OLS_model = ols_f(\"y ~ C(acq)\", tmp).fit()\n",
    "        X_adj[train, i] = OLS_model.resid\n",
    "\n",
    "        tmp2 = pd.DataFrame({\n",
    "            'acq': df.Acquisition.values[test]\n",
    "        })\n",
    "        X_adj[test, i] = X[test,i] - OLS_model.predict(tmp2)\n",
    "\n",
    "    clf.fit(X_adj[train], y[train])\n",
    "\n",
    "    print('cv:', ii, str(clf.best_params_) + \" \" + str(clf.best_score_) + \" \" + str(clf.score(X_adj[test], y[test])))\n",
    "\n",
    "    all_models.append(clf.best_estimator_)\n",
    "    best_params.append(clf.best_params_)\n",
    "\n",
    "    predicted[test] = clf.predict(X_adj[test])\n",
    "\n",
    "    nested_scores_train[ii] = clf.best_score_\n",
    "    nested_scores_test[ii] = clf.score(X_adj[test], y[test])\n",
    "    ii = ii+1"
   ]
  },
  {
   "cell_type": "markdown",
   "metadata": {
    "ExecuteTime": {
     "end_time": "2021-07-31T18:04:26.010358Z",
     "start_time": "2021-07-31T18:04:26.006192Z"
    },
    "pycharm": {
     "name": "#%% md\n"
    }
   },
   "source": [
    "## Results (acquisition batch regressed out)"
   ]
  },
  {
   "cell_type": "code",
   "execution_count": 24,
   "metadata": {
    "ExecuteTime": {
     "end_time": "2021-08-01T13:11:33.810075Z",
     "start_time": "2021-08-01T13:11:32.542866Z"
    },
    "pycharm": {
     "name": "#%%\n"
    }
   },
   "outputs": [
    {
     "name": "stdout",
     "output_type": "stream",
     "text": [
      "*** Score on mean as model:\t-1.0401469064852684\n",
      "** Mean score in the inner crossvaludation (inner_cv):\t-0.9437218332375054\n",
      "** Mean Nested Crossvalidation Score (outer_cv):\t-0.9370487967775659\n",
      "Explained Variance: 0.0991187966477528\n",
      "Correlation: 0.3369390153654328\n"
     ]
    },
    {
     "data": {
      "text/plain": "<Figure size 360x144 with 1 Axes>",
      "image/png": "[encoded data removed]"
     },
     "metadata": {},
     "output_type": "display_data"
    }
   ],
   "source": [
    "print(\"*** Score on mean as model:\\t\" + str(-mean_squared_error(np.repeat(y.mean(), len(y)), y)))\n",
    "print(\"** Mean score in the inner crossvaludation (inner_cv):\\t\" + str(nested_scores_train.mean()))\n",
    "print(\"** Mean Nested Crossvalidation Score (outer_cv):\\t\" + str(nested_scores_test.mean()))\n",
    "print(\"Explained Variance: \" +  str( 1- nested_scores_test.mean()/-mean_squared_error(np.repeat(y.mean(), len(y)), y) ))\n",
    "print(\"Correlation: \" + str(np.corrcoef(y, predicted)[0,1]))\n",
    "\n",
    "plt.figure(figsize=(5,2))\n",
    "sns.regplot(x=y, y=predicted, scatter=False, color='gray')\n",
    "sns.scatterplot(x=y, y=predicted, hue=df.Acquisition.astype(\"category\").cat.codes.values,\n",
    "                palette=sns.color_palette(\"coolwarm\", as_cmap=True), alpha=0.4)\n",
    "plt.savefig('../fig/raw/emp_hcp_acq_reg_regplot.pdf')"
   ]
  },
  {
   "cell_type": "code",
   "execution_count": 25,
   "metadata": {
    "ExecuteTime": {
     "end_time": "2021-08-01T13:11:45.593189Z",
     "start_time": "2021-08-01T13:11:33.814994Z"
    },
    "pycharm": {
     "name": "#%%\n"
    }
   },
   "outputs": [
    {
     "name": "stderr",
     "output_type": "stream",
     "text": [
      "Permuting: 100%|██████████| 1000/1000 [00:02<00:00, 376.20it/s]\n"
     ]
    },
    {
     "data": {
      "text/plain": "<graphviz.dot.Graph at 0x7fdb20085190>",
      "image/svg+xml": "<?xml version=\"1.0\" encoding=\"UTF-8\" standalone=\"no\"?>\n<!DOCTYPE svg PUBLIC \"-//W3C//DTD SVG 1.1//EN\"\n \"http://www.w3.org/Graphics/SVG/1.1/DTD/svg11.dtd\">\n<!-- Generated by graphviz version 2.43.0 (0)\n -->\n<!-- Title: %3 Pages: 1 -->\n<svg width=\"352pt\" height=\"79pt\"\n viewBox=\"0.00 0.00 352.00 79.00\" xmlns=\"http://www.w3.org/2000/svg\" xmlns:xlink=\"http://www.w3.org/1999/xlink\">\n<g id=\"graph0\" class=\"graph\" transform=\"scale(1 1) rotate(0) translate(4 75)\">\n<title>%3</title>\n<polygon fill=\"white\" stroke=\"transparent\" points=\"-4,4 -4,-75 348,-75 348,4 -4,4\"/>\n<!-- c -->\n<g id=\"node1\" class=\"node\">\n<title>c</title>\n<ellipse fill=\"none\" stroke=\"black\" cx=\"27\" cy=\"-18\" rx=\"27\" ry=\"18\"/>\n<text text-anchor=\"middle\" x=\"27\" y=\"-14.3\" font-family=\"Times,serif\" font-size=\"14.00\">c</text>\n</g>\n<!-- y -->\n<g id=\"node2\" class=\"node\">\n<title>y</title>\n<ellipse fill=\"none\" stroke=\"black\" cx=\"172\" cy=\"-53\" rx=\"27\" ry=\"18\"/>\n<text text-anchor=\"middle\" x=\"172\" y=\"-49.3\" font-family=\"Times,serif\" font-size=\"14.00\">y</text>\n</g>\n<!-- c&#45;&#45;y -->\n<g id=\"edge2\" class=\"edge\">\n<title>c&#45;&#45;y</title>\n<path fill=\"none\" stroke=\"black\" d=\"M52.58,-24.02C78.78,-30.43 120.01,-40.52 146.26,-46.94\"/>\n<text text-anchor=\"middle\" x=\"92.5\" y=\"-41.8\" font-family=\"Times,serif\" font-size=\"14.00\">0.032</text>\n</g>\n<!-- yhat -->\n<g id=\"node3\" class=\"node\">\n<title>yhat</title>\n<ellipse fill=\"none\" stroke=\"black\" cx=\"317\" cy=\"-18\" rx=\"27\" ry=\"18\"/>\n<text text-anchor=\"start\" x=\"312.5\" y=\"-14.3\" font-family=\"Times,serif\" font-size=\"14.00\">ŷ</text>\n</g>\n<!-- c&#45;&#45;yhat -->\n<g id=\"edge1\" class=\"edge\">\n<title>c&#45;&#45;yhat</title>\n<path fill=\"none\" stroke=\"black\" stroke-dasharray=\"5,2\" d=\"M53.8,-15.76C74.61,-14.07 104.67,-11.89 131,-11 167.42,-9.76 176.58,-9.76 213,-11 239.33,-11.89 269.39,-14.07 290.2,-15.76\"/>\n<text text-anchor=\"middle\" x=\"172\" y=\"-14.8\" font-family=\"Times,serif\" font-size=\"14.00\">0.0 (p=1.0)</text>\n</g>\n<!-- y&#45;&#45;yhat -->\n<g id=\"edge3\" class=\"edge\">\n<title>y&#45;&#45;yhat</title>\n<path fill=\"none\" stroke=\"black\" d=\"M197.58,-46.98C223.78,-40.57 265.01,-30.48 291.26,-24.06\"/>\n<text text-anchor=\"middle\" x=\"251.5\" y=\"-41.8\" font-family=\"Times,serif\" font-size=\"14.00\">0.114</text>\n</g>\n</g>\n</svg>\n"
     },
     "execution_count": 25,
     "metadata": {},
     "output_type": "execute_result"
    }
   ],
   "source": [
    "plot_graph(partial_confound_test(y, predicted, pd.Categorical(df['Acquisition'].values).codes, cat_c=True,\n",
    "                                    random_state=42), outfile_base='../fig/raw/emp_hcp_acq_reg_partial')"
   ]
  },
  {
   "cell_type": "code",
   "execution_count": 26,
   "metadata": {
    "ExecuteTime": {
     "end_time": "2021-08-01T13:11:52.132099Z",
     "start_time": "2021-08-01T13:11:45.596246Z"
    },
    "pycharm": {
     "name": "#%%\n"
    }
   },
   "outputs": [
    {
     "name": "stderr",
     "output_type": "stream",
     "text": [
      "Permuting: 100%|██████████| 1000/1000 [00:01<00:00, 682.82it/s]\n"
     ]
    },
    {
     "data": {
      "text/plain": "<graphviz.dot.Graph at 0x7fdb20085760>",
      "image/svg+xml": "<?xml version=\"1.0\" encoding=\"UTF-8\" standalone=\"no\"?>\n<!DOCTYPE svg PUBLIC \"-//W3C//DTD SVG 1.1//EN\"\n \"http://www.w3.org/Graphics/SVG/1.1/DTD/svg11.dtd\">\n<!-- Generated by graphviz version 2.43.0 (0)\n -->\n<!-- Title: %3 Pages: 1 -->\n<svg width=\"416pt\" height=\"79pt\"\n viewBox=\"0.00 0.00 416.00 79.00\" xmlns=\"http://www.w3.org/2000/svg\" xmlns:xlink=\"http://www.w3.org/1999/xlink\">\n<g id=\"graph0\" class=\"graph\" transform=\"scale(1 1) rotate(0) translate(4 75)\">\n<title>%3</title>\n<polygon fill=\"white\" stroke=\"transparent\" points=\"-4,4 -4,-75 412,-75 412,4 -4,4\"/>\n<!-- c -->\n<g id=\"node1\" class=\"node\">\n<title>c</title>\n<ellipse fill=\"none\" stroke=\"black\" cx=\"27\" cy=\"-18\" rx=\"27\" ry=\"18\"/>\n<text text-anchor=\"middle\" x=\"27\" y=\"-14.3\" font-family=\"Times,serif\" font-size=\"14.00\">c</text>\n</g>\n<!-- y -->\n<g id=\"node2\" class=\"node\">\n<title>y</title>\n<ellipse fill=\"none\" stroke=\"black\" cx=\"158\" cy=\"-53\" rx=\"27\" ry=\"18\"/>\n<text text-anchor=\"middle\" x=\"158\" y=\"-49.3\" font-family=\"Times,serif\" font-size=\"14.00\">y</text>\n</g>\n<!-- c&#45;&#45;y -->\n<g id=\"edge2\" class=\"edge\">\n<title>c&#45;&#45;y</title>\n<path fill=\"none\" stroke=\"black\" d=\"M52.26,-24.58C75.33,-30.84 109.82,-40.2 132.84,-46.45\"/>\n<text text-anchor=\"middle\" x=\"92.5\" y=\"-43.8\" font-family=\"Times,serif\" font-size=\"14.00\">0.032</text>\n</g>\n<!-- yhat -->\n<g id=\"node3\" class=\"node\">\n<title>yhat</title>\n<ellipse fill=\"none\" stroke=\"black\" cx=\"381\" cy=\"-18\" rx=\"27\" ry=\"18\"/>\n<text text-anchor=\"start\" x=\"376.5\" y=\"-14.3\" font-family=\"Times,serif\" font-size=\"14.00\">ŷ</text>\n</g>\n<!-- c&#45;&#45;yhat -->\n<g id=\"edge1\" class=\"edge\">\n<title>c&#45;&#45;yhat</title>\n<path fill=\"none\" stroke=\"black\" d=\"M53.8,-15.76C74.61,-14.07 104.67,-11.89 131,-11 212.26,-8.24 308.45,-13.31 353.83,-16.2\"/>\n<text text-anchor=\"middle\" x=\"158\" y=\"-14.8\" font-family=\"Times,serif\" font-size=\"14.00\">0.0</text>\n</g>\n<!-- y&#45;&#45;yhat -->\n<g id=\"edge3\" class=\"edge\">\n<title>y&#45;&#45;yhat</title>\n<path fill=\"none\" stroke=\"black\" stroke-dasharray=\"5,2\" d=\"M184.35,-48.99C226.87,-42.25 312.06,-28.76 354.6,-22.02\"/>\n<text text-anchor=\"middle\" x=\"269.5\" y=\"-48.8\" font-family=\"Times,serif\" font-size=\"14.00\">0.114 (p&lt;0.0001*)</text>\n</g>\n</g>\n</svg>\n"
     },
     "execution_count": 26,
     "metadata": {},
     "output_type": "execute_result"
    }
   ],
   "source": [
    "plot_graph(full_confound_test(y, predicted, pd.Categorical(df['Acquisition'].values).codes, cat_c=True,\n",
    "                                random_state=42), outfile_base='../fig/raw/emp_hcp_acq_reg_full')\n"
   ]
  },
  {
   "cell_type": "code",
   "execution_count": 27,
   "outputs": [
    {
     "name": "stdout",
     "output_type": "stream",
     "text": [
      "0.00028842373621429385\n"
     ]
    },
    {
     "data": {
      "text/plain": "1.0"
     },
     "execution_count": 27,
     "metadata": {},
     "output_type": "execute_result"
    }
   ],
   "source": [
    "nulldist = []\n",
    "unpermuted = _r2_cat_cont(pd.Categorical(df['Acquisition'].values).codes, predicted)\n",
    "\n",
    "print(unpermuted)\n",
    "\n",
    "for i in range(1000):\n",
    "    yperm = np.random.permutation(predicted)\n",
    "    nulldist.append(_r2_cat_cont(pd.Categorical(df['Acquisition'].values).codes, yperm))\n",
    "(nulldist >= unpermuted).sum()/len(nulldist)"
   ],
   "metadata": {
    "collapsed": false,
    "pycharm": {
     "name": "#%%\n"
    }
   }
  },
  {
   "cell_type": "code",
   "execution_count": 28,
   "outputs": [
    {
     "name": "stdout",
     "output_type": "stream",
     "text": [
      "0.11352790007542736\n"
     ]
    },
    {
     "data": {
      "text/plain": "0.0"
     },
     "execution_count": 28,
     "metadata": {},
     "output_type": "execute_result"
    }
   ],
   "source": [
    "nulldist = []\n",
    "unpermuted = _r2_cont_cont(y, predicted)\n",
    "\n",
    "print(unpermuted)\n",
    "\n",
    "for i in range(1000):\n",
    "    yperm = np.random.\\\n",
    "        permutation(predicted)\n",
    "    nulldist.append(_r2_cont_cont(y, yperm))\n",
    "(nulldist >= unpermuted).sum()/len(nulldist)\n"
   ],
   "metadata": {
    "collapsed": false,
    "pycharm": {
     "name": "#%%\n"
    }
   }
  },
  {
   "cell_type": "markdown",
   "metadata": {
    "pycharm": {
     "name": "#%% md\n"
    }
   },
   "source": [
    "# COMBAT age group"
   ]
  },
  {
   "cell_type": "code",
   "execution_count": 29,
   "metadata": {
    "ExecuteTime": {
     "end_time": "2021-08-01T13:18:41.014313Z",
     "start_time": "2021-08-01T13:15:01.621244Z"
    },
    "pycharm": {
     "name": "#%%\n"
    }
   },
   "outputs": [
    {
     "name": "stdout",
     "output_type": "stream",
     "text": [
      "model\tinner_cv mean score\touter vc score\n",
      "Fitting 10 folds for each of 11 candidates, totalling 110 fits\n",
      "cv: 0 {'model__alpha': 100000} -0.9300734267643153 -0.9791533004119743\n",
      "Fitting 10 folds for each of 11 candidates, totalling 110 fits\n",
      "cv: 1 {'model__alpha': 100000} -0.9131055057865348 -1.0955185128924585\n",
      "Fitting 10 folds for each of 11 candidates, totalling 110 fits\n",
      "cv: 2 {'model__alpha': 100000} -0.9421503042907181 -0.8421133071431006\n",
      "Fitting 10 folds for each of 11 candidates, totalling 110 fits\n",
      "cv: 3 {'model__alpha': 100000} -0.9052915262330439 -1.093635458840644\n",
      "Fitting 10 folds for each of 11 candidates, totalling 110 fits\n",
      "cv: 4 {'model__alpha': 100000} -0.9358114340313142 -0.8800433698774458\n",
      "Fitting 10 folds for each of 11 candidates, totalling 110 fits\n",
      "cv: 5 {'model__alpha': 100000} -0.9654616482430806 -0.6332270934227769\n",
      "Fitting 10 folds for each of 11 candidates, totalling 110 fits\n",
      "cv: 6 {'model__alpha': 100000} -0.9226200142826684 -0.9589841130615672\n",
      "Fitting 10 folds for each of 11 candidates, totalling 110 fits\n",
      "cv: 7 {'model__alpha': 100000} -0.9183142575876353 -1.015964267315359\n",
      "Fitting 10 folds for each of 11 candidates, totalling 110 fits\n",
      "cv: 8 {'model__alpha': 100000} -0.9135382705574395 -1.0449402344862757\n",
      "Fitting 10 folds for each of 11 candidates, totalling 110 fits\n",
      "cv: 9 {'model__alpha': 100000} -0.949417875922183 -0.749768001849347\n"
     ]
    }
   ],
   "source": [
    "# nested cv\n",
    "outer_cv = KFold(10)\n",
    "inner_cv = KFold(10)\n",
    "clf = GridSearchCV(estimator=model, param_grid=p_grid, cv=inner_cv,\n",
    "                   scoring=\"neg_mean_squared_error\", verbose=True, return_train_score=False,\n",
    "                   n_jobs=-1)\n",
    "\n",
    "all_models = []\n",
    "best_params = []\n",
    "predicted = np.zeros(len(y))\n",
    "nested_scores_train = np.zeros(outer_cv.get_n_splits(X_adj))\n",
    "nested_scores_test = np.zeros(outer_cv.get_n_splits(X_adj))\n",
    "\n",
    "print(\"model\\tinner_cv mean score\\touter vc score\")\n",
    "i=0\n",
    "for train, test in outer_cv.split(X, y):\n",
    "\n",
    "    comb = CombatModel()\n",
    "    X_train_combat = comb.fit_transform(X[:,np.sum(X,0)!=0][train],\n",
    "                                   np.array([df.age.astype(\"category\").cat.codes.values[train]]).transpose()\n",
    "                                  )\n",
    "\n",
    "    clf.fit(X_train_combat, y[train])\n",
    "\n",
    "    X_test_combat = comb.transform(X[:,np.sum(X,0)!=0][test],\n",
    "                                   np.array([df.age.astype(\"category\").cat.codes.values[test]]).transpose()\n",
    "                                  )\n",
    "\n",
    "    print('cv:', i, str(clf.best_params_) + \" \" + str(clf.best_score_) + \" \" + str(clf.score(X_test_combat, y[test])))\n",
    "\n",
    "    all_models.append(clf.best_estimator_)\n",
    "    best_params.append(clf.best_params_)\n",
    "\n",
    "    predicted[test] = clf.predict(X_test_combat)\n",
    "\n",
    "    nested_scores_train[i] = clf.best_score_\n",
    "    nested_scores_test[i] = clf.score(X_test_combat, y[test])\n",
    "    i = i+1"
   ]
  },
  {
   "cell_type": "markdown",
   "metadata": {
    "pycharm": {
     "name": "#%% md\n"
    }
   },
   "source": [
    "## Results (combat age)"
   ]
  },
  {
   "cell_type": "code",
   "execution_count": 30,
   "metadata": {
    "ExecuteTime": {
     "end_time": "2021-08-01T13:18:42.374248Z",
     "start_time": "2021-08-01T13:18:41.024365Z"
    },
    "pycharm": {
     "name": "#%%\n"
    }
   },
   "outputs": [
    {
     "name": "stdout",
     "output_type": "stream",
     "text": [
      "*** Score on mean as model:\t-1.0401469064852684\n",
      "** Mean score in the inner crossvaludation (inner_cv):\t-0.9295784263698934\n",
      "** Mean Nested Crossvalidation Score (outer_cv):\t-0.929334765930095\n",
      "Explained Variance: 0.1065350864039154\n",
      "Correlation: 0.3483917910413174\n"
     ]
    },
    {
     "data": {
      "text/plain": "<Figure size 360x144 with 1 Axes>",
      "image/png": "[encoded data removed]"
     },
     "metadata": {},
     "output_type": "display_data"
    }
   ],
   "source": [
    "print(\"*** Score on mean as model:\\t\" + str(-mean_squared_error(np.repeat(y.mean(), len(y)), y)))\n",
    "print(\"** Mean score in the inner crossvaludation (inner_cv):\\t\" + str(nested_scores_train.mean()))\n",
    "print(\"** Mean Nested Crossvalidation Score (outer_cv):\\t\" + str(nested_scores_test.mean()))\n",
    "print(\"Explained Variance: \" +  str( 1- nested_scores_test.mean()/-mean_squared_error(np.repeat(y.mean(), len(y)), y) ))\n",
    "print(\"Correlation: \" + str(np.corrcoef(y, predicted)[0,1]))\n",
    "\n",
    "plt.figure(figsize=(5,2))\n",
    "sns.regplot(x=y, y=predicted, scatter=False, color='gray')\n",
    "sns.scatterplot(x=y, y=predicted, hue=df.age,\n",
    "                palette=sns.color_palette(\"coolwarm\", as_cmap=True), alpha=0.4)\n",
    "plt.savefig('../fig/raw/emp_hcp_age_comb_regplot.pdf')"
   ]
  },
  {
   "cell_type": "code",
   "execution_count": 31,
   "metadata": {
    "ExecuteTime": {
     "end_time": "2021-08-01T12:59:47.086784Z",
     "start_time": "2021-08-01T12:59:38.246036Z"
    },
    "pycharm": {
     "name": "#%%\n"
    }
   },
   "outputs": [
    {
     "name": "stderr",
     "output_type": "stream",
     "text": [
      "Permuting: 100%|██████████| 1000/1000 [00:01<00:00, 671.37it/s]\n"
     ]
    },
    {
     "data": {
      "text/plain": "<graphviz.dot.Graph at 0x7fdb91a30fd0>",
      "image/svg+xml": "<?xml version=\"1.0\" encoding=\"UTF-8\" standalone=\"no\"?>\n<!DOCTYPE svg PUBLIC \"-//W3C//DTD SVG 1.1//EN\"\n \"http://www.w3.org/Graphics/SVG/1.1/DTD/svg11.dtd\">\n<!-- Generated by graphviz version 2.43.0 (0)\n -->\n<!-- Title: %3 Pages: 1 -->\n<svg width=\"379pt\" height=\"79pt\"\n viewBox=\"0.00 0.00 379.00 79.00\" xmlns=\"http://www.w3.org/2000/svg\" xmlns:xlink=\"http://www.w3.org/1999/xlink\">\n<g id=\"graph0\" class=\"graph\" transform=\"scale(1 1) rotate(0) translate(4 75)\">\n<title>%3</title>\n<polygon fill=\"white\" stroke=\"transparent\" points=\"-4,4 -4,-75 375,-75 375,4 -4,4\"/>\n<!-- c -->\n<g id=\"node1\" class=\"node\">\n<title>c</title>\n<ellipse fill=\"none\" stroke=\"black\" cx=\"27\" cy=\"-18\" rx=\"27\" ry=\"18\"/>\n<text text-anchor=\"middle\" x=\"27\" y=\"-14.3\" font-family=\"Times,serif\" font-size=\"14.00\">c</text>\n</g>\n<!-- y -->\n<g id=\"node2\" class=\"node\">\n<title>y</title>\n<ellipse fill=\"none\" stroke=\"black\" cx=\"185.5\" cy=\"-53\" rx=\"27\" ry=\"18\"/>\n<text text-anchor=\"middle\" x=\"185.5\" y=\"-49.3\" font-family=\"Times,serif\" font-size=\"14.00\">y</text>\n</g>\n<!-- c&#45;&#45;y -->\n<g id=\"edge2\" class=\"edge\">\n<title>c&#45;&#45;y</title>\n<path fill=\"none\" stroke=\"black\" d=\"M52.8,-23.55C82.02,-30.08 130.28,-40.87 159.56,-47.42\"/>\n<text text-anchor=\"middle\" x=\"92.5\" y=\"-39.8\" font-family=\"Times,serif\" font-size=\"14.00\">0.011</text>\n</g>\n<!-- yhat -->\n<g id=\"node3\" class=\"node\">\n<title>yhat</title>\n<ellipse fill=\"none\" stroke=\"black\" cx=\"344\" cy=\"-18\" rx=\"27\" ry=\"18\"/>\n<text text-anchor=\"start\" x=\"339.5\" y=\"-14.3\" font-family=\"Times,serif\" font-size=\"14.00\">ŷ</text>\n</g>\n<!-- c&#45;&#45;yhat -->\n<g id=\"edge1\" class=\"edge\">\n<title>c&#45;&#45;yhat</title>\n<path fill=\"none\" stroke=\"black\" stroke-dasharray=\"5,2\" d=\"M53.8,-15.76C74.61,-14.07 104.67,-11.89 131,-11 179.42,-9.36 191.58,-9.36 240,-11 266.33,-11.89 296.39,-14.07 317.2,-15.76\"/>\n<text text-anchor=\"middle\" x=\"185.5\" y=\"-14.8\" font-family=\"Times,serif\" font-size=\"14.00\">0.005 (p=0.15)</text>\n</g>\n<!-- y&#45;&#45;yhat -->\n<g id=\"edge3\" class=\"edge\">\n<title>y&#45;&#45;yhat</title>\n<path fill=\"none\" stroke=\"black\" d=\"M211.3,-47.45C240.52,-40.92 288.78,-30.13 318.06,-23.58\"/>\n<text text-anchor=\"middle\" x=\"278.5\" y=\"-39.8\" font-family=\"Times,serif\" font-size=\"14.00\">0.121</text>\n</g>\n</g>\n</svg>\n"
     },
     "execution_count": 31,
     "metadata": {},
     "output_type": "execute_result"
    }
   ],
   "source": [
    "plot_graph(partial_confound_test(y, predicted, df['age'], random_state=42),\n",
    "          outfile_base='../fig/raw/emp_hcp_age_comb_partial')"
   ]
  },
  {
   "cell_type": "code",
   "execution_count": 32,
   "metadata": {
    "ExecuteTime": {
     "end_time": "2021-08-01T12:59:55.313294Z",
     "start_time": "2021-08-01T12:59:47.089751Z"
    },
    "pycharm": {
     "name": "#%%\n"
    }
   },
   "outputs": [
    {
     "name": "stderr",
     "output_type": "stream",
     "text": [
      "Permuting: 100%|██████████| 1000/1000 [00:01<00:00, 572.56it/s]\n"
     ]
    },
    {
     "data": {
      "text/plain": "<graphviz.dot.Graph at 0x7fdb388f9280>",
      "image/svg+xml": "<?xml version=\"1.0\" encoding=\"UTF-8\" standalone=\"no\"?>\n<!DOCTYPE svg PUBLIC \"-//W3C//DTD SVG 1.1//EN\"\n \"http://www.w3.org/Graphics/SVG/1.1/DTD/svg11.dtd\">\n<!-- Generated by graphviz version 2.43.0 (0)\n -->\n<!-- Title: %3 Pages: 1 -->\n<svg width=\"416pt\" height=\"79pt\"\n viewBox=\"0.00 0.00 416.00 79.00\" xmlns=\"http://www.w3.org/2000/svg\" xmlns:xlink=\"http://www.w3.org/1999/xlink\">\n<g id=\"graph0\" class=\"graph\" transform=\"scale(1 1) rotate(0) translate(4 75)\">\n<title>%3</title>\n<polygon fill=\"white\" stroke=\"transparent\" points=\"-4,4 -4,-75 412,-75 412,4 -4,4\"/>\n<!-- c -->\n<g id=\"node1\" class=\"node\">\n<title>c</title>\n<ellipse fill=\"none\" stroke=\"black\" cx=\"27\" cy=\"-18\" rx=\"27\" ry=\"18\"/>\n<text text-anchor=\"middle\" x=\"27\" y=\"-14.3\" font-family=\"Times,serif\" font-size=\"14.00\">c</text>\n</g>\n<!-- y -->\n<g id=\"node2\" class=\"node\">\n<title>y</title>\n<ellipse fill=\"none\" stroke=\"black\" cx=\"158\" cy=\"-53\" rx=\"27\" ry=\"18\"/>\n<text text-anchor=\"middle\" x=\"158\" y=\"-49.3\" font-family=\"Times,serif\" font-size=\"14.00\">y</text>\n</g>\n<!-- c&#45;&#45;y -->\n<g id=\"edge2\" class=\"edge\">\n<title>c&#45;&#45;y</title>\n<path fill=\"none\" stroke=\"black\" d=\"M52.26,-24.58C75.33,-30.84 109.82,-40.2 132.84,-46.45\"/>\n<text text-anchor=\"middle\" x=\"92.5\" y=\"-43.8\" font-family=\"Times,serif\" font-size=\"14.00\">0.011</text>\n</g>\n<!-- yhat -->\n<g id=\"node3\" class=\"node\">\n<title>yhat</title>\n<ellipse fill=\"none\" stroke=\"black\" cx=\"381\" cy=\"-18\" rx=\"27\" ry=\"18\"/>\n<text text-anchor=\"start\" x=\"376.5\" y=\"-14.3\" font-family=\"Times,serif\" font-size=\"14.00\">ŷ</text>\n</g>\n<!-- c&#45;&#45;yhat -->\n<g id=\"edge1\" class=\"edge\">\n<title>c&#45;&#45;yhat</title>\n<path fill=\"none\" stroke=\"black\" d=\"M53.8,-15.76C74.61,-14.07 104.67,-11.89 131,-11 212.26,-8.24 308.45,-13.31 353.83,-16.2\"/>\n<text text-anchor=\"middle\" x=\"158\" y=\"-14.8\" font-family=\"Times,serif\" font-size=\"14.00\">0.005</text>\n</g>\n<!-- y&#45;&#45;yhat -->\n<g id=\"edge3\" class=\"edge\">\n<title>y&#45;&#45;yhat</title>\n<path fill=\"none\" stroke=\"black\" stroke-dasharray=\"5,2\" d=\"M184.35,-48.99C226.87,-42.25 312.06,-28.76 354.6,-22.02\"/>\n<text text-anchor=\"middle\" x=\"269.5\" y=\"-48.8\" font-family=\"Times,serif\" font-size=\"14.00\">0.121 (p&lt;0.0001*)</text>\n</g>\n</g>\n</svg>\n"
     },
     "execution_count": 32,
     "metadata": {},
     "output_type": "execute_result"
    }
   ],
   "source": [
    "plot_graph(full_confound_test(y, predicted, df['age'], random_state=42),\n",
    "          outfile_base='../fig/raw/emp_hcp_age_comb_full')"
   ]
  },
  {
   "cell_type": "code",
   "execution_count": 33,
   "outputs": [
    {
     "name": "stdout",
     "output_type": "stream",
     "text": [
      "0.004605027973265126\n"
     ]
    },
    {
     "data": {
      "text/plain": "0.02"
     },
     "execution_count": 33,
     "metadata": {},
     "output_type": "execute_result"
    }
   ],
   "source": [
    "nulldist = []\n",
    "unpermuted = _r2_cont_cont(predicted, df['age'])\n",
    "\n",
    "print(unpermuted)\n",
    "\n",
    "for i in range(1000):\n",
    "    yperm = np.random.permutation(predicted)\n",
    "    nulldist.append(_r2_cont_cont(yperm, df['age']))\n",
    "(nulldist >= unpermuted).sum()/len(nulldist)"
   ],
   "metadata": {
    "collapsed": false,
    "pycharm": {
     "name": "#%%\n"
    }
   }
  },
  {
   "cell_type": "code",
   "execution_count": 34,
   "outputs": [
    {
     "name": "stdout",
     "output_type": "stream",
     "text": [
      "0.12137684006497697\n"
     ]
    },
    {
     "data": {
      "text/plain": "0.0"
     },
     "execution_count": 34,
     "metadata": {},
     "output_type": "execute_result"
    }
   ],
   "source": [
    "nulldist = []\n",
    "unpermuted = _r2_cont_cont(y, predicted)\n",
    "\n",
    "print(unpermuted)\n",
    "\n",
    "for i in range(1000):\n",
    "    yperm = np.random.\\\n",
    "        permutation(predicted)\n",
    "    nulldist.append(_r2_cont_cont(y, yperm))\n",
    "(nulldist >= unpermuted).sum()/len(nulldist)\n",
    "\n"
   ],
   "metadata": {
    "collapsed": false,
    "pycharm": {
     "name": "#%%\n"
    }
   }
  },
  {
   "cell_type": "markdown",
   "metadata": {
    "ExecuteTime": {
     "end_time": "2021-07-31T18:05:52.266109Z",
     "start_time": "2021-07-31T18:05:52.263144Z"
    },
    "pycharm": {
     "name": "#%% md\n"
    }
   },
   "source": [
    "# COMBAT acquisition batch"
   ]
  },
  {
   "cell_type": "code",
   "execution_count": 35,
   "metadata": {
    "ExecuteTime": {
     "end_time": "2021-08-01T13:03:27.864620Z",
     "start_time": "2021-08-01T12:59:55.316441Z"
    },
    "pycharm": {
     "name": "#%%\n"
    }
   },
   "outputs": [
    {
     "name": "stdout",
     "output_type": "stream",
     "text": [
      "model\tinner_cv mean score\touter vc score\n",
      "Fitting 10 folds for each of 11 candidates, totalling 110 fits\n",
      "cv: 0 {'model__alpha': 100000} -0.9316398231156893 -0.9849466200542852\n",
      "Fitting 10 folds for each of 11 candidates, totalling 110 fits\n",
      "cv: 1 {'model__alpha': 100000} -0.9179827759720558 -1.0920181844748902\n",
      "Fitting 10 folds for each of 11 candidates, totalling 110 fits\n",
      "cv: 2 {'model__alpha': 100000} -0.9458686166388015 -0.8344682629982223\n",
      "Fitting 10 folds for each of 11 candidates, totalling 110 fits\n",
      "cv: 3 {'model__alpha': 100000} -0.9128137505056617 -1.09082738592428\n",
      "Fitting 10 folds for each of 11 candidates, totalling 110 fits\n",
      "cv: 4 {'model__alpha': 100000} -0.9343641987503577 -0.8974868073172718\n",
      "Fitting 10 folds for each of 11 candidates, totalling 110 fits\n",
      "cv: 5 {'model__alpha': 100000} -0.9684187812749412 -0.6392219529925428\n",
      "Fitting 10 folds for each of 11 candidates, totalling 110 fits\n",
      "cv: 6 {'model__alpha': 100000} -0.9266692657483278 -0.9543780082047695\n",
      "Fitting 10 folds for each of 11 candidates, totalling 110 fits\n",
      "cv: 7 {'model__alpha': 100000} -0.9240174653961262 -1.0136843075560256\n",
      "Fitting 10 folds for each of 11 candidates, totalling 110 fits\n",
      "cv: 8 {'model__alpha': 100000} -0.9214840297499304 -1.0266219728936747\n",
      "Fitting 10 folds for each of 11 candidates, totalling 110 fits\n",
      "cv: 9 {'model__alpha': 100000} -0.9522175025691781 -0.7638490102663463\n"
     ]
    }
   ],
   "source": [
    "# nested cv\n",
    "outer_cv = KFold(10)\n",
    "inner_cv = KFold(10)\n",
    "clf = GridSearchCV(estimator=model, param_grid=p_grid, cv=inner_cv,\n",
    "                   scoring=\"neg_mean_squared_error\", verbose=True, return_train_score=False,\n",
    "                   n_jobs=-1)\n",
    "\n",
    "all_models = []\n",
    "best_params = []\n",
    "predicted = np.zeros(len(y))\n",
    "nested_scores_train = np.zeros(outer_cv.get_n_splits(X_adj))\n",
    "nested_scores_test = np.zeros(outer_cv.get_n_splits(X_adj))\n",
    "\n",
    "print(\"model\\tinner_cv mean score\\touter vc score\")\n",
    "i=0\n",
    "for train, test in outer_cv.split(X, y):\n",
    "\n",
    "    comb = CombatModel()\n",
    "    X_train_combat = comb.fit_transform(X[:,np.sum(X,0)!=0][train],\n",
    "                                   np.array([df.Acquisition.astype(\"category\").cat.codes.values[train]]).transpose()\n",
    "                                  )\n",
    "\n",
    "    clf.fit(X_train_combat, y[train])\n",
    "\n",
    "    X_test_combat = comb.transform(X[:,np.sum(X,0)!=0][test],\n",
    "                                   np.array([df.Acquisition.astype(\"category\").cat.codes.values[test]]).transpose()\n",
    "                                  )\n",
    "\n",
    "    print('cv:', i, str(clf.best_params_) + \" \" + str(clf.best_score_) + \" \" + str(clf.score(X_test_combat, y[test])))\n",
    "\n",
    "    all_models.append(clf.best_estimator_)\n",
    "    best_params.append(clf.best_params_)\n",
    "\n",
    "    predicted[test] = clf.predict(X_test_combat)\n",
    "\n",
    "    nested_scores_train[i] = clf.best_score_\n",
    "    nested_scores_test[i] = clf.score(X_test_combat, y[test])\n",
    "    i = i+1"
   ]
  },
  {
   "cell_type": "markdown",
   "metadata": {
    "ExecuteTime": {
     "end_time": "2021-07-31T18:06:36.280780Z",
     "start_time": "2021-07-31T18:06:36.273240Z"
    },
    "pycharm": {
     "name": "#%% md\n"
    }
   },
   "source": [
    "## Results (combat acquisition batch)"
   ]
  },
  {
   "cell_type": "code",
   "execution_count": 36,
   "metadata": {
    "ExecuteTime": {
     "end_time": "2021-08-01T15:59:28.172018Z",
     "start_time": "2021-08-01T15:59:26.753669Z"
    },
    "pycharm": {
     "name": "#%%\n"
    }
   },
   "outputs": [
    {
     "name": "stdout",
     "output_type": "stream",
     "text": [
      "*** Score on mean as model:\t-1.0401469064852684\n",
      "** Mean score in the inner crossvaludation (inner_cv):\t-0.9335476209721069\n",
      "** Mean Nested Crossvalidation Score (outer_cv):\t-0.9297502512682309\n",
      "Explained Variance: 0.10613563769571344\n",
      "Correlation: 0.3494477666465382\n"
     ]
    },
    {
     "data": {
      "text/plain": "<Figure size 360x144 with 1 Axes>",
      "image/png": "[encoded data removed]"
     },
     "metadata": {},
     "output_type": "display_data"
    }
   ],
   "source": [
    "print(\"*** Score on mean as model:\\t\" + str(-mean_squared_error(np.repeat(y.mean(), len(y)), y)))\n",
    "print(\"** Mean score in the inner crossvaludation (inner_cv):\\t\" + str(nested_scores_train.mean()))\n",
    "print(\"** Mean Nested Crossvalidation Score (outer_cv):\\t\" + str(nested_scores_test.mean()))\n",
    "print(\"Explained Variance: \" +  str( 1- nested_scores_test.mean()/-mean_squared_error(np.repeat(y.mean(), len(y)), y) ))\n",
    "print(\"Correlation: \" + str(np.corrcoef(y, predicted)[0,1]))\n",
    "\n",
    "plt.figure(figsize=(5,2))\n",
    "\n",
    "sns.regplot(x=y, y=predicted, scatter=False, color='gray')\n",
    "sns.scatterplot(x=y, y=predicted, hue=df.Acquisition.astype(\"category\").cat.codes.values,\n",
    "                palette=sns.color_palette(\"coolwarm\", as_cmap=True), alpha=0.4)\n",
    "plt.savefig('../fig/raw/emp_hcp_acq_comb_regplot.pdf')"
   ]
  },
  {
   "cell_type": "code",
   "execution_count": 37,
   "metadata": {
    "ExecuteTime": {
     "end_time": "2021-08-01T13:03:42.715843Z",
     "start_time": "2021-08-01T13:03:29.615538Z"
    },
    "pycharm": {
     "name": "#%%\n"
    }
   },
   "outputs": [
    {
     "name": "stderr",
     "output_type": "stream",
     "text": [
      "Permuting: 100%|██████████| 1000/1000 [00:02<00:00, 373.82it/s]\n"
     ]
    },
    {
     "data": {
      "text/plain": "<graphviz.dot.Graph at 0x7fdb91887d00>",
      "image/svg+xml": "<?xml version=\"1.0\" encoding=\"UTF-8\" standalone=\"no\"?>\n<!DOCTYPE svg PUBLIC \"-//W3C//DTD SVG 1.1//EN\"\n \"http://www.w3.org/Graphics/SVG/1.1/DTD/svg11.dtd\">\n<!-- Generated by graphviz version 2.43.0 (0)\n -->\n<!-- Title: %3 Pages: 1 -->\n<svg width=\"379pt\" height=\"79pt\"\n viewBox=\"0.00 0.00 379.00 79.00\" xmlns=\"http://www.w3.org/2000/svg\" xmlns:xlink=\"http://www.w3.org/1999/xlink\">\n<g id=\"graph0\" class=\"graph\" transform=\"scale(1 1) rotate(0) translate(4 75)\">\n<title>%3</title>\n<polygon fill=\"white\" stroke=\"transparent\" points=\"-4,4 -4,-75 375,-75 375,4 -4,4\"/>\n<!-- c -->\n<g id=\"node1\" class=\"node\">\n<title>c</title>\n<ellipse fill=\"none\" stroke=\"black\" cx=\"27\" cy=\"-18\" rx=\"27\" ry=\"18\"/>\n<text text-anchor=\"middle\" x=\"27\" y=\"-14.3\" font-family=\"Times,serif\" font-size=\"14.00\">c</text>\n</g>\n<!-- y -->\n<g id=\"node2\" class=\"node\">\n<title>y</title>\n<ellipse fill=\"none\" stroke=\"black\" cx=\"185.5\" cy=\"-53\" rx=\"27\" ry=\"18\"/>\n<text text-anchor=\"middle\" x=\"185.5\" y=\"-49.3\" font-family=\"Times,serif\" font-size=\"14.00\">y</text>\n</g>\n<!-- c&#45;&#45;y -->\n<g id=\"edge2\" class=\"edge\">\n<title>c&#45;&#45;y</title>\n<path fill=\"none\" stroke=\"black\" d=\"M52.8,-23.55C82.02,-30.08 130.28,-40.87 159.56,-47.42\"/>\n<text text-anchor=\"middle\" x=\"92.5\" y=\"-39.8\" font-family=\"Times,serif\" font-size=\"14.00\">0.032</text>\n</g>\n<!-- yhat -->\n<g id=\"node3\" class=\"node\">\n<title>yhat</title>\n<ellipse fill=\"none\" stroke=\"black\" cx=\"344\" cy=\"-18\" rx=\"27\" ry=\"18\"/>\n<text text-anchor=\"start\" x=\"339.5\" y=\"-14.3\" font-family=\"Times,serif\" font-size=\"14.00\">ŷ</text>\n</g>\n<!-- c&#45;&#45;yhat -->\n<g id=\"edge1\" class=\"edge\">\n<title>c&#45;&#45;yhat</title>\n<path fill=\"none\" stroke=\"black\" stroke-dasharray=\"5,2\" d=\"M53.8,-15.76C74.61,-14.07 104.67,-11.89 131,-11 179.42,-9.36 191.58,-9.36 240,-11 266.33,-11.89 296.39,-14.07 317.2,-15.76\"/>\n<text text-anchor=\"middle\" x=\"185.5\" y=\"-14.8\" font-family=\"Times,serif\" font-size=\"14.00\">0.013 (p=0.66)</text>\n</g>\n<!-- y&#45;&#45;yhat -->\n<g id=\"edge3\" class=\"edge\">\n<title>y&#45;&#45;yhat</title>\n<path fill=\"none\" stroke=\"black\" d=\"M211.3,-47.45C240.52,-40.92 288.78,-30.13 318.06,-23.58\"/>\n<text text-anchor=\"middle\" x=\"278.5\" y=\"-39.8\" font-family=\"Times,serif\" font-size=\"14.00\">0.122</text>\n</g>\n</g>\n</svg>\n"
     },
     "execution_count": 37,
     "metadata": {},
     "output_type": "execute_result"
    }
   ],
   "source": [
    "plot_graph(partial_confound_test(y, predicted, pd.Categorical(df['Acquisition'].values).codes, cat_c=True,\n",
    "                                    random_state=42), outfile_base='../fig/raw/emp_hcp_acq_comb_partial')"
   ]
  },
  {
   "cell_type": "code",
   "execution_count": 38,
   "metadata": {
    "ExecuteTime": {
     "end_time": "2021-08-01T13:03:49.731309Z",
     "start_time": "2021-08-01T13:03:42.718992Z"
    },
    "pycharm": {
     "name": "#%%\n"
    }
   },
   "outputs": [
    {
     "name": "stderr",
     "output_type": "stream",
     "text": [
      "Permuting: 100%|██████████| 1000/1000 [00:01<00:00, 703.27it/s]\n"
     ]
    },
    {
     "data": {
      "text/plain": "<graphviz.dot.Graph at 0x7fdb91887370>",
      "image/svg+xml": "<?xml version=\"1.0\" encoding=\"UTF-8\" standalone=\"no\"?>\n<!DOCTYPE svg PUBLIC \"-//W3C//DTD SVG 1.1//EN\"\n \"http://www.w3.org/Graphics/SVG/1.1/DTD/svg11.dtd\">\n<!-- Generated by graphviz version 2.43.0 (0)\n -->\n<!-- Title: %3 Pages: 1 -->\n<svg width=\"416pt\" height=\"79pt\"\n viewBox=\"0.00 0.00 416.00 79.00\" xmlns=\"http://www.w3.org/2000/svg\" xmlns:xlink=\"http://www.w3.org/1999/xlink\">\n<g id=\"graph0\" class=\"graph\" transform=\"scale(1 1) rotate(0) translate(4 75)\">\n<title>%3</title>\n<polygon fill=\"white\" stroke=\"transparent\" points=\"-4,4 -4,-75 412,-75 412,4 -4,4\"/>\n<!-- c -->\n<g id=\"node1\" class=\"node\">\n<title>c</title>\n<ellipse fill=\"none\" stroke=\"black\" cx=\"27\" cy=\"-18\" rx=\"27\" ry=\"18\"/>\n<text text-anchor=\"middle\" x=\"27\" y=\"-14.3\" font-family=\"Times,serif\" font-size=\"14.00\">c</text>\n</g>\n<!-- y -->\n<g id=\"node2\" class=\"node\">\n<title>y</title>\n<ellipse fill=\"none\" stroke=\"black\" cx=\"158\" cy=\"-53\" rx=\"27\" ry=\"18\"/>\n<text text-anchor=\"middle\" x=\"158\" y=\"-49.3\" font-family=\"Times,serif\" font-size=\"14.00\">y</text>\n</g>\n<!-- c&#45;&#45;y -->\n<g id=\"edge2\" class=\"edge\">\n<title>c&#45;&#45;y</title>\n<path fill=\"none\" stroke=\"black\" d=\"M52.26,-24.58C75.33,-30.84 109.82,-40.2 132.84,-46.45\"/>\n<text text-anchor=\"middle\" x=\"92.5\" y=\"-43.8\" font-family=\"Times,serif\" font-size=\"14.00\">0.032</text>\n</g>\n<!-- yhat -->\n<g id=\"node3\" class=\"node\">\n<title>yhat</title>\n<ellipse fill=\"none\" stroke=\"black\" cx=\"381\" cy=\"-18\" rx=\"27\" ry=\"18\"/>\n<text text-anchor=\"start\" x=\"376.5\" y=\"-14.3\" font-family=\"Times,serif\" font-size=\"14.00\">ŷ</text>\n</g>\n<!-- c&#45;&#45;yhat -->\n<g id=\"edge1\" class=\"edge\">\n<title>c&#45;&#45;yhat</title>\n<path fill=\"none\" stroke=\"black\" d=\"M53.8,-15.76C74.61,-14.07 104.67,-11.89 131,-11 212.26,-8.24 308.45,-13.31 353.83,-16.2\"/>\n<text text-anchor=\"middle\" x=\"158\" y=\"-14.8\" font-family=\"Times,serif\" font-size=\"14.00\">0.013</text>\n</g>\n<!-- y&#45;&#45;yhat -->\n<g id=\"edge3\" class=\"edge\">\n<title>y&#45;&#45;yhat</title>\n<path fill=\"none\" stroke=\"black\" stroke-dasharray=\"5,2\" d=\"M184.35,-48.99C226.87,-42.25 312.06,-28.76 354.6,-22.02\"/>\n<text text-anchor=\"middle\" x=\"269.5\" y=\"-48.8\" font-family=\"Times,serif\" font-size=\"14.00\">0.122 (p&lt;0.0001*)</text>\n</g>\n</g>\n</svg>\n"
     },
     "execution_count": 38,
     "metadata": {},
     "output_type": "execute_result"
    }
   ],
   "source": [
    "plot_graph(full_confound_test(y, predicted, pd.Categorical(df['Acquisition'].values).codes, cat_c=True,\n",
    "                                random_state=42), outfile_base='../fig/raw/emp_hcp_acq_comb_full')\n"
   ]
  },
  {
   "cell_type": "code",
   "execution_count": 39,
   "outputs": [
    {
     "name": "stdout",
     "output_type": "stream",
     "text": [
      "0.012865644754609495\n"
     ]
    },
    {
     "data": {
      "text/plain": "0.397"
     },
     "execution_count": 39,
     "metadata": {},
     "output_type": "execute_result"
    }
   ],
   "source": [
    "nulldist = []\n",
    "unpermuted = _r2_cat_cont(pd.Categorical(df['Acquisition'].values).codes, predicted)\n",
    "\n",
    "print(unpermuted)\n",
    "\n",
    "for i in range(1000):\n",
    "    yperm = np.random.\\\n",
    "        permutation(predicted)\n",
    "    nulldist.append(_r2_cat_cont(pd.Categorical(df['Acquisition'].values).codes, yperm))\n",
    "(nulldist >= unpermuted).sum()/len(nulldist)"
   ],
   "metadata": {
    "collapsed": false,
    "pycharm": {
     "name": "#%%\n"
    }
   }
  },
  {
   "cell_type": "code",
   "execution_count": 40,
   "outputs": [
    {
     "name": "stdout",
     "output_type": "stream",
     "text": [
      "0.12211374161425342\n"
     ]
    },
    {
     "data": {
      "text/plain": "0.0"
     },
     "execution_count": 40,
     "metadata": {},
     "output_type": "execute_result"
    }
   ],
   "source": [
    "nulldist = []\n",
    "unpermuted = _r2_cont_cont(y, predicted)\n",
    "\n",
    "print(unpermuted)\n",
    "\n",
    "for i in range(1000):\n",
    "    yperm = np.random.\\\n",
    "        permutation(predicted)\n",
    "    nulldist.append(_r2_cont_cont(y, yperm))\n",
    "(nulldist >= unpermuted).sum()/len(nulldist)\n"
   ],
   "metadata": {
    "collapsed": false,
    "pycharm": {
     "name": "#%%\n"
    }
   }
  },
  {
   "cell_type": "code",
   "execution_count": 41,
   "outputs": [
    {
     "name": "stdout",
     "output_type": "stream",
     "text": [
      "0.010731881875548643\n"
     ]
    },
    {
     "data": {
      "text/plain": "0.001"
     },
     "execution_count": 41,
     "metadata": {},
     "output_type": "execute_result"
    }
   ],
   "source": [
    "nulldist = []\n",
    "unpermuted = _r2_cont_cont(y, df['age'])\n",
    "\n",
    "print(unpermuted)\n",
    "\n",
    "for i in range(1000):\n",
    "    yperm = np.random.\\\n",
    "        permutation(y)\n",
    "    nulldist.append(_r2_cont_cont(yperm, df['age']))\n",
    "(nulldist >= unpermuted).sum()/len(nulldist)\n",
    "\n",
    "\n",
    "\n"
   ],
   "metadata": {
    "collapsed": false,
    "pycharm": {
     "name": "#%%\n"
    }
   }
  },
  {
   "cell_type": "code",
   "execution_count": 42,
   "outputs": [
    {
     "name": "stdout",
     "output_type": "stream",
     "text": [
      "0.031726862731525474\n"
     ]
    },
    {
     "data": {
      "text/plain": "0.001"
     },
     "execution_count": 42,
     "metadata": {},
     "output_type": "execute_result"
    }
   ],
   "source": [
    "nulldist = []\n",
    "unpermuted = _r2_cat_cont(df['Acquisition'], y)\n",
    "\n",
    "print(unpermuted)\n",
    "\n",
    "for i in range(1000):\n",
    "    yperm = np.random.permutation(y)\n",
    "    nulldist.append(_r2_cat_cont(df['Acquisition'], yperm))\n",
    "(nulldist >= unpermuted).sum()/len(nulldist)"
   ],
   "metadata": {
    "collapsed": false,
    "pycharm": {
     "name": "#%%\n"
    }
   }
  }
 ],
 "metadata": {
  "hide_input": false,
  "kernelspec": {
   "display_name": "Python 3",
   "language": "python",
   "name": "python3"
  },
  "language_info": {
   "codemirror_mode": {
    "name": "ipython",
    "version": 3
   },
   "file_extension": ".py",
   "mimetype": "text/x-python",
   "name": "python",
   "nbconvert_exporter": "python",
   "pygments_lexer": "ipython3",
   "version": "3.7.4"
  }
 },
 "nbformat": 4,
 "nbformat_minor": 2
}