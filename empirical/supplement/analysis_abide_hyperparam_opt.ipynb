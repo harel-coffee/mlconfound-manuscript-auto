{
 "cells": [
  {
   "cell_type": "markdown",
   "metadata": {
    "pycharm": {
     "name": "#%% md\n"
    }
   },
   "source": [
    "# Analysis of the ABIDE dataset\n",
    "\n",
    "### Imports"
   ]
  },
  {
   "cell_type": "code",
   "execution_count": 1,
   "metadata": {
    "ExecuteTime": {
     "end_time": "2021-08-03T20:38:07.505483Z",
     "start_time": "2021-08-03T20:38:07.492504Z"
    },
    "pycharm": {
     "name": "#%%\n"
    }
   },
   "outputs": [
    {
     "name": "stderr",
     "output_type": "stream",
     "text": [
      "/home/tspisak/src/RPN-signature/venv/lib/python3.8/site-packages/nilearn/datasets/__init__.py:86: FutureWarning: Fetchers from the nilearn.datasets module will be updated in version 0.9 to return python strings instead of bytes and Pandas dataframes instead of Numpy arrays.\n",
      "  warn(\"Fetchers from the nilearn.datasets module will be \"\n",
      "/home/tspisak/src/RPN-signature/venv/lib/python3.8/site-packages/statsmodels/tsa/base/tsa_model.py:7: FutureWarning: pandas.Int64Index is deprecated and will be removed from pandas in a future version. Use pandas.Index with the appropriate dtype instead.\n",
      "  from pandas import (to_datetime, Int64Index, DatetimeIndex, Period,\n",
      "/home/tspisak/src/RPN-signature/venv/lib/python3.8/site-packages/statsmodels/tsa/base/tsa_model.py:7: FutureWarning: pandas.Float64Index is deprecated and will be removed from pandas in a future version. Use pandas.Index with the appropriate dtype instead.\n",
      "  from pandas import (to_datetime, Int64Index, DatetimeIndex, Period,\n"
     ]
    }
   ],
   "source": [
    "# for google colab\n",
    "!pip install nilearn neurocombat_sklearn mlconfound\n",
    "\n",
    "import warnings\n",
    "import os\n",
    "from os.path import join\n",
    "import numpy as np\n",
    "import pandas as pd\n",
    "from scipy.stats import kurtosis, skew\n",
    "\n",
    "import matplotlib.pyplot as plt\n",
    "import seaborn as sns\n",
    "sns.set_style(\"whitegrid\")\n",
    "\n",
    "from sklearn.model_selection import StratifiedKFold, GridSearchCV\n",
    "from sklearn.pipeline import Pipeline\n",
    "from sklearn.feature_selection import VarianceThreshold\n",
    "from sklearn.linear_model import LogisticRegression\n",
    "from sklearn.preprocessing import quantile_transform\n",
    "from sklearn.metrics import roc_curve, RocCurveDisplay\n",
    "from nilearn.datasets.utils import _uncompress_file, _fetch_file\n",
    "from nilearn.connectome import ConnectivityMeasure\n",
    "\n",
    "from neurocombat_sklearn import CombatModel\n",
    "\n",
    "import statsmodels.api as sm\n",
    "from statsmodels.regression.linear_model import OLS\n",
    "from statsmodels.formula.api import ols as ols_f\n",
    "\n",
    "from mlconfound.stats import full_confound_test, partial_confound_test\n",
    "from mlconfound.plot import plot_graph\n",
    "from mlconfound.stats import _r2_cat_cont, _r2_cont_cont, _r2_cat_cat"
   ]
  },
  {
   "cell_type": "markdown",
   "metadata": {
    "ExecuteTime": {
     "end_time": "2021-07-31T18:11:08.469487Z",
     "start_time": "2021-07-31T18:11:08.452669Z"
    },
    "pycharm": {
     "name": "#%% md\n"
    }
   },
   "source": [
    "## Load data"
   ]
  },
  {
   "cell_type": "code",
   "execution_count": 2,
   "metadata": {
    "ExecuteTime": {
     "end_time": "2021-08-01T19:07:13.775609Z",
     "start_time": "2021-08-01T19:07:13.772837Z"
    },
    "pycharm": {
     "name": "#%%\n"
    }
   },
   "outputs": [
    {
     "name": "stdout",
     "output_type": "stream",
     "text": [
      "Downloading data from https://osf.io/hc4md/download ...\n"
     ]
    },
    {
     "name": "stderr",
     "output_type": "stream",
     "text": [
      "Downloaded 1805828096 of 1811491701 bytes (99.7%,    0.5s remaining) ...done. (151 seconds, 2 min)\n",
      "Extracting data from data/ABIDE/download..... done.\n"
     ]
    }
   ],
   "source": [
    "data_dir = 'data/ABIDE'\n",
    "\n",
    "url = 'https://osf.io/hc4md/download'\n",
    "\n",
    "# Download the zip file, first\n",
    "dl_file = _fetch_file(url, data_dir=data_dir)\n",
    "\n",
    "# Second, uncompress the downloaded zip file\n",
    "_uncompress_file(dl_file, verbose=2)\n"
   ]
  },
  {
   "cell_type": "code",
   "execution_count": 4,
   "metadata": {
    "ExecuteTime": {
     "end_time": "2021-08-01T19:07:13.788158Z",
     "start_time": "2021-08-01T19:07:13.779135Z"
    },
    "pycharm": {
     "name": "#%%\n"
    }
   },
   "outputs": [],
   "source": [
    "def _get_paths(phenotypic, atlas, timeseries_dir):\n",
    "    timeseries = []\n",
    "    IDs_subject = []\n",
    "    diagnosis = []\n",
    "    subject_ids = phenotypic['SUB_ID']\n",
    "    mean_fd = []\n",
    "    num_fd = []\n",
    "    perc_fd = []\n",
    "    site = []\n",
    "    for index, subject_id in enumerate(subject_ids):\n",
    "        this_pheno = phenotypic[phenotypic['SUB_ID'] == subject_id]\n",
    "        this_timeseries = join(timeseries_dir, atlas,\n",
    "                               str(subject_id) + '_timeseries.txt')\n",
    "        if os.path.exists(this_timeseries):\n",
    "            timeseries.append(np.loadtxt(this_timeseries))\n",
    "            IDs_subject.append(subject_id)\n",
    "            diagnosis.append(this_pheno['DX_GROUP'].values[0])\n",
    "            mean_fd.append(this_pheno['func_mean_fd'].values[0])\n",
    "            num_fd.append(this_pheno['func_num_fd'].values[0])\n",
    "            perc_fd.append(this_pheno['func_perc_fd'].values[0])\n",
    "            site.append(this_pheno['SITE_ID'].values[0])\n",
    "    return timeseries, diagnosis, IDs_subject, mean_fd, num_fd, perc_fd, site"
   ]
  },
  {
   "cell_type": "markdown",
   "metadata": {
    "ExecuteTime": {
     "end_time": "2021-08-01T19:07:43.346661Z",
     "start_time": "2021-08-01T19:07:13.792338Z"
    },
    "pycharm": {
     "name": "#%% md\n"
    }
   },
   "source": [
    "Download the phenotypic summary information file form the preprocessed connectomes project.\n",
    "- First read:\n",
    "  http://preprocessed-connectomes-project.org/abide/download.html\n",
    "- Then download:\n",
    "  https://s3.amazonaws.com/fcp-indi/data/Projects/ABIDE_Initiative/Phenotypic_V1_0b_preprocessed1.csv\n",
    "- Copy the csv file into the data_in/ABIDE directory"
   ]
  },
  {
   "cell_type": "code",
   "execution_count": 5,
   "outputs": [
    {
     "data": {
      "text/plain": "array(['SUB_ID', 'X', 'subject', 'SITE_ID', 'FILE_ID', 'DX_GROUP',\n       'DSM_IV_TR', 'AGE_AT_SCAN', 'SEX', 'HANDEDNESS_CATEGORY',\n       'HANDEDNESS_SCORES', 'FIQ', 'VIQ', 'PIQ', 'FIQ_TEST_TYPE',\n       'VIQ_TEST_TYPE', 'PIQ_TEST_TYPE', 'ADI_R_SOCIAL_TOTAL_A',\n       'ADI_R_VERBAL_TOTAL_BV', 'ADI_RRB_TOTAL_C', 'ADI_R_ONSET_TOTAL_D',\n       'ADI_R_RSRCH_RELIABLE', 'ADOS_MODULE', 'ADOS_TOTAL', 'ADOS_COMM',\n       'ADOS_SOCIAL', 'ADOS_STEREO_BEHAV', 'ADOS_RSRCH_RELIABLE',\n       'ADOS_GOTHAM_SOCAFFECT', 'ADOS_GOTHAM_RRB', 'ADOS_GOTHAM_TOTAL',\n       'ADOS_GOTHAM_SEVERITY', 'SRS_VERSION', 'SRS_RAW_TOTAL',\n       'SRS_AWARENESS', 'SRS_COGNITION', 'SRS_COMMUNICATION',\n       'SRS_MOTIVATION', 'SRS_MANNERISMS', 'SCQ_TOTAL', 'AQ_TOTAL',\n       'COMORBIDITY', 'CURRENT_MED_STATUS', 'MEDICATION_NAME',\n       'OFF_STIMULANTS_AT_SCAN', 'VINELAND_RECEPTIVE_V_SCALED',\n       'VINELAND_EXPRESSIVE_V_SCALED', 'VINELAND_WRITTEN_V_SCALED',\n       'VINELAND_COMMUNICATION_STANDARD', 'VINELAND_PERSONAL_V_SCALED',\n       'VINELAND_DOMESTIC_V_SCALED', 'VINELAND_COMMUNITY_V_SCALED',\n       'VINELAND_DAILYLVNG_STANDARD', 'VINELAND_INTERPERSONAL_V_SCALED',\n       'VINELAND_PLAY_V_SCALED', 'VINELAND_COPING_V_SCALED',\n       'VINELAND_SOCIAL_STANDARD', 'VINELAND_SUM_SCORES',\n       'VINELAND_ABC_STANDARD', 'VINELAND_INFORMANT', 'WISC_IV_VCI',\n       'WISC_IV_PRI', 'WISC_IV_WMI', 'WISC_IV_PSI', 'WISC_IV_SIM_SCALED',\n       'WISC_IV_VOCAB_SCALED', 'WISC_IV_INFO_SCALED',\n       'WISC_IV_BLK_DSN_SCALED', 'WISC_IV_PIC_CON_SCALED',\n       'WISC_IV_MATRIX_SCALED', 'WISC_IV_DIGIT_SPAN_SCALED',\n       'WISC_IV_LET_NUM_SCALED', 'WISC_IV_CODING_SCALED',\n       'WISC_IV_SYM_SCALED', 'EYE_STATUS_AT_SCAN', 'AGE_AT_MPRAGE', 'BMI',\n       'anat_cnr', 'anat_efc', 'anat_fber', 'anat_fwhm', 'anat_qi1',\n       'anat_snr', 'func_efc', 'func_fber', 'func_fwhm', 'func_dvars',\n       'func_outlier', 'func_quality', 'func_mean_fd', 'func_num_fd',\n       'func_perc_fd', 'func_gsr', 'qc_rater_1', 'qc_notes_rater_1',\n       'qc_anat_rater_2', 'qc_anat_notes_rater_2', 'qc_func_rater_2',\n       'qc_func_notes_rater_2', 'qc_anat_rater_3',\n       'qc_anat_notes_rater_3', 'qc_func_rater_3',\n       'qc_func_notes_rater_3', 'SUB_IN_SMP'], dtype=object)"
     },
     "execution_count": 5,
     "metadata": {},
     "output_type": "execute_result"
    }
   ],
   "source": [
    "phenotypic = pd.read_csv('data/ABIDE/Phenotypic_V1_0b_preprocessed1.csv').iloc[:,2:]\n",
    "timeseries, diagnosis, IDs_subject, mean_fd, num_fd, perc_fd, site = _get_paths(phenotypic, \"BASC/regions\", 'data/ABIDE/')\n",
    "sites, site_int = np.unique(site, return_inverse=True)\n",
    "phenotypic.columns.values"
   ],
   "metadata": {
    "collapsed": false,
    "pycharm": {
     "name": "#%%\n"
    }
   }
  },
  {
   "cell_type": "code",
   "execution_count": 6,
   "metadata": {
    "ExecuteTime": {
     "end_time": "2021-08-01T19:07:43.923330Z",
     "start_time": "2021-08-01T19:07:43.348786Z"
    },
    "pycharm": {
     "name": "#%%\n"
    }
   },
   "outputs": [
    {
     "data": {
      "text/plain": "(41.170464362909215, 5.142594423450439)"
     },
     "execution_count": 6,
     "metadata": {},
     "output_type": "execute_result"
    },
    {
     "data": {
      "text/plain": "<Figure size 432x288 with 1 Axes>",
      "image/png": "[encoded data removed]"
     },
     "metadata": {},
     "output_type": "display_data"
    }
   ],
   "source": [
    "sns.histplot(mean_fd, color='gray')\n",
    "plt.savefig('../fig/raw/emp_abide_motion_hist.pdf')\n",
    "kurtosis(mean_fd), skew(mean_fd)"
   ]
  },
  {
   "cell_type": "code",
   "execution_count": 7,
   "metadata": {
    "ExecuteTime": {
     "end_time": "2021-08-01T19:07:44.142044Z",
     "start_time": "2021-08-01T19:07:43.925958Z"
    },
    "pycharm": {
     "name": "#%%\n"
    }
   },
   "outputs": [
    {
     "data": {
      "text/plain": "(0.492398885189945, 0.6060249878053774)"
     },
     "execution_count": 7,
     "metadata": {},
     "output_type": "execute_result"
    },
    {
     "data": {
      "text/plain": "<Figure size 432x288 with 1 Axes>",
      "image/png": "[encoded data removed]"
     },
     "metadata": {},
     "output_type": "display_data"
    }
   ],
   "source": [
    "sns.histplot(np.log(mean_fd), color='gray')\n",
    "kurtosis(np.log(mean_fd)), skew(np.log(mean_fd))"
   ]
  },
  {
   "cell_type": "code",
   "execution_count": 8,
   "outputs": [
    {
     "data": {
      "text/plain": "<Figure size 432x288 with 1 Axes>",
      "image/png": "[encoded data removed]"
     },
     "metadata": {},
     "output_type": "display_data"
    }
   ],
   "source": [
    "rng = np.random.default_rng(42)\n",
    "mean_fd_trf = quantile_transform(np.array([mean_fd]).T, output_distribution='normal',\n",
    "                                 n_quantiles=len(mean_fd)).flatten()\n",
    "\n",
    "sns.histplot(mean_fd_trf, color='gray')\n",
    "plt.savefig('../fig/raw/emp_abide_motion_quanttrf_hist.pdf')\n",
    "\n",
    "kurtosis(mean_fd_trf), skew(mean_fd_trf)\n",
    "mean_fd = mean_fd_trf\n"
   ],
   "metadata": {
    "collapsed": false,
    "pycharm": {
     "name": "#%%\n"
    }
   }
  },
  {
   "cell_type": "markdown",
   "metadata": {
    "pycharm": {
     "name": "#%% md\n"
    }
   },
   "source": [
    "## Binning motion data (to be used later)"
   ]
  },
  {
   "cell_type": "code",
   "execution_count": 9,
   "metadata": {
    "ExecuteTime": {
     "end_time": "2021-08-01T19:07:44.473432Z",
     "start_time": "2021-08-01T19:07:44.469383Z"
    },
    "pycharm": {
     "name": "#%%\n"
    }
   },
   "outputs": [],
   "source": [
    "# binning mean_fd\n",
    "bins = 10 # approximately 80 subject per motion group\n",
    "\n",
    "limits = np.quantile(mean_fd, np.arange(0, 1, 1/bins))\n",
    "mean_fd_binned = np.digitize(mean_fd, limits)"
   ]
  },
  {
   "cell_type": "markdown",
   "metadata": {
    "pycharm": {
     "name": "#%% md\n"
    }
   },
   "source": [
    "## Calculate connectivity"
   ]
  },
  {
   "cell_type": "code",
   "execution_count": 10,
   "metadata": {
    "ExecuteTime": {
     "end_time": "2021-08-01T19:08:30.169375Z",
     "start_time": "2021-08-01T19:07:44.477020Z"
    },
    "pycharm": {
     "name": "#%%\n"
    }
   },
   "outputs": [],
   "source": [
    "connections = ConnectivityMeasure(kind='tangent', vectorize=True, discard_diagonal=True)\n",
    "conn_coefs = connections.fit_transform(timeseries)"
   ]
  },
  {
   "cell_type": "code",
   "execution_count": 11,
   "metadata": {
    "ExecuteTime": {
     "end_time": "2021-08-01T19:08:30.175223Z",
     "start_time": "2021-08-01T19:08:30.171729Z"
    },
    "pycharm": {
     "name": "#%%\n"
    }
   },
   "outputs": [],
   "source": [
    "_, y = np.unique(diagnosis, return_inverse=True)\n",
    "X = conn_coefs"
   ]
  },
  {
   "cell_type": "markdown",
   "metadata": {
    "pycharm": {
     "name": "#%% md\n"
    }
   },
   "source": [
    "# Machine learning (raw)"
   ]
  },
  {
   "cell_type": "code",
   "execution_count": 12,
   "metadata": {
    "ExecuteTime": {
     "end_time": "2021-08-01T19:10:39.155286Z",
     "start_time": "2021-08-01T19:08:30.177736Z"
    },
    "pycharm": {
     "name": "#%%\n"
    }
   },
   "outputs": [
    {
     "name": "stdout",
     "output_type": "stream",
     "text": [
      "model\tinner_cv mean score\touter vc score\n",
      "cv: 0 {'model__C': 0.1} 0.7100334219236659 0.690880169671262\n",
      "cv: 1 {'model__C': 0.1} 0.7120691684716075 0.6458112407211029\n",
      "cv: 2 {'model__C': 0.1} 0.7018831113343309 0.6851063829787234\n",
      "cv: 3 {'model__C': 0.1} 0.683804187462724 0.8202127659574467\n",
      "cv: 4 {'model__C': 1} 0.6986948621094962 0.7351063829787234\n",
      "cv: 5 {'model__C': 0.1} 0.7201791512767122 0.6872340425531914\n",
      "cv: 6 {'model__C': 0.1} 0.6974297468199907 0.7592391304347826\n",
      "cv: 7 {'model__C': 0.1} 0.7031858949541876 0.7597826086956522\n",
      "cv: 8 {'model__C': 0.1} 0.7127732261878603 0.7440217391304348\n",
      "cv: 9 {'model__C': 0.1} 0.7333955035174546 0.6059782608695652\n"
     ]
    }
   ],
   "source": [
    "outer_cv = StratifiedKFold(10)\n",
    "inner_cv = StratifiedKFold(10) \n",
    "model = Pipeline([\n",
    "    ('varthr', VarianceThreshold(0)),   # omit zero variance columns (diagonal)\n",
    "    ('model', LogisticRegression())])\n",
    "\n",
    "p_grid = {'model__C': [0.0001, 0.001, 0.1, 1, 10, 100]}\n",
    "\n",
    "clf = GridSearchCV(estimator=model, param_grid=p_grid, cv=StratifiedKFold(10),\n",
    "                   scoring=\"roc_auc\", return_train_score=False,\n",
    "                   n_jobs=-1)\n",
    "\n",
    "all_models = []\n",
    "best_params = []\n",
    "predicted = np.zeros(len(y))\n",
    "predicted_prob = np.zeros(len(y))\n",
    "nested_scores_train = np.zeros(outer_cv.get_n_splits(X))\n",
    "nested_scores_test = np.zeros(outer_cv.get_n_splits(X))   \n",
    "                                    \n",
    "print(\"model\\tinner_cv mean score\\touter vc score\")\n",
    "i=0\n",
    "for train, test in outer_cv.split(X, y):\n",
    "\n",
    "    clf.fit(X[train], y[train])\n",
    "                                    \n",
    "    print('cv:', i, str(clf.best_params_) + \" \" + str(clf.best_score_) + \" \" + str(clf.score(X[test], y[test])))\n",
    "                                    \n",
    "    all_models.append(clf.best_estimator_)\n",
    "    best_params.append(clf.best_params_)\n",
    "    \n",
    "    predicted[test] = clf.predict(X[test])\n",
    "    predicted_prob[test] = clf.predict_proba(X[test])[:,0]\n",
    "                                    \n",
    "    nested_scores_train[i] = clf.best_score_\n",
    "    nested_scores_test[i] = clf.score(X[test], y[test])\n",
    "    i = i+1"
   ]
  },
  {
   "cell_type": "code",
   "execution_count": 13,
   "metadata": {
    "ExecuteTime": {
     "end_time": "2021-08-01T19:10:39.395184Z",
     "start_time": "2021-08-01T19:10:39.157640Z"
    },
    "pycharm": {
     "name": "#%%\n"
    }
   },
   "outputs": [
    {
     "name": "stdout",
     "output_type": "stream",
     "text": [
      "** Mean score in the inner crossvaludation (inner_cv):\t0.7073448274058031\n",
      "** Mean Nested Crossvalidation Score (outer_cv):\t0.7133372723990885\n"
     ]
    },
    {
     "data": {
      "text/plain": "<Figure size 360x144 with 1 Axes>",
      "image/png": "[encoded data removed]"
     },
     "metadata": {},
     "output_type": "display_data"
    }
   ],
   "source": [
    "print(\"** Mean score in the inner crossvaludation (inner_cv):\\t\" + str(nested_scores_train.mean()))\n",
    "print(\"** Mean Nested Crossvalidation Score (outer_cv):\\t\" + str(nested_scores_test.mean()))\n",
    "\n",
    "fpr, tpr, _ = roc_curve(y, predicted_prob, pos_label=0)\n",
    "fig, ax = plt.subplots(figsize=(5,2))\n",
    "RocCurveDisplay(fpr=fpr, tpr=tpr).plot(ax=ax) \n",
    "plt.savefig('../fig/raw/emp_abide_raw_rocplot.pdf')\n"
   ]
  },
  {
   "cell_type": "code",
   "execution_count": 14,
   "metadata": {
    "ExecuteTime": {
     "end_time": "2021-08-01T19:10:43.271820Z",
     "start_time": "2021-08-01T19:10:39.397308Z"
    },
    "pycharm": {
     "name": "#%%\n"
    }
   },
   "outputs": [
    {
     "data": {
      "text/plain": "<Figure size 360x108 with 1 Axes>",
      "image/png": "[encoded data removed]"
     },
     "metadata": {},
     "output_type": "display_data"
    }
   ],
   "source": [
    "plt.figure(figsize=(5,1.5))\n",
    "\n",
    "pal=[sns.color_palette(\"coolwarm\", 10)[-1], sns.color_palette(\"coolwarm\", 10)[0]]\n",
    "sns.stripplot(x=site, y=predicted_prob, hue=y, palette=pal, alpha=0.2, jitter=0.2, dodge=True)\n",
    "ax=sns.boxplot(x=site, y=predicted_prob, hue=y, showfliers = False)\n",
    "for box in ax.artists:\n",
    "    box.set_facecolor((1,1,1,0))\n",
    "plt.xticks(rotation=90)\n",
    "for i in range(len(np.unique(site))):\n",
    "    plt.axvline(i+0.5, color=\"gray\", alpha=0.5, linewidth=0.5)\n",
    "plt.savefig('../fig/raw/emp_abide_site_raw_striplot.pdf')"
   ]
  },
  {
   "cell_type": "code",
   "execution_count": 15,
   "metadata": {
    "ExecuteTime": {
     "end_time": "2021-08-01T19:10:44.301753Z",
     "start_time": "2021-08-01T19:10:43.274005Z"
    },
    "pycharm": {
     "name": "#%%\n"
    }
   },
   "outputs": [
    {
     "data": {
      "text/plain": "<Figure size 360x144 with 1 Axes>",
      "image/png": "[encoded data removed]"
     },
     "metadata": {},
     "output_type": "display_data"
    }
   ],
   "source": [
    "plt.figure(figsize=(5,2))\n",
    "sns.stripplot(x=y, y=predicted_prob, hue=mean_fd_binned,\n",
    "              palette=\"coolwarm\", alpha=0.4, jitter=0.4, dodge=True)\n",
    "sns.boxplot(x=y, y=predicted_prob, color=(1,1,1,1))\n",
    "plt.legend([],[], frameon=False)\n",
    "plt.savefig('../fig/raw/emp_abide_motion_raw_stripplot.pdf')"
   ]
  },
  {
   "cell_type": "code",
   "execution_count": 16,
   "outputs": [
    {
     "name": "stderr",
     "output_type": "stream",
     "text": [
      "Permuting: 100%|██████████| 1000/1000 [00:01<00:00, 656.00it/s]\n"
     ]
    },
    {
     "data": {
      "text/plain": "<graphviz.dot.Graph at 0x7fb29499ad30>",
      "image/svg+xml": "<?xml version=\"1.0\" encoding=\"UTF-8\" standalone=\"no\"?>\n<!DOCTYPE svg PUBLIC \"-//W3C//DTD SVG 1.1//EN\"\n \"http://www.w3.org/Graphics/SVG/1.1/DTD/svg11.dtd\">\n<!-- Generated by graphviz version 2.43.0 (0)\n -->\n<!-- Title: %3 Pages: 1 -->\n<svg width=\"403pt\" height=\"79pt\"\n viewBox=\"0.00 0.00 403.00 79.00\" xmlns=\"http://www.w3.org/2000/svg\" xmlns:xlink=\"http://www.w3.org/1999/xlink\">\n<g id=\"graph0\" class=\"graph\" transform=\"scale(1 1) rotate(0) translate(4 75)\">\n<title>%3</title>\n<polygon fill=\"white\" stroke=\"transparent\" points=\"-4,4 -4,-75 399,-75 399,4 -4,4\"/>\n<!-- c -->\n<g id=\"node1\" class=\"node\">\n<title>c</title>\n<ellipse fill=\"none\" stroke=\"black\" cx=\"27\" cy=\"-18\" rx=\"27\" ry=\"18\"/>\n<text text-anchor=\"middle\" x=\"27\" y=\"-14.3\" font-family=\"Times,serif\" font-size=\"14.00\">c</text>\n</g>\n<!-- y -->\n<g id=\"node2\" class=\"node\">\n<title>y</title>\n<ellipse fill=\"none\" stroke=\"black\" cx=\"197.5\" cy=\"-53\" rx=\"27\" ry=\"18\"/>\n<text text-anchor=\"middle\" x=\"197.5\" y=\"-49.3\" font-family=\"Times,serif\" font-size=\"14.00\">y</text>\n</g>\n<!-- c&#45;&#45;y -->\n<g id=\"edge2\" class=\"edge\">\n<title>c&#45;&#45;y</title>\n<path fill=\"none\" stroke=\"black\" d=\"M53.23,-23.24C85.08,-29.86 139.57,-41.17 171.38,-47.78\"/>\n<text text-anchor=\"middle\" x=\"92.5\" y=\"-38.8\" font-family=\"Times,serif\" font-size=\"14.00\">0.028</text>\n</g>\n<!-- yhat -->\n<g id=\"node3\" class=\"node\">\n<title>yhat</title>\n<ellipse fill=\"none\" stroke=\"black\" cx=\"368\" cy=\"-18\" rx=\"27\" ry=\"18\"/>\n<text text-anchor=\"start\" x=\"363.5\" y=\"-14.3\" font-family=\"Times,serif\" font-size=\"14.00\">ŷ</text>\n</g>\n<!-- c&#45;&#45;yhat -->\n<g id=\"edge1\" class=\"edge\">\n<title>c&#45;&#45;yhat</title>\n<path fill=\"none\" stroke=\"black\" stroke-dasharray=\"5,2\" d=\"M53.8,-15.76C74.61,-14.07 104.67,-11.89 131,-11 190.08,-8.99 204.92,-8.99 264,-11 290.33,-11.89 320.39,-14.07 341.2,-15.76\"/>\n<text text-anchor=\"middle\" x=\"197.5\" y=\"-14.8\" font-family=\"Times,serif\" font-size=\"14.00\">0.111 (p&lt;0.0001*)</text>\n</g>\n<!-- y&#45;&#45;yhat -->\n<g id=\"edge3\" class=\"edge\">\n<title>y&#45;&#45;yhat</title>\n<path fill=\"none\" stroke=\"black\" d=\"M223.73,-47.76C255.58,-41.14 310.07,-29.83 341.88,-23.22\"/>\n<text text-anchor=\"middle\" x=\"302.5\" y=\"-38.8\" font-family=\"Times,serif\" font-size=\"14.00\">0.126</text>\n</g>\n</g>\n</svg>\n"
     },
     "execution_count": 16,
     "metadata": {},
     "output_type": "execute_result"
    }
   ],
   "source": [
    "plot_graph(partial_confound_test(y, predicted_prob, mean_fd, cat_y=True, cat_yhat=False,\n",
    "                                     random_state=42),\n",
    "          outfile_base='../fig/raw/emp_abide_motion_raw_partial')"
   ],
   "metadata": {
    "collapsed": false,
    "pycharm": {
     "name": "#%%\n"
    }
   }
  },
  {
   "cell_type": "code",
   "execution_count": 17,
   "metadata": {
    "ExecuteTime": {
     "end_time": "2021-08-01T19:10:53.212459Z",
     "start_time": "2021-08-01T19:10:49.083740Z"
    },
    "pycharm": {
     "name": "#%%\n"
    }
   },
   "outputs": [
    {
     "name": "stderr",
     "output_type": "stream",
     "text": [
      "Permuting: 100%|██████████| 1000/1000 [00:01<00:00, 512.48it/s]\n"
     ]
    },
    {
     "data": {
      "text/plain": "<graphviz.dot.Graph at 0x7fb294908c10>",
      "image/svg+xml": "<?xml version=\"1.0\" encoding=\"UTF-8\" standalone=\"no\"?>\n<!DOCTYPE svg PUBLIC \"-//W3C//DTD SVG 1.1//EN\"\n \"http://www.w3.org/Graphics/SVG/1.1/DTD/svg11.dtd\">\n<!-- Generated by graphviz version 2.43.0 (0)\n -->\n<!-- Title: %3 Pages: 1 -->\n<svg width=\"416pt\" height=\"79pt\"\n viewBox=\"0.00 0.00 416.00 79.00\" xmlns=\"http://www.w3.org/2000/svg\" xmlns:xlink=\"http://www.w3.org/1999/xlink\">\n<g id=\"graph0\" class=\"graph\" transform=\"scale(1 1) rotate(0) translate(4 75)\">\n<title>%3</title>\n<polygon fill=\"white\" stroke=\"transparent\" points=\"-4,4 -4,-75 412,-75 412,4 -4,4\"/>\n<!-- c -->\n<g id=\"node1\" class=\"node\">\n<title>c</title>\n<ellipse fill=\"none\" stroke=\"black\" cx=\"27\" cy=\"-18\" rx=\"27\" ry=\"18\"/>\n<text text-anchor=\"middle\" x=\"27\" y=\"-14.3\" font-family=\"Times,serif\" font-size=\"14.00\">c</text>\n</g>\n<!-- y -->\n<g id=\"node2\" class=\"node\">\n<title>y</title>\n<ellipse fill=\"none\" stroke=\"black\" cx=\"158\" cy=\"-53\" rx=\"27\" ry=\"18\"/>\n<text text-anchor=\"middle\" x=\"158\" y=\"-49.3\" font-family=\"Times,serif\" font-size=\"14.00\">y</text>\n</g>\n<!-- c&#45;&#45;y -->\n<g id=\"edge2\" class=\"edge\">\n<title>c&#45;&#45;y</title>\n<path fill=\"none\" stroke=\"black\" d=\"M52.26,-24.58C75.33,-30.84 109.82,-40.2 132.84,-46.45\"/>\n<text text-anchor=\"middle\" x=\"92.5\" y=\"-43.8\" font-family=\"Times,serif\" font-size=\"14.00\">0.028</text>\n</g>\n<!-- yhat -->\n<g id=\"node3\" class=\"node\">\n<title>yhat</title>\n<ellipse fill=\"none\" stroke=\"black\" cx=\"381\" cy=\"-18\" rx=\"27\" ry=\"18\"/>\n<text text-anchor=\"start\" x=\"376.5\" y=\"-14.3\" font-family=\"Times,serif\" font-size=\"14.00\">ŷ</text>\n</g>\n<!-- c&#45;&#45;yhat -->\n<g id=\"edge1\" class=\"edge\">\n<title>c&#45;&#45;yhat</title>\n<path fill=\"none\" stroke=\"black\" d=\"M53.8,-15.76C74.61,-14.07 104.67,-11.89 131,-11 212.26,-8.24 308.45,-13.31 353.83,-16.2\"/>\n<text text-anchor=\"middle\" x=\"158\" y=\"-14.8\" font-family=\"Times,serif\" font-size=\"14.00\">0.111</text>\n</g>\n<!-- y&#45;&#45;yhat -->\n<g id=\"edge3\" class=\"edge\">\n<title>y&#45;&#45;yhat</title>\n<path fill=\"none\" stroke=\"black\" stroke-dasharray=\"5,2\" d=\"M184.35,-48.99C226.87,-42.25 312.06,-28.76 354.6,-22.02\"/>\n<text text-anchor=\"middle\" x=\"269.5\" y=\"-48.8\" font-family=\"Times,serif\" font-size=\"14.00\">0.126 (p&lt;0.0001*)</text>\n</g>\n</g>\n</svg>\n"
     },
     "execution_count": 17,
     "metadata": {},
     "output_type": "execute_result"
    }
   ],
   "source": [
    "plot_graph(full_confound_test(y, predicted_prob, mean_fd, cat_y=True, cat_yhat=False,\n",
    "                                 random_state=42),\n",
    "          outfile_base='../fig/raw/emp_abide_motion_raw_full')"
   ]
  },
  {
   "cell_type": "code",
   "execution_count": 18,
   "outputs": [
    {
     "name": "stdout",
     "output_type": "stream",
     "text": [
      "0.11075648305937133\n"
     ]
    },
    {
     "data": {
      "text/plain": "0.0"
     },
     "execution_count": 18,
     "metadata": {},
     "output_type": "execute_result"
    }
   ],
   "source": [
    "nulldist = []\n",
    "unpermuted = _r2_cont_cont(predicted_prob, mean_fd)\n",
    "\n",
    "print(unpermuted)\n",
    "\n",
    "for i in range(1000):\n",
    "    yperm = np.random.permutation(predicted_prob)\n",
    "    nulldist.append(_r2_cont_cont(yperm, mean_fd))\n",
    "(nulldist >= unpermuted).sum()/len(nulldist)\n"
   ],
   "metadata": {
    "collapsed": false,
    "pycharm": {
     "name": "#%%\n"
    }
   }
  },
  {
   "cell_type": "code",
   "execution_count": 19,
   "outputs": [
    {
     "name": "stdout",
     "output_type": "stream",
     "text": [
      "0.12636970891102528\n"
     ]
    },
    {
     "data": {
      "text/plain": "0.0"
     },
     "execution_count": 19,
     "metadata": {},
     "output_type": "execute_result"
    }
   ],
   "source": [
    "nulldist = []\n",
    "unpermuted = _r2_cat_cont(y, predicted_prob)\n",
    "\n",
    "print(unpermuted)\n",
    "\n",
    "for i in range(1000):\n",
    "    yperm = np.random.permutation(predicted_prob)\n",
    "    nulldist.append(_r2_cat_cont(y, yperm))\n",
    "(nulldist >= unpermuted).sum()/len(nulldist)"
   ],
   "metadata": {
    "collapsed": false,
    "pycharm": {
     "name": "#%%\n"
    }
   }
  },
  {
   "cell_type": "code",
   "execution_count": 20,
   "metadata": {
    "ExecuteTime": {
     "end_time": "2021-08-01T19:10:59.660707Z",
     "start_time": "2021-08-01T19:10:53.215364Z"
    },
    "pycharm": {
     "name": "#%%\n"
    }
   },
   "outputs": [
    {
     "name": "stderr",
     "output_type": "stream",
     "text": [
      "Permuting: 100%|██████████| 1000/1000 [00:02<00:00, 450.01it/s]\n"
     ]
    },
    {
     "data": {
      "text/plain": "<graphviz.dot.Graph at 0x7fb295246af0>",
      "image/svg+xml": "<?xml version=\"1.0\" encoding=\"UTF-8\" standalone=\"no\"?>\n<!DOCTYPE svg PUBLIC \"-//W3C//DTD SVG 1.1//EN\"\n \"http://www.w3.org/Graphics/SVG/1.1/DTD/svg11.dtd\">\n<!-- Generated by graphviz version 2.43.0 (0)\n -->\n<!-- Title: %3 Pages: 1 -->\n<svg width=\"403pt\" height=\"79pt\"\n viewBox=\"0.00 0.00 403.00 79.00\" xmlns=\"http://www.w3.org/2000/svg\" xmlns:xlink=\"http://www.w3.org/1999/xlink\">\n<g id=\"graph0\" class=\"graph\" transform=\"scale(1 1) rotate(0) translate(4 75)\">\n<title>%3</title>\n<polygon fill=\"white\" stroke=\"transparent\" points=\"-4,4 -4,-75 399,-75 399,4 -4,4\"/>\n<!-- c -->\n<g id=\"node1\" class=\"node\">\n<title>c</title>\n<ellipse fill=\"none\" stroke=\"black\" cx=\"27\" cy=\"-18\" rx=\"27\" ry=\"18\"/>\n<text text-anchor=\"middle\" x=\"27\" y=\"-14.3\" font-family=\"Times,serif\" font-size=\"14.00\">c</text>\n</g>\n<!-- y -->\n<g id=\"node2\" class=\"node\">\n<title>y</title>\n<ellipse fill=\"none\" stroke=\"black\" cx=\"197.5\" cy=\"-53\" rx=\"27\" ry=\"18\"/>\n<text text-anchor=\"middle\" x=\"197.5\" y=\"-49.3\" font-family=\"Times,serif\" font-size=\"14.00\">y</text>\n</g>\n<!-- c&#45;&#45;y -->\n<g id=\"edge2\" class=\"edge\">\n<title>c&#45;&#45;y</title>\n<path fill=\"none\" stroke=\"black\" d=\"M53.23,-23.24C85.08,-29.86 139.57,-41.17 171.38,-47.78\"/>\n<text text-anchor=\"middle\" x=\"92.5\" y=\"-38.8\" font-family=\"Times,serif\" font-size=\"14.00\">0.019</text>\n</g>\n<!-- yhat -->\n<g id=\"node3\" class=\"node\">\n<title>yhat</title>\n<ellipse fill=\"none\" stroke=\"black\" cx=\"368\" cy=\"-18\" rx=\"27\" ry=\"18\"/>\n<text text-anchor=\"start\" x=\"363.5\" y=\"-14.3\" font-family=\"Times,serif\" font-size=\"14.00\">ŷ</text>\n</g>\n<!-- c&#45;&#45;yhat -->\n<g id=\"edge1\" class=\"edge\">\n<title>c&#45;&#45;yhat</title>\n<path fill=\"none\" stroke=\"black\" stroke-dasharray=\"5,2\" d=\"M53.8,-15.76C74.61,-14.07 104.67,-11.89 131,-11 190.08,-8.99 204.92,-8.99 264,-11 290.33,-11.89 320.39,-14.07 341.2,-15.76\"/>\n<text text-anchor=\"middle\" x=\"197.5\" y=\"-14.8\" font-family=\"Times,serif\" font-size=\"14.00\">0.169 (p&lt;0.0001*)</text>\n</g>\n<!-- y&#45;&#45;yhat -->\n<g id=\"edge3\" class=\"edge\">\n<title>y&#45;&#45;yhat</title>\n<path fill=\"none\" stroke=\"black\" d=\"M223.73,-47.76C255.58,-41.14 310.07,-29.83 341.88,-23.22\"/>\n<text text-anchor=\"middle\" x=\"302.5\" y=\"-38.8\" font-family=\"Times,serif\" font-size=\"14.00\">0.126</text>\n</g>\n</g>\n</svg>\n"
     },
     "execution_count": 20,
     "metadata": {},
     "output_type": "execute_result"
    }
   ],
   "source": [
    "plot_graph(partial_confound_test(y, predicted_prob, site_int,\n",
    "                                     cat_y=True, cat_yhat=False, cat_c=True,\n",
    "                                     random_state=42),\n",
    "          outfile_base='../fig/raw/emp_abide_site_raw_partial')"
   ]
  },
  {
   "cell_type": "code",
   "execution_count": 21,
   "metadata": {
    "ExecuteTime": {
     "end_time": "2021-08-01T19:11:03.792354Z",
     "start_time": "2021-08-01T19:10:59.663247Z"
    },
    "pycharm": {
     "name": "#%%\n"
    }
   },
   "outputs": [
    {
     "name": "stderr",
     "output_type": "stream",
     "text": [
      "Permuting: 100%|██████████| 1000/1000 [00:01<00:00, 501.11it/s]\n"
     ]
    },
    {
     "data": {
      "text/plain": "<graphviz.dot.Graph at 0x7fb2952d9be0>",
      "image/svg+xml": "<?xml version=\"1.0\" encoding=\"UTF-8\" standalone=\"no\"?>\n<!DOCTYPE svg PUBLIC \"-//W3C//DTD SVG 1.1//EN\"\n \"http://www.w3.org/Graphics/SVG/1.1/DTD/svg11.dtd\">\n<!-- Generated by graphviz version 2.43.0 (0)\n -->\n<!-- Title: %3 Pages: 1 -->\n<svg width=\"416pt\" height=\"79pt\"\n viewBox=\"0.00 0.00 416.00 79.00\" xmlns=\"http://www.w3.org/2000/svg\" xmlns:xlink=\"http://www.w3.org/1999/xlink\">\n<g id=\"graph0\" class=\"graph\" transform=\"scale(1 1) rotate(0) translate(4 75)\">\n<title>%3</title>\n<polygon fill=\"white\" stroke=\"transparent\" points=\"-4,4 -4,-75 412,-75 412,4 -4,4\"/>\n<!-- c -->\n<g id=\"node1\" class=\"node\">\n<title>c</title>\n<ellipse fill=\"none\" stroke=\"black\" cx=\"27\" cy=\"-18\" rx=\"27\" ry=\"18\"/>\n<text text-anchor=\"middle\" x=\"27\" y=\"-14.3\" font-family=\"Times,serif\" font-size=\"14.00\">c</text>\n</g>\n<!-- y -->\n<g id=\"node2\" class=\"node\">\n<title>y</title>\n<ellipse fill=\"none\" stroke=\"black\" cx=\"158\" cy=\"-53\" rx=\"27\" ry=\"18\"/>\n<text text-anchor=\"middle\" x=\"158\" y=\"-49.3\" font-family=\"Times,serif\" font-size=\"14.00\">y</text>\n</g>\n<!-- c&#45;&#45;y -->\n<g id=\"edge2\" class=\"edge\">\n<title>c&#45;&#45;y</title>\n<path fill=\"none\" stroke=\"black\" d=\"M52.26,-24.58C75.33,-30.84 109.82,-40.2 132.84,-46.45\"/>\n<text text-anchor=\"middle\" x=\"92.5\" y=\"-43.8\" font-family=\"Times,serif\" font-size=\"14.00\">0.019</text>\n</g>\n<!-- yhat -->\n<g id=\"node3\" class=\"node\">\n<title>yhat</title>\n<ellipse fill=\"none\" stroke=\"black\" cx=\"381\" cy=\"-18\" rx=\"27\" ry=\"18\"/>\n<text text-anchor=\"start\" x=\"376.5\" y=\"-14.3\" font-family=\"Times,serif\" font-size=\"14.00\">ŷ</text>\n</g>\n<!-- c&#45;&#45;yhat -->\n<g id=\"edge1\" class=\"edge\">\n<title>c&#45;&#45;yhat</title>\n<path fill=\"none\" stroke=\"black\" d=\"M53.8,-15.76C74.61,-14.07 104.67,-11.89 131,-11 212.26,-8.24 308.45,-13.31 353.83,-16.2\"/>\n<text text-anchor=\"middle\" x=\"158\" y=\"-14.8\" font-family=\"Times,serif\" font-size=\"14.00\">0.169</text>\n</g>\n<!-- y&#45;&#45;yhat -->\n<g id=\"edge3\" class=\"edge\">\n<title>y&#45;&#45;yhat</title>\n<path fill=\"none\" stroke=\"black\" stroke-dasharray=\"5,2\" d=\"M184.35,-48.99C226.87,-42.25 312.06,-28.76 354.6,-22.02\"/>\n<text text-anchor=\"middle\" x=\"269.5\" y=\"-48.8\" font-family=\"Times,serif\" font-size=\"14.00\">0.126 (p&lt;0.0001*)</text>\n</g>\n</g>\n</svg>\n"
     },
     "execution_count": 21,
     "metadata": {},
     "output_type": "execute_result"
    }
   ],
   "source": [
    "plot_graph(full_confound_test(y, predicted_prob, site_int,\n",
    "                                 cat_y=True, cat_yhat=False, cat_c=True,\n",
    "                                 random_state=42),\n",
    "          outfile_base='../fig/raw/emp_abide_site_raw_full')"
   ]
  },
  {
   "cell_type": "code",
   "execution_count": 22,
   "outputs": [
    {
     "name": "stdout",
     "output_type": "stream",
     "text": [
      "0.16862432442215103\n"
     ]
    },
    {
     "data": {
      "text/plain": "0.0"
     },
     "execution_count": 22,
     "metadata": {},
     "output_type": "execute_result"
    }
   ],
   "source": [
    "nulldist = []\n",
    "unpermuted = _r2_cat_cont(site_int, predicted_prob)\n",
    "\n",
    "print(unpermuted)\n",
    "\n",
    "for i in range(1000):\n",
    "    yperm = np.random.permutation(predicted_prob)\n",
    "    nulldist.append(_r2_cat_cont(site_int, yperm))\n",
    "(nulldist >= unpermuted).sum()/len(nulldist)"
   ],
   "metadata": {
    "collapsed": false,
    "pycharm": {
     "name": "#%%\n"
    }
   }
  },
  {
   "cell_type": "code",
   "execution_count": 23,
   "outputs": [
    {
     "name": "stdout",
     "output_type": "stream",
     "text": [
      "0.12636970891102528\n"
     ]
    },
    {
     "data": {
      "text/plain": "0.0"
     },
     "execution_count": 23,
     "metadata": {},
     "output_type": "execute_result"
    }
   ],
   "source": [
    "nulldist = []\n",
    "unpermuted = _r2_cat_cont(y, predicted_prob)\n",
    "\n",
    "print(unpermuted)\n",
    "\n",
    "for i in range(1000):\n",
    "    yperm = np.random.permutation(predicted_prob)\n",
    "    nulldist.append(_r2_cat_cont(y, yperm))\n",
    "(nulldist >= unpermuted).sum()/len(nulldist)\n"
   ],
   "metadata": {
    "collapsed": false,
    "pycharm": {
     "name": "#%%\n"
    }
   }
  },
  {
   "cell_type": "markdown",
   "metadata": {
    "pycharm": {
     "name": "#%% md\n"
    }
   },
   "source": [
    "# Regress out motion from the feature"
   ]
  },
  {
   "cell_type": "code",
   "execution_count": 24,
   "metadata": {
    "ExecuteTime": {
     "end_time": "2021-08-01T19:11:08.732782Z",
     "start_time": "2021-08-01T19:11:03.795694Z"
    },
    "pycharm": {
     "name": "#%%\n"
    }
   },
   "outputs": [],
   "source": [
    "# regress-out motion from connectivity\n",
    "X_adj = np.zeros_like(X)\n",
    "for i in range(X.shape[1]):\n",
    "    OLS_model = OLS(X[:,i], sm.add_constant(mean_fd)).fit()  # training the model\n",
    "    X_adj[:, i] = OLS_model.resid"
   ]
  },
  {
   "cell_type": "code",
   "execution_count": 29,
   "metadata": {
    "ExecuteTime": {
     "end_time": "2021-08-01T19:13:16.799521Z",
     "start_time": "2021-08-01T19:11:08.735495Z"
    },
    "pycharm": {
     "name": "#%%\n"
    }
   },
   "outputs": [
    {
     "name": "stdout",
     "output_type": "stream",
     "text": [
      "model\tinner_cv mean score\touter vc score\n",
      "cv: 0 {'model__C': 0.001} 0.6357084000376684 0.683457051961824\n",
      "cv: 1 {'model__C': 0.001} 0.6447213764286934 0.7147401908801697\n",
      "cv: 2 {'model__C': 0.001} 0.6448150676809212 0.6680851063829787\n",
      "cv: 3 {'model__C': 0.0001} 0.6343233913355864 0.7638297872340425\n",
      "cv: 4 {'model__C': 0.001} 0.6233241952754147 0.75\n",
      "cv: 5 {'model__C': 0.001} 0.6782887853009805 0.424468085106383\n",
      "cv: 6 {'model__C': 0.001} 0.6359056791983622 0.7010869565217391\n",
      "cv: 7 {'model__C': 0.001} 0.6420534210168356 0.6483695652173913\n",
      "cv: 8 {'model__C': 0.001} 0.6542919225846056 0.6505434782608697\n",
      "cv: 9 {'model__C': 0.001} 0.676047476047476 0.5407608695652174\n"
     ]
    }
   ],
   "source": [
    "outer_cv = StratifiedKFold(10)\n",
    "inner_cv = StratifiedKFold(10) \n",
    "model = Pipeline([\n",
    "    ('varthr', VarianceThreshold(0)),   # omit zero variance columns (diagonal)\n",
    "    #('fsel', SelectKBest(f_regression)),\n",
    "    ('model', LogisticRegression())])\n",
    "\n",
    "p_grid = {#'fsel__k': [500, 1000, 2000],\n",
    "          'model__C': [0.0001, 0.001, 0.1, 1, 10, 100]}\n",
    "\n",
    "clf = GridSearchCV(estimator=model, param_grid=p_grid, cv=StratifiedKFold(10),\n",
    "                   scoring=\"roc_auc\", return_train_score=False,\n",
    "                   n_jobs=-1)\n",
    "\n",
    "all_models = []\n",
    "best_params = []\n",
    "predicted = np.zeros(len(y))\n",
    "predicted_prob = np.zeros(len(y))\n",
    "nested_scores_train = np.zeros(outer_cv.get_n_splits(X_adj))\n",
    "nested_scores_test = np.zeros(outer_cv.get_n_splits(X_adj))   \n",
    "                                    \n",
    "print(\"model\\tinner_cv mean score\\touter vc score\")\n",
    "i=0\n",
    "for train, test in outer_cv.split(X, y):\n",
    "\n",
    "    clf.fit(X_adj[train], y[train])\n",
    "                                    \n",
    "    print('cv:', i, str(clf.best_params_) + \" \" + str(clf.best_score_) + \" \" + str(clf.score(X_adj[test], y[test])))\n",
    "                                    \n",
    "    all_models.append(clf.best_estimator_)\n",
    "    best_params.append(clf.best_params_)\n",
    "    \n",
    "    predicted[test] = clf.predict(X_adj[test])\n",
    "    predicted_prob[test] = clf.predict_proba(X_adj[test])[:,0]\n",
    "                                    \n",
    "    nested_scores_train[i] = clf.best_score_\n",
    "    nested_scores_test[i] = clf.score(X_adj[test], y[test])\n",
    "    i = i+1"
   ]
  },
  {
   "cell_type": "code",
   "execution_count": 30,
   "metadata": {
    "ExecuteTime": {
     "end_time": "2021-08-01T19:13:17.042359Z",
     "start_time": "2021-08-01T19:13:16.801739Z"
    },
    "scrolled": true,
    "pycharm": {
     "name": "#%%\n"
    }
   },
   "outputs": [
    {
     "name": "stdout",
     "output_type": "stream",
     "text": [
      "** Mean score in the inner crossvaludation (inner_cv):\t0.6469479714906543\n",
      "** Mean Nested Crossvalidation Score (outer_cv):\t0.6545341091130615\n"
     ]
    },
    {
     "data": {
      "text/plain": "<Figure size 360x144 with 1 Axes>",
      "image/png": "[encoded data removed]"
     },
     "metadata": {},
     "output_type": "display_data"
    }
   ],
   "source": [
    "print(\"** Mean score in the inner crossvaludation (inner_cv):\\t\" + str(nested_scores_train.mean()))\n",
    "print(\"** Mean Nested Crossvalidation Score (outer_cv):\\t\" + str(nested_scores_test.mean()))\n",
    "\n",
    "fpr, tpr, _ = roc_curve(y, predicted_prob, pos_label=0)\n",
    "fig, ax = plt.subplots(figsize=(5,2))\n",
    "RocCurveDisplay(fpr=fpr, tpr=tpr).plot(ax=ax) \n",
    "plt.savefig('../fig/raw/emp_abide_motion_reg_rocplot.pdf')\n",
    "    "
   ]
  },
  {
   "cell_type": "code",
   "execution_count": 31,
   "metadata": {
    "ExecuteTime": {
     "end_time": "2021-08-01T19:13:18.135344Z",
     "start_time": "2021-08-01T19:13:17.044411Z"
    },
    "pycharm": {
     "name": "#%%\n"
    }
   },
   "outputs": [
    {
     "data": {
      "text/plain": "<Figure size 360x144 with 1 Axes>",
      "image/png": "[encoded data removed]"
     },
     "metadata": {},
     "output_type": "display_data"
    }
   ],
   "source": [
    "plt.figure(figsize=(5,2))\n",
    "sns.stripplot(x=y, y=predicted_prob, hue=mean_fd_binned,\n",
    "              palette=\"coolwarm\", alpha=0.4, jitter=0.4, dodge=True)\n",
    "sns.boxplot(x=y, y=predicted_prob, color=(1,1,1,1))\n",
    "plt.legend([],[], frameon=False)\n",
    "plt.savefig('../fig/raw/emp_abide_motion_reg_stripplot.pdf')"
   ]
  },
  {
   "cell_type": "code",
   "execution_count": 32,
   "metadata": {
    "ExecuteTime": {
     "end_time": "2021-08-01T19:13:22.257490Z",
     "start_time": "2021-08-01T19:13:18.142609Z"
    },
    "pycharm": {
     "name": "#%%\n"
    }
   },
   "outputs": [
    {
     "name": "stderr",
     "output_type": "stream",
     "text": [
      "Permuting: 100%|██████████| 1000/1000 [00:01<00:00, 832.30it/s] \n"
     ]
    },
    {
     "data": {
      "text/plain": "<graphviz.dot.Graph at 0x7fb2949186d0>",
      "image/svg+xml": "<?xml version=\"1.0\" encoding=\"UTF-8\" standalone=\"no\"?>\n<!DOCTYPE svg PUBLIC \"-//W3C//DTD SVG 1.1//EN\"\n \"http://www.w3.org/Graphics/SVG/1.1/DTD/svg11.dtd\">\n<!-- Generated by graphviz version 2.43.0 (0)\n -->\n<!-- Title: %3 Pages: 1 -->\n<svg width=\"403pt\" height=\"79pt\"\n viewBox=\"0.00 0.00 403.00 79.00\" xmlns=\"http://www.w3.org/2000/svg\" xmlns:xlink=\"http://www.w3.org/1999/xlink\">\n<g id=\"graph0\" class=\"graph\" transform=\"scale(1 1) rotate(0) translate(4 75)\">\n<title>%3</title>\n<polygon fill=\"white\" stroke=\"transparent\" points=\"-4,4 -4,-75 399,-75 399,4 -4,4\"/>\n<!-- c -->\n<g id=\"node1\" class=\"node\">\n<title>c</title>\n<ellipse fill=\"none\" stroke=\"black\" cx=\"27\" cy=\"-18\" rx=\"27\" ry=\"18\"/>\n<text text-anchor=\"middle\" x=\"27\" y=\"-14.3\" font-family=\"Times,serif\" font-size=\"14.00\">c</text>\n</g>\n<!-- y -->\n<g id=\"node2\" class=\"node\">\n<title>y</title>\n<ellipse fill=\"none\" stroke=\"black\" cx=\"197.5\" cy=\"-53\" rx=\"27\" ry=\"18\"/>\n<text text-anchor=\"middle\" x=\"197.5\" y=\"-49.3\" font-family=\"Times,serif\" font-size=\"14.00\">y</text>\n</g>\n<!-- c&#45;&#45;y -->\n<g id=\"edge2\" class=\"edge\">\n<title>c&#45;&#45;y</title>\n<path fill=\"none\" stroke=\"black\" d=\"M53.23,-23.24C85.08,-29.86 139.57,-41.17 171.38,-47.78\"/>\n<text text-anchor=\"middle\" x=\"92.5\" y=\"-38.8\" font-family=\"Times,serif\" font-size=\"14.00\">0.028</text>\n</g>\n<!-- yhat -->\n<g id=\"node3\" class=\"node\">\n<title>yhat</title>\n<ellipse fill=\"none\" stroke=\"black\" cx=\"368\" cy=\"-18\" rx=\"27\" ry=\"18\"/>\n<text text-anchor=\"start\" x=\"363.5\" y=\"-14.3\" font-family=\"Times,serif\" font-size=\"14.00\">ŷ</text>\n</g>\n<!-- c&#45;&#45;yhat -->\n<g id=\"edge1\" class=\"edge\">\n<title>c&#45;&#45;yhat</title>\n<path fill=\"none\" stroke=\"black\" stroke-dasharray=\"5,2\" d=\"M53.8,-15.76C74.61,-14.07 104.67,-11.89 131,-11 190.08,-8.99 204.92,-8.99 264,-11 290.33,-11.89 320.39,-14.07 341.2,-15.76\"/>\n<text text-anchor=\"middle\" x=\"197.5\" y=\"-14.8\" font-family=\"Times,serif\" font-size=\"14.00\">0.062 (p&lt;0.0001*)</text>\n</g>\n<!-- y&#45;&#45;yhat -->\n<g id=\"edge3\" class=\"edge\">\n<title>y&#45;&#45;yhat</title>\n<path fill=\"none\" stroke=\"black\" d=\"M223.73,-47.76C255.58,-41.14 310.07,-29.83 341.88,-23.22\"/>\n<text text-anchor=\"middle\" x=\"302.5\" y=\"-38.8\" font-family=\"Times,serif\" font-size=\"14.00\">0.031</text>\n</g>\n</g>\n</svg>\n"
     },
     "execution_count": 32,
     "metadata": {},
     "output_type": "execute_result"
    }
   ],
   "source": [
    "plot_graph(partial_confound_test(y, predicted_prob, mean_fd, cat_y=True, cat_yhat=False,\n",
    "                                     random_state=42),\n",
    "          outfile_base='../fig/raw/emp_abide_motion_reg_partial')"
   ]
  },
  {
   "cell_type": "code",
   "execution_count": 33,
   "metadata": {
    "ExecuteTime": {
     "end_time": "2021-08-01T19:13:26.317643Z",
     "start_time": "2021-08-01T19:13:22.261618Z"
    },
    "pycharm": {
     "name": "#%%\n"
    }
   },
   "outputs": [
    {
     "name": "stderr",
     "output_type": "stream",
     "text": [
      "Permuting: 100%|██████████| 1000/1000 [00:01<00:00, 508.41it/s]\n"
     ]
    },
    {
     "data": {
      "text/plain": "<graphviz.dot.Graph at 0x7fb294a08280>",
      "image/svg+xml": "<?xml version=\"1.0\" encoding=\"UTF-8\" standalone=\"no\"?>\n<!DOCTYPE svg PUBLIC \"-//W3C//DTD SVG 1.1//EN\"\n \"http://www.w3.org/Graphics/SVG/1.1/DTD/svg11.dtd\">\n<!-- Generated by graphviz version 2.43.0 (0)\n -->\n<!-- Title: %3 Pages: 1 -->\n<svg width=\"407pt\" height=\"79pt\"\n viewBox=\"0.00 0.00 407.00 79.00\" xmlns=\"http://www.w3.org/2000/svg\" xmlns:xlink=\"http://www.w3.org/1999/xlink\">\n<g id=\"graph0\" class=\"graph\" transform=\"scale(1 1) rotate(0) translate(4 75)\">\n<title>%3</title>\n<polygon fill=\"white\" stroke=\"transparent\" points=\"-4,4 -4,-75 403,-75 403,4 -4,4\"/>\n<!-- c -->\n<g id=\"node1\" class=\"node\">\n<title>c</title>\n<ellipse fill=\"none\" stroke=\"black\" cx=\"27\" cy=\"-18\" rx=\"27\" ry=\"18\"/>\n<text text-anchor=\"middle\" x=\"27\" y=\"-14.3\" font-family=\"Times,serif\" font-size=\"14.00\">c</text>\n</g>\n<!-- y -->\n<g id=\"node2\" class=\"node\">\n<title>y</title>\n<ellipse fill=\"none\" stroke=\"black\" cx=\"158\" cy=\"-53\" rx=\"27\" ry=\"18\"/>\n<text text-anchor=\"middle\" x=\"158\" y=\"-49.3\" font-family=\"Times,serif\" font-size=\"14.00\">y</text>\n</g>\n<!-- c&#45;&#45;y -->\n<g id=\"edge2\" class=\"edge\">\n<title>c&#45;&#45;y</title>\n<path fill=\"none\" stroke=\"black\" d=\"M52.26,-24.58C75.33,-30.84 109.82,-40.2 132.84,-46.45\"/>\n<text text-anchor=\"middle\" x=\"92.5\" y=\"-43.8\" font-family=\"Times,serif\" font-size=\"14.00\">0.028</text>\n</g>\n<!-- yhat -->\n<g id=\"node3\" class=\"node\">\n<title>yhat</title>\n<ellipse fill=\"none\" stroke=\"black\" cx=\"372\" cy=\"-18\" rx=\"27\" ry=\"18\"/>\n<text text-anchor=\"start\" x=\"367.5\" y=\"-14.3\" font-family=\"Times,serif\" font-size=\"14.00\">ŷ</text>\n</g>\n<!-- c&#45;&#45;yhat -->\n<g id=\"edge1\" class=\"edge\">\n<title>c&#45;&#45;yhat</title>\n<path fill=\"none\" stroke=\"black\" d=\"M53.8,-15.76C74.61,-14.07 104.67,-11.89 131,-11 208.9,-8.36 301.06,-13.31 345.07,-16.17\"/>\n<text text-anchor=\"middle\" x=\"158\" y=\"-14.8\" font-family=\"Times,serif\" font-size=\"14.00\">0.062</text>\n</g>\n<!-- y&#45;&#45;yhat -->\n<g id=\"edge3\" class=\"edge\">\n<title>y&#45;&#45;yhat</title>\n<path fill=\"none\" stroke=\"black\" stroke-dasharray=\"5,2\" d=\"M184.57,-48.78C225.43,-42.03 304.96,-28.9 345.67,-22.18\"/>\n<text text-anchor=\"middle\" x=\"265\" y=\"-48.8\" font-family=\"Times,serif\" font-size=\"14.00\">0.031 (p=0.001*)</text>\n</g>\n</g>\n</svg>\n"
     },
     "execution_count": 33,
     "metadata": {},
     "output_type": "execute_result"
    }
   ],
   "source": [
    "plot_graph(full_confound_test(y, predicted_prob, mean_fd, cat_y=True, cat_yhat=False,\n",
    "                                 random_state=42),\n",
    "          outfile_base='../fig/raw/emp_abide_motion_reg_full')"
   ]
  },
  {
   "cell_type": "code",
   "execution_count": 34,
   "outputs": [
    {
     "name": "stdout",
     "output_type": "stream",
     "text": [
      "0.061733355336442274\n"
     ]
    },
    {
     "data": {
      "text/plain": "0.0"
     },
     "execution_count": 34,
     "metadata": {},
     "output_type": "execute_result"
    }
   ],
   "source": [
    "nulldist = []\n",
    "unpermuted = _r2_cont_cont(predicted_prob, mean_fd)\n",
    "\n",
    "print(unpermuted)\n",
    "\n",
    "for i in range(1000):\n",
    "    yperm = np.random.permutation(predicted_prob)\n",
    "    nulldist.append(_r2_cont_cont(yperm, mean_fd))\n",
    "(nulldist >= unpermuted).sum()/len(nulldist)"
   ],
   "metadata": {
    "collapsed": false,
    "pycharm": {
     "name": "#%%\n"
    }
   }
  },
  {
   "cell_type": "code",
   "execution_count": 35,
   "outputs": [
    {
     "name": "stdout",
     "output_type": "stream",
     "text": [
      "0.030921494223369983\n"
     ]
    },
    {
     "data": {
      "text/plain": "0.0"
     },
     "execution_count": 35,
     "metadata": {},
     "output_type": "execute_result"
    }
   ],
   "source": [
    "nulldist = []\n",
    "unpermuted = _r2_cat_cont(y, predicted_prob)\n",
    "\n",
    "print(unpermuted)\n",
    "\n",
    "for i in range(1000):\n",
    "    yperm = np.random.permutation(predicted_prob)\n",
    "    nulldist.append(_r2_cat_cont(y, yperm))\n",
    "(nulldist >= unpermuted).sum()/len(nulldist)"
   ],
   "metadata": {
    "collapsed": false,
    "pycharm": {
     "name": "#%%\n"
    }
   }
  },
  {
   "cell_type": "markdown",
   "metadata": {
    "pycharm": {
     "name": "#%% md\n"
    }
   },
   "source": [
    "# Regress out site"
   ]
  },
  {
   "cell_type": "code",
   "execution_count": 36,
   "metadata": {
    "ExecuteTime": {
     "end_time": "2021-08-01T19:15:35.079692Z",
     "start_time": "2021-08-01T19:13:26.320436Z"
    },
    "pycharm": {
     "name": "#%%\n"
    }
   },
   "outputs": [],
   "source": [
    "# regress-out acquisition from connectivity\n",
    "X_adj = np.zeros_like(X)\n",
    "for i in range(X.shape[1]):\n",
    "    tmp = pd.DataFrame({\n",
    "        'x': site_int,\n",
    "        'y': X[:,i]\n",
    "    })\n",
    "    OLS_model = ols_f(\"y ~ C(x)\", tmp).fit()  # training the model\n",
    "    X_adj[:, i] = OLS_model.resid.values"
   ]
  },
  {
   "cell_type": "code",
   "execution_count": 41,
   "metadata": {
    "ExecuteTime": {
     "end_time": "2021-08-01T19:17:32.666545Z",
     "start_time": "2021-08-01T19:15:35.081996Z"
    },
    "pycharm": {
     "name": "#%%\n"
    }
   },
   "outputs": [
    {
     "name": "stdout",
     "output_type": "stream",
     "text": [
      "model\tinner_cv mean score\touter vc score\n",
      "cv: 0 {'model__C': 0.1} 0.7512998189827458 0.6956521739130435\n",
      "cv: 1 {'model__C': 0.1} 0.7602222431490724 0.653764581124072\n",
      "cv: 2 {'model__C': 0.1} 0.7382248101760297 0.7797872340425532\n",
      "cv: 3 {'model__C': 1000} 0.7534956995322848 0.8340425531914895\n",
      "cv: 4 {'model__C': 0.1} 0.7311433384604116 0.7856382978723404\n",
      "cv: 5 {'model__C': 0.1} 0.7137365152609055 0.8664893617021276\n",
      "cv: 6 {'model__C': 0.1} 0.7290465552660674 0.7478260869565218\n",
      "cv: 7 {'model__C': 0.1} 0.7255997722461138 0.8108695652173913\n",
      "cv: 8 {'model__C': 0.1} 0.737317238841629 0.771195652173913\n",
      "cv: 9 {'model__C': 0.1} 0.7495317617268836 0.6157608695652174\n"
     ]
    }
   ],
   "source": [
    "outer_cv = StratifiedKFold(10)\n",
    "inner_cv = StratifiedKFold(10) \n",
    "model = Pipeline([\n",
    "    ('varthr', VarianceThreshold(0)),   # omit zero variance columns (diagonal)\n",
    "    #('fsel', SelectKBest(f_regression)),\n",
    "    ('model', LogisticRegression())])\n",
    "\n",
    "p_grid = {#'fsel__k': [500, 1000, 2000],\n",
    "          'model__C': [0.001, 0.1, 1, 10, 100, 1000]}\n",
    "\n",
    "clf = GridSearchCV(estimator=model, param_grid=p_grid, cv=StratifiedKFold(10),\n",
    "                   scoring=\"roc_auc\", return_train_score=False,\n",
    "                   n_jobs=-1)\n",
    "\n",
    "all_models = []\n",
    "best_params = []\n",
    "predicted = np.zeros(len(y))\n",
    "predicted_prob = np.zeros(len(y))\n",
    "nested_scores_train = np.zeros(outer_cv.get_n_splits(X_adj))\n",
    "nested_scores_test = np.zeros(outer_cv.get_n_splits(X_adj))   \n",
    "                                    \n",
    "print(\"model\\tinner_cv mean score\\touter vc score\")\n",
    "i=0\n",
    "for train, test in outer_cv.split(X, y):\n",
    "\n",
    "    clf.fit(X_adj[train], y[train])\n",
    "                                    \n",
    "    print('cv:', i, str(clf.best_params_) + \" \" + str(clf.best_score_) + \" \" + str(clf.score(X_adj[test], y[test])))\n",
    "                                    \n",
    "    all_models.append(clf.best_estimator_)\n",
    "    best_params.append(clf.best_params_)\n",
    "    \n",
    "    predicted[test] = clf.predict(X_adj[test])\n",
    "    predicted_prob[test] = clf.predict_proba(X_adj[test])[:,0]\n",
    "                                    \n",
    "    nested_scores_train[i] = clf.best_score_\n",
    "    nested_scores_test[i] = clf.score(X_adj[test], y[test])\n",
    "    i = i+1"
   ]
  },
  {
   "cell_type": "code",
   "execution_count": 42,
   "metadata": {
    "ExecuteTime": {
     "end_time": "2021-08-01T19:17:32.931014Z",
     "start_time": "2021-08-01T19:17:32.669160Z"
    },
    "pycharm": {
     "name": "#%%\n"
    }
   },
   "outputs": [
    {
     "name": "stdout",
     "output_type": "stream",
     "text": [
      "** Mean score in the inner crossvaludation (inner_cv):\t0.7389617753642144\n",
      "** Mean Nested Crossvalidation Score (outer_cv):\t0.7561026375758669\n"
     ]
    },
    {
     "data": {
      "text/plain": "<Figure size 360x144 with 1 Axes>",
      "image/png": "[encoded data removed]"
     },
     "metadata": {},
     "output_type": "display_data"
    }
   ],
   "source": [
    "print(\"** Mean score in the inner crossvaludation (inner_cv):\\t\" + str(nested_scores_train.mean()))\n",
    "print(\"** Mean Nested Crossvalidation Score (outer_cv):\\t\" + str(nested_scores_test.mean()))\n",
    "\n",
    "fpr, tpr, _ = roc_curve(y, predicted_prob, pos_label=0)\n",
    "fig, ax = plt.subplots(figsize=(5,2))\n",
    "RocCurveDisplay(fpr=fpr, tpr=tpr).plot(ax=ax) \n",
    "plt.savefig('../fig/raw/emp_abide_site_reg_rocplot.pdf')\n",
    "    "
   ]
  },
  {
   "cell_type": "code",
   "execution_count": 43,
   "metadata": {
    "ExecuteTime": {
     "end_time": "2021-08-01T19:17:36.932716Z",
     "start_time": "2021-08-01T19:17:32.933004Z"
    },
    "pycharm": {
     "name": "#%%\n"
    }
   },
   "outputs": [
    {
     "data": {
      "text/plain": "<Figure size 360x108 with 1 Axes>",
      "image/png": "[encoded data removed]"
     },
     "metadata": {},
     "output_type": "display_data"
    }
   ],
   "source": [
    "plt.figure(figsize=(5,1.5))\n",
    "\n",
    "pal=[sns.color_palette(\"coolwarm\", 10)[-1], sns.color_palette(\"coolwarm\", 10)[0]]\n",
    "sns.stripplot(x=site, y=predicted_prob, hue=y, palette=pal, alpha=0.2, jitter=0.2, dodge=True)\n",
    "ax=sns.boxplot(x=site, y=predicted_prob, hue=y, showfliers = False)\n",
    "for box in ax.artists:\n",
    "    box.set_facecolor((1,1,1,0))\n",
    "plt.xticks(rotation=90)\n",
    "for i in range(len(np.unique(site))):\n",
    "    plt.axvline(i+0.5, color=\"gray\", alpha=0.5, linewidth=0.5)\n",
    "plt.savefig('../fig/raw/emp_abide_site_reg_striplot.pdf')"
   ]
  },
  {
   "cell_type": "code",
   "execution_count": 44,
   "metadata": {
    "ExecuteTime": {
     "end_time": "2021-08-01T19:17:45.768794Z",
     "start_time": "2021-08-01T19:17:36.934602Z"
    },
    "pycharm": {
     "name": "#%%\n"
    }
   },
   "outputs": [
    {
     "name": "stderr",
     "output_type": "stream",
     "text": [
      "Permuting: 100%|██████████| 1000/1000 [00:02<00:00, 461.17it/s]\n"
     ]
    },
    {
     "data": {
      "text/plain": "<graphviz.dot.Graph at 0x7fb294f11f70>",
      "image/svg+xml": "<?xml version=\"1.0\" encoding=\"UTF-8\" standalone=\"no\"?>\n<!DOCTYPE svg PUBLIC \"-//W3C//DTD SVG 1.1//EN\"\n \"http://www.w3.org/Graphics/SVG/1.1/DTD/svg11.dtd\">\n<!-- Generated by graphviz version 2.43.0 (0)\n -->\n<!-- Title: %3 Pages: 1 -->\n<svg width=\"394pt\" height=\"79pt\"\n viewBox=\"0.00 0.00 394.00 79.00\" xmlns=\"http://www.w3.org/2000/svg\" xmlns:xlink=\"http://www.w3.org/1999/xlink\">\n<g id=\"graph0\" class=\"graph\" transform=\"scale(1 1) rotate(0) translate(4 75)\">\n<title>%3</title>\n<polygon fill=\"white\" stroke=\"transparent\" points=\"-4,4 -4,-75 390,-75 390,4 -4,4\"/>\n<!-- c -->\n<g id=\"node1\" class=\"node\">\n<title>c</title>\n<ellipse fill=\"none\" stroke=\"black\" cx=\"27\" cy=\"-18\" rx=\"27\" ry=\"18\"/>\n<text text-anchor=\"middle\" x=\"27\" y=\"-14.3\" font-family=\"Times,serif\" font-size=\"14.00\">c</text>\n</g>\n<!-- y -->\n<g id=\"node2\" class=\"node\">\n<title>y</title>\n<ellipse fill=\"none\" stroke=\"black\" cx=\"193\" cy=\"-53\" rx=\"27\" ry=\"18\"/>\n<text text-anchor=\"middle\" x=\"193\" y=\"-49.3\" font-family=\"Times,serif\" font-size=\"14.00\">y</text>\n</g>\n<!-- c&#45;&#45;y -->\n<g id=\"edge2\" class=\"edge\">\n<title>c&#45;&#45;y</title>\n<path fill=\"none\" stroke=\"black\" d=\"M52.91,-23.32C83.82,-29.91 136.23,-41.1 167.13,-47.69\"/>\n<text text-anchor=\"middle\" x=\"92.5\" y=\"-38.8\" font-family=\"Times,serif\" font-size=\"14.00\">0.019</text>\n</g>\n<!-- yhat -->\n<g id=\"node3\" class=\"node\">\n<title>yhat</title>\n<ellipse fill=\"none\" stroke=\"black\" cx=\"359\" cy=\"-18\" rx=\"27\" ry=\"18\"/>\n<text text-anchor=\"start\" x=\"354.5\" y=\"-14.3\" font-family=\"Times,serif\" font-size=\"14.00\">ŷ</text>\n</g>\n<!-- c&#45;&#45;yhat -->\n<g id=\"edge1\" class=\"edge\">\n<title>c&#45;&#45;yhat</title>\n<path fill=\"none\" stroke=\"black\" stroke-dasharray=\"5,2\" d=\"M53.8,-15.76C74.61,-14.07 104.67,-11.89 131,-11 186.08,-9.13 199.92,-9.13 255,-11 281.33,-11.89 311.39,-14.07 332.2,-15.76\"/>\n<text text-anchor=\"middle\" x=\"193\" y=\"-14.8\" font-family=\"Times,serif\" font-size=\"14.00\">0.052 (p=0.003*)</text>\n</g>\n<!-- y&#45;&#45;yhat -->\n<g id=\"edge3\" class=\"edge\">\n<title>y&#45;&#45;yhat</title>\n<path fill=\"none\" stroke=\"black\" d=\"M218.91,-47.68C249.82,-41.09 302.23,-29.9 333.13,-23.31\"/>\n<text text-anchor=\"middle\" x=\"293.5\" y=\"-38.8\" font-family=\"Times,serif\" font-size=\"14.00\">0.161</text>\n</g>\n</g>\n</svg>\n"
     },
     "execution_count": 44,
     "metadata": {},
     "output_type": "execute_result"
    }
   ],
   "source": [
    "plot_graph(partial_confound_test(y, predicted_prob, site_int,\n",
    "                                     cat_y=True, cat_yhat=False, cat_c=True,\n",
    "                                     random_state=42),\n",
    "          outfile_base='../fig/raw/emp_abide_site_reg_partial')"
   ]
  },
  {
   "cell_type": "code",
   "execution_count": 45,
   "metadata": {
    "ExecuteTime": {
     "end_time": "2021-08-01T19:17:51.250595Z",
     "start_time": "2021-08-01T19:17:45.772238Z"
    },
    "pycharm": {
     "name": "#%%\n"
    }
   },
   "outputs": [
    {
     "name": "stderr",
     "output_type": "stream",
     "text": [
      "Permuting: 100%|██████████| 1000/1000 [00:02<00:00, 495.57it/s]\n"
     ]
    },
    {
     "data": {
      "text/plain": "<graphviz.dot.Graph at 0x7fb294ef5b20>",
      "image/svg+xml": "<?xml version=\"1.0\" encoding=\"UTF-8\" standalone=\"no\"?>\n<!DOCTYPE svg PUBLIC \"-//W3C//DTD SVG 1.1//EN\"\n \"http://www.w3.org/Graphics/SVG/1.1/DTD/svg11.dtd\">\n<!-- Generated by graphviz version 2.43.0 (0)\n -->\n<!-- Title: %3 Pages: 1 -->\n<svg width=\"416pt\" height=\"79pt\"\n viewBox=\"0.00 0.00 416.00 79.00\" xmlns=\"http://www.w3.org/2000/svg\" xmlns:xlink=\"http://www.w3.org/1999/xlink\">\n<g id=\"graph0\" class=\"graph\" transform=\"scale(1 1) rotate(0) translate(4 75)\">\n<title>%3</title>\n<polygon fill=\"white\" stroke=\"transparent\" points=\"-4,4 -4,-75 412,-75 412,4 -4,4\"/>\n<!-- c -->\n<g id=\"node1\" class=\"node\">\n<title>c</title>\n<ellipse fill=\"none\" stroke=\"black\" cx=\"27\" cy=\"-18\" rx=\"27\" ry=\"18\"/>\n<text text-anchor=\"middle\" x=\"27\" y=\"-14.3\" font-family=\"Times,serif\" font-size=\"14.00\">c</text>\n</g>\n<!-- y -->\n<g id=\"node2\" class=\"node\">\n<title>y</title>\n<ellipse fill=\"none\" stroke=\"black\" cx=\"158\" cy=\"-53\" rx=\"27\" ry=\"18\"/>\n<text text-anchor=\"middle\" x=\"158\" y=\"-49.3\" font-family=\"Times,serif\" font-size=\"14.00\">y</text>\n</g>\n<!-- c&#45;&#45;y -->\n<g id=\"edge2\" class=\"edge\">\n<title>c&#45;&#45;y</title>\n<path fill=\"none\" stroke=\"black\" d=\"M52.26,-24.58C75.33,-30.84 109.82,-40.2 132.84,-46.45\"/>\n<text text-anchor=\"middle\" x=\"92.5\" y=\"-43.8\" font-family=\"Times,serif\" font-size=\"14.00\">0.019</text>\n</g>\n<!-- yhat -->\n<g id=\"node3\" class=\"node\">\n<title>yhat</title>\n<ellipse fill=\"none\" stroke=\"black\" cx=\"381\" cy=\"-18\" rx=\"27\" ry=\"18\"/>\n<text text-anchor=\"start\" x=\"376.5\" y=\"-14.3\" font-family=\"Times,serif\" font-size=\"14.00\">ŷ</text>\n</g>\n<!-- c&#45;&#45;yhat -->\n<g id=\"edge1\" class=\"edge\">\n<title>c&#45;&#45;yhat</title>\n<path fill=\"none\" stroke=\"black\" d=\"M53.8,-15.76C74.61,-14.07 104.67,-11.89 131,-11 212.26,-8.24 308.45,-13.31 353.83,-16.2\"/>\n<text text-anchor=\"middle\" x=\"158\" y=\"-14.8\" font-family=\"Times,serif\" font-size=\"14.00\">0.052</text>\n</g>\n<!-- y&#45;&#45;yhat -->\n<g id=\"edge3\" class=\"edge\">\n<title>y&#45;&#45;yhat</title>\n<path fill=\"none\" stroke=\"black\" stroke-dasharray=\"5,2\" d=\"M184.35,-48.99C226.87,-42.25 312.06,-28.76 354.6,-22.02\"/>\n<text text-anchor=\"middle\" x=\"269.5\" y=\"-48.8\" font-family=\"Times,serif\" font-size=\"14.00\">0.161 (p&lt;0.0001*)</text>\n</g>\n</g>\n</svg>\n"
     },
     "execution_count": 45,
     "metadata": {},
     "output_type": "execute_result"
    }
   ],
   "source": [
    "plot_graph(full_confound_test(y, predicted_prob, site_int,\n",
    "                                 cat_y=True, cat_yhat=False, cat_c=True,\n",
    "                                 random_state=42),\n",
    "          outfile_base='../fig/raw/emp_abide_site_reg_full')"
   ]
  },
  {
   "cell_type": "code",
   "execution_count": 46,
   "outputs": [
    {
     "name": "stdout",
     "output_type": "stream",
     "text": [
      "0.052209392865170345\n"
     ]
    },
    {
     "data": {
      "text/plain": "0.002"
     },
     "execution_count": 46,
     "metadata": {},
     "output_type": "execute_result"
    }
   ],
   "source": [
    "nulldist = []\n",
    "unpermuted = _r2_cat_cont(site_int, predicted_prob)\n",
    "\n",
    "print(unpermuted)\n",
    "\n",
    "for i in range(1000):\n",
    "    yperm = np.random.permutation(predicted_prob)\n",
    "    nulldist.append(_r2_cat_cont(site_int, yperm))\n",
    "(nulldist >= unpermuted).sum()/len(nulldist)"
   ],
   "metadata": {
    "collapsed": false,
    "pycharm": {
     "name": "#%%\n"
    }
   }
  },
  {
   "cell_type": "code",
   "execution_count": 47,
   "outputs": [
    {
     "name": "stdout",
     "output_type": "stream",
     "text": [
      "0.1613035309135038\n"
     ]
    },
    {
     "data": {
      "text/plain": "0.0"
     },
     "execution_count": 47,
     "metadata": {},
     "output_type": "execute_result"
    }
   ],
   "source": [
    "nulldist = []\n",
    "unpermuted = _r2_cat_cont(y, predicted_prob)\n",
    "\n",
    "print(unpermuted)\n",
    "\n",
    "for i in range(1000):\n",
    "    yperm = np.random.permutation(predicted_prob)\n",
    "    nulldist.append(_r2_cat_cont(y, yperm))\n",
    "(nulldist >= unpermuted).sum()/len(nulldist)\n"
   ],
   "metadata": {
    "collapsed": false,
    "pycharm": {
     "name": "#%%\n"
    }
   }
  },
  {
   "cell_type": "markdown",
   "metadata": {
    "ExecuteTime": {
     "end_time": "2021-07-31T17:31:34.153662Z",
     "start_time": "2021-07-31T17:31:33.891286Z"
    },
    "pycharm": {
     "name": "#%% md\n"
    }
   },
   "source": [
    "# Combat on binned motion data"
   ]
  },
  {
   "cell_type": "code",
   "execution_count": 48,
   "metadata": {
    "ExecuteTime": {
     "end_time": "2021-08-01T19:20:30.274771Z",
     "start_time": "2021-08-01T19:17:51.253817Z"
    },
    "pycharm": {
     "name": "#%%\n"
    }
   },
   "outputs": [
    {
     "name": "stdout",
     "output_type": "stream",
     "text": [
      "model\tinner_cv mean score\touter vc score\n",
      "cv: 0 {'model__C': 0.001} 0.6693510147778442 0.689289501590668\n",
      "cv: 1 {'model__C': 0.001} 0.6731067304238035 0.6961823966065748\n",
      "cv: 2 {'model__C': 0.001} 0.6694753987436914 0.6787234042553192\n",
      "cv: 3 {'model__C': 0.001} 0.6661950277803936 0.7877659574468086\n",
      "cv: 4 {'model__C': 0.1} 0.6629321394565297 0.7287234042553191\n",
      "cv: 5 {'model__C': 0.1} 0.7064102865932134 0.6425531914893616\n",
      "cv: 6 {'model__C': 0.1} 0.6678523035230352 0.7581521739130436\n",
      "cv: 7 {'model__C': 0.1} 0.6746544453861528 0.7472826086956521\n",
      "cv: 8 {'model__C': 0.1} 0.6961607077460735 0.6646739130434782\n",
      "cv: 9 {'model__C': 0.001} 0.7017047099364172 0.55\n"
     ]
    }
   ],
   "source": [
    "outer_cv = StratifiedKFold(10)\n",
    "inner_cv = StratifiedKFold(10) \n",
    "model = Pipeline([\n",
    "    ('varthr', VarianceThreshold(0)),   # omit zero variance columns (diagonal)\n",
    "    #('fsel', SelectKBest(f_regression)),\n",
    "    ('model', LogisticRegression())])\n",
    "\n",
    "p_grid = {#'fsel__k': [500, 1000, 2000],\n",
    "          'model__C': [0.0001, 0.001, 0.1, 1, 10, 100]}\n",
    "\n",
    "clf = GridSearchCV(estimator=model, param_grid=p_grid, cv=StratifiedKFold(10),\n",
    "                   scoring=\"roc_auc\", return_train_score=False,\n",
    "                   n_jobs=-1)\n",
    "\n",
    "all_models = []\n",
    "best_params = []\n",
    "predicted = np.zeros(len(y))\n",
    "predicted_prob = np.zeros(len(y))\n",
    "nested_scores_train = np.zeros(outer_cv.get_n_splits(X))\n",
    "nested_scores_test = np.zeros(outer_cv.get_n_splits(X))   \n",
    "                                    \n",
    "print(\"model\\tinner_cv mean score\\touter vc score\")\n",
    "i=0\n",
    "for train, test in outer_cv.split(X, y):\n",
    "    \n",
    "    comb = CombatModel()\n",
    "    X_train_combat = comb.fit_transform(X[:,np.sum(X,0)!=0][train],\n",
    "                                   np.array([mean_fd_binned[train]]).transpose()\n",
    "                                  )\n",
    "\n",
    "\n",
    "    clf.fit(X_train_combat, y[train])\n",
    "    \n",
    "    X_test_combat = comb.transform(X[:,np.sum(X,0)!=0][test],\n",
    "                                   np.array([mean_fd_binned[test]]).transpose())\n",
    "\n",
    "                                    \n",
    "    print('cv:', i, str(clf.best_params_) + \" \" + str(clf.best_score_) + \" \" + str(clf.score(X_test_combat, y[test])))\n",
    "                                    \n",
    "    all_models.append(clf.best_estimator_)\n",
    "    best_params.append(clf.best_params_)\n",
    "    \n",
    "    predicted[test] = clf.predict(X_test_combat)\n",
    "    predicted_prob[test] = clf.predict_proba(X_test_combat)[:,0]\n",
    "                                    \n",
    "    nested_scores_train[i] = clf.best_score_\n",
    "    nested_scores_test[i] = clf.score(X_test_combat, y[test])\n",
    "    i = i+1"
   ]
  },
  {
   "cell_type": "code",
   "execution_count": 49,
   "metadata": {
    "ExecuteTime": {
     "end_time": "2021-08-01T19:20:30.525567Z",
     "start_time": "2021-08-01T19:20:30.277074Z"
    },
    "pycharm": {
     "name": "#%%\n"
    }
   },
   "outputs": [
    {
     "name": "stdout",
     "output_type": "stream",
     "text": [
      "** Mean score in the inner crossvaludation (inner_cv):\t0.6787842764367154\n",
      "** Mean Nested Crossvalidation Score (outer_cv):\t0.6943346551296226\n"
     ]
    },
    {
     "data": {
      "text/plain": "<Figure size 360x144 with 1 Axes>",
      "image/png": "[encoded data removed]"
     },
     "metadata": {},
     "output_type": "display_data"
    }
   ],
   "source": [
    "print(\"** Mean score in the inner crossvaludation (inner_cv):\\t\" + str(nested_scores_train.mean()))\n",
    "print(\"** Mean Nested Crossvalidation Score (outer_cv):\\t\" + str(nested_scores_test.mean()))\n",
    "\n",
    "fpr, tpr, _ = roc_curve(y, predicted_prob, pos_label=0)\n",
    "fig, ax = plt.subplots(figsize=(5,2))\n",
    "RocCurveDisplay(fpr=fpr, tpr=tpr).plot(ax=ax) \n",
    "plt.savefig('../fig/raw/emp_abide_motion_comb_rocplot.pdf')  \n",
    "    "
   ]
  },
  {
   "cell_type": "code",
   "execution_count": 50,
   "metadata": {
    "ExecuteTime": {
     "end_time": "2021-08-01T19:20:31.576275Z",
     "start_time": "2021-08-01T19:20:30.527895Z"
    },
    "pycharm": {
     "name": "#%%\n"
    }
   },
   "outputs": [
    {
     "data": {
      "text/plain": "<Figure size 360x144 with 1 Axes>",
      "image/png": "[encoded data removed]"
     },
     "metadata": {},
     "output_type": "display_data"
    }
   ],
   "source": [
    "plt.figure(figsize=(5,2))\n",
    "sns.stripplot(x=y, y=predicted_prob, hue=mean_fd_binned,\n",
    "              palette=\"coolwarm\", alpha=0.4, jitter=0.4, dodge=True)\n",
    "plt.legend([],[], frameon=False)\n",
    "sns.boxplot(x=y, y=predicted_prob, color=(1,1,1,1))\n",
    "plt.savefig('../fig/raw/emp_abide_motion_comb_stripplot.pdf')"
   ]
  },
  {
   "cell_type": "code",
   "execution_count": 51,
   "metadata": {
    "ExecuteTime": {
     "end_time": "2021-08-01T19:20:35.822321Z",
     "start_time": "2021-08-01T19:20:31.578789Z"
    },
    "pycharm": {
     "name": "#%%\n"
    }
   },
   "outputs": [
    {
     "name": "stderr",
     "output_type": "stream",
     "text": [
      "Permuting: 100%|██████████| 1000/1000 [00:01<00:00, 500.72it/s]\n"
     ]
    },
    {
     "data": {
      "text/plain": "<graphviz.dot.Graph at 0x7fb294f56250>",
      "image/svg+xml": "<?xml version=\"1.0\" encoding=\"UTF-8\" standalone=\"no\"?>\n<!DOCTYPE svg PUBLIC \"-//W3C//DTD SVG 1.1//EN\"\n \"http://www.w3.org/Graphics/SVG/1.1/DTD/svg11.dtd\">\n<!-- Generated by graphviz version 2.43.0 (0)\n -->\n<!-- Title: %3 Pages: 1 -->\n<svg width=\"379pt\" height=\"79pt\"\n viewBox=\"0.00 0.00 379.00 79.00\" xmlns=\"http://www.w3.org/2000/svg\" xmlns:xlink=\"http://www.w3.org/1999/xlink\">\n<g id=\"graph0\" class=\"graph\" transform=\"scale(1 1) rotate(0) translate(4 75)\">\n<title>%3</title>\n<polygon fill=\"white\" stroke=\"transparent\" points=\"-4,4 -4,-75 375,-75 375,4 -4,4\"/>\n<!-- c -->\n<g id=\"node1\" class=\"node\">\n<title>c</title>\n<ellipse fill=\"none\" stroke=\"black\" cx=\"27\" cy=\"-18\" rx=\"27\" ry=\"18\"/>\n<text text-anchor=\"middle\" x=\"27\" y=\"-14.3\" font-family=\"Times,serif\" font-size=\"14.00\">c</text>\n</g>\n<!-- y -->\n<g id=\"node2\" class=\"node\">\n<title>y</title>\n<ellipse fill=\"none\" stroke=\"black\" cx=\"185.5\" cy=\"-53\" rx=\"27\" ry=\"18\"/>\n<text text-anchor=\"middle\" x=\"185.5\" y=\"-49.3\" font-family=\"Times,serif\" font-size=\"14.00\">y</text>\n</g>\n<!-- c&#45;&#45;y -->\n<g id=\"edge2\" class=\"edge\">\n<title>c&#45;&#45;y</title>\n<path fill=\"none\" stroke=\"black\" d=\"M52.8,-23.55C82.02,-30.08 130.28,-40.87 159.56,-47.42\"/>\n<text text-anchor=\"middle\" x=\"92.5\" y=\"-39.8\" font-family=\"Times,serif\" font-size=\"14.00\">0.028</text>\n</g>\n<!-- yhat -->\n<g id=\"node3\" class=\"node\">\n<title>yhat</title>\n<ellipse fill=\"none\" stroke=\"black\" cx=\"344\" cy=\"-18\" rx=\"27\" ry=\"18\"/>\n<text text-anchor=\"start\" x=\"339.5\" y=\"-14.3\" font-family=\"Times,serif\" font-size=\"14.00\">ŷ</text>\n</g>\n<!-- c&#45;&#45;yhat -->\n<g id=\"edge1\" class=\"edge\">\n<title>c&#45;&#45;yhat</title>\n<path fill=\"none\" stroke=\"black\" stroke-dasharray=\"5,2\" d=\"M53.8,-15.76C74.61,-14.07 104.67,-11.89 131,-11 179.42,-9.36 191.58,-9.36 240,-11 266.33,-11.89 296.39,-14.07 317.2,-15.76\"/>\n<text text-anchor=\"middle\" x=\"185.5\" y=\"-14.8\" font-family=\"Times,serif\" font-size=\"14.00\">0.005 (p=0.18)</text>\n</g>\n<!-- y&#45;&#45;yhat -->\n<g id=\"edge3\" class=\"edge\">\n<title>y&#45;&#45;yhat</title>\n<path fill=\"none\" stroke=\"black\" d=\"M211.3,-47.45C240.52,-40.92 288.78,-30.13 318.06,-23.58\"/>\n<text text-anchor=\"middle\" x=\"278.5\" y=\"-39.8\" font-family=\"Times,serif\" font-size=\"14.00\">0.066</text>\n</g>\n</g>\n</svg>\n"
     },
     "execution_count": 51,
     "metadata": {},
     "output_type": "execute_result"
    }
   ],
   "source": [
    "plot_graph(partial_confound_test(y, predicted_prob, mean_fd, cat_y=True, cat_yhat=False,\n",
    "                                     random_state=42),\n",
    "          outfile_base='../fig/raw/emp_abide_motion_comb_partial')"
   ]
  },
  {
   "cell_type": "code",
   "execution_count": 52,
   "metadata": {
    "ExecuteTime": {
     "end_time": "2021-08-01T19:20:39.928951Z",
     "start_time": "2021-08-01T19:20:35.824981Z"
    },
    "pycharm": {
     "name": "#%%\n"
    }
   },
   "outputs": [
    {
     "name": "stderr",
     "output_type": "stream",
     "text": [
      "Permuting: 100%|██████████| 1000/1000 [00:01<00:00, 533.49it/s]\n"
     ]
    },
    {
     "data": {
      "text/plain": "<graphviz.dot.Graph at 0x7fb294886b20>",
      "image/svg+xml": "<?xml version=\"1.0\" encoding=\"UTF-8\" standalone=\"no\"?>\n<!DOCTYPE svg PUBLIC \"-//W3C//DTD SVG 1.1//EN\"\n \"http://www.w3.org/Graphics/SVG/1.1/DTD/svg11.dtd\">\n<!-- Generated by graphviz version 2.43.0 (0)\n -->\n<!-- Title: %3 Pages: 1 -->\n<svg width=\"416pt\" height=\"79pt\"\n viewBox=\"0.00 0.00 416.00 79.00\" xmlns=\"http://www.w3.org/2000/svg\" xmlns:xlink=\"http://www.w3.org/1999/xlink\">\n<g id=\"graph0\" class=\"graph\" transform=\"scale(1 1) rotate(0) translate(4 75)\">\n<title>%3</title>\n<polygon fill=\"white\" stroke=\"transparent\" points=\"-4,4 -4,-75 412,-75 412,4 -4,4\"/>\n<!-- c -->\n<g id=\"node1\" class=\"node\">\n<title>c</title>\n<ellipse fill=\"none\" stroke=\"black\" cx=\"27\" cy=\"-18\" rx=\"27\" ry=\"18\"/>\n<text text-anchor=\"middle\" x=\"27\" y=\"-14.3\" font-family=\"Times,serif\" font-size=\"14.00\">c</text>\n</g>\n<!-- y -->\n<g id=\"node2\" class=\"node\">\n<title>y</title>\n<ellipse fill=\"none\" stroke=\"black\" cx=\"158\" cy=\"-53\" rx=\"27\" ry=\"18\"/>\n<text text-anchor=\"middle\" x=\"158\" y=\"-49.3\" font-family=\"Times,serif\" font-size=\"14.00\">y</text>\n</g>\n<!-- c&#45;&#45;y -->\n<g id=\"edge2\" class=\"edge\">\n<title>c&#45;&#45;y</title>\n<path fill=\"none\" stroke=\"black\" d=\"M52.26,-24.58C75.33,-30.84 109.82,-40.2 132.84,-46.45\"/>\n<text text-anchor=\"middle\" x=\"92.5\" y=\"-43.8\" font-family=\"Times,serif\" font-size=\"14.00\">0.028</text>\n</g>\n<!-- yhat -->\n<g id=\"node3\" class=\"node\">\n<title>yhat</title>\n<ellipse fill=\"none\" stroke=\"black\" cx=\"381\" cy=\"-18\" rx=\"27\" ry=\"18\"/>\n<text text-anchor=\"start\" x=\"376.5\" y=\"-14.3\" font-family=\"Times,serif\" font-size=\"14.00\">ŷ</text>\n</g>\n<!-- c&#45;&#45;yhat -->\n<g id=\"edge1\" class=\"edge\">\n<title>c&#45;&#45;yhat</title>\n<path fill=\"none\" stroke=\"black\" d=\"M53.8,-15.76C74.61,-14.07 104.67,-11.89 131,-11 212.26,-8.24 308.45,-13.31 353.83,-16.2\"/>\n<text text-anchor=\"middle\" x=\"158\" y=\"-14.8\" font-family=\"Times,serif\" font-size=\"14.00\">0.005</text>\n</g>\n<!-- y&#45;&#45;yhat -->\n<g id=\"edge3\" class=\"edge\">\n<title>y&#45;&#45;yhat</title>\n<path fill=\"none\" stroke=\"black\" stroke-dasharray=\"5,2\" d=\"M184.35,-48.99C226.87,-42.25 312.06,-28.76 354.6,-22.02\"/>\n<text text-anchor=\"middle\" x=\"269.5\" y=\"-48.8\" font-family=\"Times,serif\" font-size=\"14.00\">0.066 (p&lt;0.0001*)</text>\n</g>\n</g>\n</svg>\n"
     },
     "execution_count": 52,
     "metadata": {},
     "output_type": "execute_result"
    }
   ],
   "source": [
    "plot_graph(full_confound_test(y, predicted_prob, mean_fd, cat_y=True, cat_yhat=False,\n",
    "                                 random_state=42),\n",
    "          outfile_base='../fig/raw/emp_abide_motion_comb_full')"
   ]
  },
  {
   "cell_type": "code",
   "execution_count": 53,
   "outputs": [
    {
     "name": "stdout",
     "output_type": "stream",
     "text": [
      "0.004817909243629567\n"
     ]
    },
    {
     "data": {
      "text/plain": "0.032"
     },
     "execution_count": 53,
     "metadata": {},
     "output_type": "execute_result"
    }
   ],
   "source": [
    "nulldist = []\n",
    "unpermuted = _r2_cont_cont(predicted_prob, mean_fd)\n",
    "\n",
    "print(unpermuted)\n",
    "\n",
    "for i in range(1000):\n",
    "    yperm = np.random.permutation(predicted_prob)\n",
    "    nulldist.append(_r2_cont_cont(yperm, mean_fd))\n",
    "(nulldist >= unpermuted).sum()/len(nulldist)"
   ],
   "metadata": {
    "collapsed": false,
    "pycharm": {
     "name": "#%%\n"
    }
   }
  },
  {
   "cell_type": "code",
   "execution_count": 54,
   "outputs": [
    {
     "name": "stdout",
     "output_type": "stream",
     "text": [
      "0.0656301121501437\n"
     ]
    },
    {
     "data": {
      "text/plain": "0.0"
     },
     "execution_count": 54,
     "metadata": {},
     "output_type": "execute_result"
    }
   ],
   "source": [
    "nulldist = []\n",
    "unpermuted = _r2_cat_cont(y, predicted_prob)\n",
    "\n",
    "print(unpermuted)\n",
    "\n",
    "for i in range(1000):\n",
    "    yperm = np.random.permutation(predicted_prob)\n",
    "    nulldist.append(_r2_cat_cont(y, yperm))\n",
    "(nulldist >= unpermuted).sum()/len(nulldist)"
   ],
   "metadata": {
    "collapsed": false,
    "pycharm": {
     "name": "#%%\n"
    }
   }
  },
  {
   "cell_type": "markdown",
   "metadata": {
    "pycharm": {
     "name": "#%% md\n"
    }
   },
   "source": [
    "# Combat on site"
   ]
  },
  {
   "cell_type": "code",
   "execution_count": 55,
   "metadata": {
    "ExecuteTime": {
     "end_time": "2021-08-01T19:23:08.544003Z",
     "start_time": "2021-08-01T19:20:39.931634Z"
    },
    "pycharm": {
     "name": "#%%\n"
    }
   },
   "outputs": [
    {
     "name": "stdout",
     "output_type": "stream",
     "text": [
      "model\tinner_cv mean score\touter vc score\n",
      "cv: 0 {'model__C': 0.1} 0.7501508477118233 0.7290562036055144\n",
      "cv: 1 {'model__C': 0.1} 0.7358902020487387 0.7576882290562036\n",
      "cv: 2 {'model__C': 0.1} 0.7447366355902941 0.7026595744680851\n",
      "cv: 3 {'model__C': 0.1} 0.7346093044263775 0.7696808510638298\n",
      "cv: 4 {'model__C': 0.1} 0.7258576084795597 0.7973404255319149\n",
      "cv: 5 {'model__C': 0.1} 0.751687881261052 0.6675531914893617\n",
      "cv: 6 {'model__C': 1} 0.7394399626106943 0.7913043478260869\n",
      "cv: 7 {'model__C': 1} 0.7423432578920385 0.7369565217391304\n",
      "cv: 8 {'model__C': 0.1} 0.7492881383125284 0.7266304347826087\n",
      "cv: 9 {'model__C': 0.1} 0.7345418589321029 0.7728260869565218\n"
     ]
    }
   ],
   "source": [
    "outer_cv = StratifiedKFold(10, shuffle=True, random_state=42)\n",
    "inner_cv = StratifiedKFold(10, shuffle=True, random_state=42) \n",
    "model = Pipeline([\n",
    "    ('varthr', VarianceThreshold(0)),   # omit zero variance columns (diagonal)\n",
    "    #('fsel', SelectKBest(f_regression)),\n",
    "    ('model', LogisticRegression())])\n",
    "\n",
    "p_grid = {#'fsel__k': [500, 1000, 2000],\n",
    "          'model__C': [0.0001, 0.001, 0.1, 1, 10]}\n",
    "\n",
    "clf = GridSearchCV(estimator=model, param_grid=p_grid, cv=StratifiedKFold(10),\n",
    "                   scoring=\"roc_auc\", return_train_score=False,\n",
    "                   n_jobs=-1)\n",
    "\n",
    "all_models = []\n",
    "best_params = []\n",
    "predicted = np.zeros(len(y))\n",
    "predicted_prob = np.zeros(len(y))\n",
    "nested_scores_train = np.zeros(outer_cv.get_n_splits(X))\n",
    "nested_scores_test = np.zeros(outer_cv.get_n_splits(X))   \n",
    "                                    \n",
    "print(\"model\\tinner_cv mean score\\touter vc score\")\n",
    "i=0\n",
    "for train, test in outer_cv.split(X, y):\n",
    "    \n",
    "    comb = CombatModel()\n",
    "    X_train_combat = comb.fit_transform(X[:,np.sum(X,0)!=0][train],\n",
    "                                   np.array([site_int[train]]).transpose()\n",
    "                                  )\n",
    "\n",
    "\n",
    "    clf.fit(X_train_combat, y[train])\n",
    "    \n",
    "    X_test_combat = comb.transform(X[:,np.sum(X,0)!=0][test],\n",
    "                                   np.array([site_int[test]]).transpose())\n",
    "\n",
    "                                    \n",
    "    print('cv:', i, str(clf.best_params_) + \" \" + str(clf.best_score_) + \" \" + str(clf.score(X_test_combat, y[test])))\n",
    "                                    \n",
    "    all_models.append(clf.best_estimator_)\n",
    "    best_params.append(clf.best_params_)\n",
    "    \n",
    "    predicted[test] = clf.predict(X_test_combat)\n",
    "    predicted_prob[test] = clf.predict_proba(X_test_combat)[:,0]\n",
    "                                    \n",
    "    nested_scores_train[i] = clf.best_score_\n",
    "    nested_scores_test[i] = clf.score(X_test_combat, y[test])\n",
    "    i = i+1"
   ]
  },
  {
   "cell_type": "code",
   "execution_count": 56,
   "metadata": {
    "ExecuteTime": {
     "end_time": "2021-08-01T19:23:08.752532Z",
     "start_time": "2021-08-01T19:23:08.546076Z"
    },
    "pycharm": {
     "name": "#%%\n"
    }
   },
   "outputs": [
    {
     "name": "stdout",
     "output_type": "stream",
     "text": [
      "** Mean score in the inner crossvaludation (inner_cv):\t0.740854569726521\n",
      "** Mean Nested Crossvalidation Score (outer_cv):\t0.7451695866519257\n"
     ]
    },
    {
     "data": {
      "text/plain": "<Figure size 360x144 with 1 Axes>",
      "image/png": "[encoded data removed]"
     },
     "metadata": {},
     "output_type": "display_data"
    }
   ],
   "source": [
    "print(\"** Mean score in the inner crossvaludation (inner_cv):\\t\" + str(nested_scores_train.mean()))\n",
    "print(\"** Mean Nested Crossvalidation Score (outer_cv):\\t\" + str(nested_scores_test.mean()))\n",
    "\n",
    "fpr, tpr, _ = roc_curve(y, predicted_prob, pos_label=0)\n",
    "fig, ax = plt.subplots(figsize=(5,2))\n",
    "RocCurveDisplay(fpr=fpr, tpr=tpr).plot(ax=ax) \n",
    "plt.savefig('../fig/raw/emp_abide_site_comb_rocplot.pdf')  "
   ]
  },
  {
   "cell_type": "code",
   "execution_count": 57,
   "metadata": {
    "ExecuteTime": {
     "end_time": "2021-08-01T19:23:12.633347Z",
     "start_time": "2021-08-01T19:23:08.754815Z"
    },
    "pycharm": {
     "name": "#%%\n"
    }
   },
   "outputs": [
    {
     "data": {
      "text/plain": "<Figure size 360x108 with 1 Axes>",
      "image/png": "[encoded data removed]"
     },
     "metadata": {},
     "output_type": "display_data"
    }
   ],
   "source": [
    "plt.figure(figsize=(5,1.5))\n",
    "\n",
    "pal=[sns.color_palette(\"coolwarm\", 10)[-1], sns.color_palette(\"coolwarm\", 10)[0]]\n",
    "sns.stripplot(x=site, y=predicted_prob, hue=y, palette=pal, alpha=0.2, jitter=0.2, dodge=True)\n",
    "ax=sns.boxplot(x=site, y=predicted_prob, hue=y, showfliers = False)\n",
    "for box in ax.artists:\n",
    "    box.set_facecolor((1,1,1,0))\n",
    "plt.xticks(rotation=90)\n",
    "for i in range(len(np.unique(site))):\n",
    "    plt.axvline(i+0.5, color=\"gray\", alpha=0.5, linewidth=0.5)\n",
    "plt.savefig('../fig/raw/emp_abide_site_comb_striplot.pdf')"
   ]
  },
  {
   "cell_type": "code",
   "execution_count": 58,
   "metadata": {
    "ExecuteTime": {
     "end_time": "2021-08-01T19:23:18.831619Z",
     "start_time": "2021-08-01T19:23:12.635587Z"
    },
    "pycharm": {
     "name": "#%%\n"
    }
   },
   "outputs": [
    {
     "name": "stderr",
     "output_type": "stream",
     "text": [
      "Permuting: 100%|██████████| 1000/1000 [00:02<00:00, 485.98it/s]\n"
     ]
    },
    {
     "data": {
      "text/plain": "<graphviz.dot.Graph at 0x7fb294f56160>",
      "image/svg+xml": "<?xml version=\"1.0\" encoding=\"UTF-8\" standalone=\"no\"?>\n<!DOCTYPE svg PUBLIC \"-//W3C//DTD SVG 1.1//EN\"\n \"http://www.w3.org/Graphics/SVG/1.1/DTD/svg11.dtd\">\n<!-- Generated by graphviz version 2.43.0 (0)\n -->\n<!-- Title: %3 Pages: 1 -->\n<svg width=\"376pt\" height=\"79pt\"\n viewBox=\"0.00 0.00 376.00 79.00\" xmlns=\"http://www.w3.org/2000/svg\" xmlns:xlink=\"http://www.w3.org/1999/xlink\">\n<g id=\"graph0\" class=\"graph\" transform=\"scale(1 1) rotate(0) translate(4 75)\">\n<title>%3</title>\n<polygon fill=\"white\" stroke=\"transparent\" points=\"-4,4 -4,-75 372,-75 372,4 -4,4\"/>\n<!-- c -->\n<g id=\"node1\" class=\"node\">\n<title>c</title>\n<ellipse fill=\"none\" stroke=\"black\" cx=\"27\" cy=\"-18\" rx=\"27\" ry=\"18\"/>\n<text text-anchor=\"middle\" x=\"27\" y=\"-14.3\" font-family=\"Times,serif\" font-size=\"14.00\">c</text>\n</g>\n<!-- y -->\n<g id=\"node2\" class=\"node\">\n<title>y</title>\n<ellipse fill=\"none\" stroke=\"black\" cx=\"188.5\" cy=\"-53\" rx=\"27\" ry=\"18\"/>\n<text text-anchor=\"middle\" x=\"188.5\" y=\"-49.3\" font-family=\"Times,serif\" font-size=\"14.00\">y</text>\n</g>\n<!-- c&#45;&#45;y -->\n<g id=\"edge2\" class=\"edge\">\n<title>c&#45;&#45;y</title>\n<path fill=\"none\" stroke=\"black\" d=\"M52.92,-23.47C82.89,-30.04 132.87,-41.01 162.75,-47.57\"/>\n<text text-anchor=\"middle\" x=\"92.5\" y=\"-39.8\" font-family=\"Times,serif\" font-size=\"14.00\">0.019</text>\n</g>\n<!-- yhat -->\n<g id=\"node3\" class=\"node\">\n<title>yhat</title>\n<ellipse fill=\"none\" stroke=\"black\" cx=\"341\" cy=\"-18\" rx=\"27\" ry=\"18\"/>\n<text text-anchor=\"start\" x=\"336.5\" y=\"-14.3\" font-family=\"Times,serif\" font-size=\"14.00\">ŷ</text>\n</g>\n<!-- c&#45;&#45;yhat -->\n<g id=\"edge1\" class=\"edge\">\n<title>c&#45;&#45;yhat</title>\n<path fill=\"none\" stroke=\"black\" stroke-dasharray=\"5,2\" d=\"M53.8,-15.76C74.61,-14.07 104.67,-11.89 131,-11 182.08,-9.27 194.92,-9.1 246,-11 269.06,-11.86 295.23,-13.89 314.09,-15.55\"/>\n<text text-anchor=\"middle\" x=\"188.5\" y=\"-14.8\" font-family=\"Times,serif\" font-size=\"14.00\">0.05 (p=0.009*)</text>\n</g>\n<!-- y&#45;&#45;yhat -->\n<g id=\"edge3\" class=\"edge\">\n<title>y&#45;&#45;yhat</title>\n<path fill=\"none\" stroke=\"black\" d=\"M214.35,-47.22C242.32,-40.72 287.48,-30.21 315.36,-23.73\"/>\n<text text-anchor=\"middle\" x=\"280\" y=\"-38.8\" font-family=\"Times,serif\" font-size=\"14.00\">0.17</text>\n</g>\n</g>\n</svg>\n"
     },
     "execution_count": 58,
     "metadata": {},
     "output_type": "execute_result"
    }
   ],
   "source": [
    "plot_graph(partial_confound_test(y, predicted_prob, site_int,\n",
    "                                     cat_y=True, cat_yhat=False, cat_c=True,\n",
    "                                     random_state=42),\n",
    "          outfile_base='../fig/raw/emp_abide_site_comb_partial')"
   ]
  },
  {
   "cell_type": "code",
   "execution_count": 59,
   "metadata": {
    "ExecuteTime": {
     "end_time": "2021-08-01T19:23:22.712352Z",
     "start_time": "2021-08-01T19:23:18.833997Z"
    },
    "pycharm": {
     "name": "#%%\n"
    }
   },
   "outputs": [
    {
     "name": "stderr",
     "output_type": "stream",
     "text": [
      "Permuting: 100%|██████████| 1000/1000 [00:01<00:00, 518.69it/s]\n"
     ]
    },
    {
     "data": {
      "text/plain": "<graphviz.dot.Graph at 0x7fb294fe9250>",
      "image/svg+xml": "<?xml version=\"1.0\" encoding=\"UTF-8\" standalone=\"no\"?>\n<!DOCTYPE svg PUBLIC \"-//W3C//DTD SVG 1.1//EN\"\n \"http://www.w3.org/Graphics/SVG/1.1/DTD/svg11.dtd\">\n<!-- Generated by graphviz version 2.43.0 (0)\n -->\n<!-- Title: %3 Pages: 1 -->\n<svg width=\"407pt\" height=\"79pt\"\n viewBox=\"0.00 0.00 407.00 79.00\" xmlns=\"http://www.w3.org/2000/svg\" xmlns:xlink=\"http://www.w3.org/1999/xlink\">\n<g id=\"graph0\" class=\"graph\" transform=\"scale(1 1) rotate(0) translate(4 75)\">\n<title>%3</title>\n<polygon fill=\"white\" stroke=\"transparent\" points=\"-4,4 -4,-75 403,-75 403,4 -4,4\"/>\n<!-- c -->\n<g id=\"node1\" class=\"node\">\n<title>c</title>\n<ellipse fill=\"none\" stroke=\"black\" cx=\"27\" cy=\"-18\" rx=\"27\" ry=\"18\"/>\n<text text-anchor=\"middle\" x=\"27\" y=\"-14.3\" font-family=\"Times,serif\" font-size=\"14.00\">c</text>\n</g>\n<!-- y -->\n<g id=\"node2\" class=\"node\">\n<title>y</title>\n<ellipse fill=\"none\" stroke=\"black\" cx=\"158\" cy=\"-53\" rx=\"27\" ry=\"18\"/>\n<text text-anchor=\"middle\" x=\"158\" y=\"-49.3\" font-family=\"Times,serif\" font-size=\"14.00\">y</text>\n</g>\n<!-- c&#45;&#45;y -->\n<g id=\"edge2\" class=\"edge\">\n<title>c&#45;&#45;y</title>\n<path fill=\"none\" stroke=\"black\" d=\"M52.26,-24.58C75.33,-30.84 109.82,-40.2 132.84,-46.45\"/>\n<text text-anchor=\"middle\" x=\"92.5\" y=\"-43.8\" font-family=\"Times,serif\" font-size=\"14.00\">0.019</text>\n</g>\n<!-- yhat -->\n<g id=\"node3\" class=\"node\">\n<title>yhat</title>\n<ellipse fill=\"none\" stroke=\"black\" cx=\"372\" cy=\"-18\" rx=\"27\" ry=\"18\"/>\n<text text-anchor=\"start\" x=\"367.5\" y=\"-14.3\" font-family=\"Times,serif\" font-size=\"14.00\">ŷ</text>\n</g>\n<!-- c&#45;&#45;yhat -->\n<g id=\"edge1\" class=\"edge\">\n<title>c&#45;&#45;yhat</title>\n<path fill=\"none\" stroke=\"black\" d=\"M53.8,-15.76C74.61,-14.07 104.67,-11.89 131,-11 208.9,-8.36 301.06,-13.31 345.07,-16.17\"/>\n<text text-anchor=\"middle\" x=\"158\" y=\"-14.8\" font-family=\"Times,serif\" font-size=\"14.00\">0.05</text>\n</g>\n<!-- y&#45;&#45;yhat -->\n<g id=\"edge3\" class=\"edge\">\n<title>y&#45;&#45;yhat</title>\n<path fill=\"none\" stroke=\"black\" stroke-dasharray=\"5,2\" d=\"M184.57,-48.78C225.43,-42.03 304.96,-28.9 345.67,-22.18\"/>\n<text text-anchor=\"middle\" x=\"265\" y=\"-48.8\" font-family=\"Times,serif\" font-size=\"14.00\">0.17 (p&lt;0.0001*)</text>\n</g>\n</g>\n</svg>\n"
     },
     "execution_count": 59,
     "metadata": {},
     "output_type": "execute_result"
    }
   ],
   "source": [
    "plot_graph(full_confound_test(y, predicted_prob, site_int,\n",
    "                                 cat_y=True, cat_yhat=False, cat_c=True,\n",
    "                                 random_state=42),\n",
    "          outfile_base='../fig/raw/emp_abide_site_comb_full')"
   ]
  },
  {
   "cell_type": "code",
   "execution_count": 60,
   "outputs": [
    {
     "name": "stdout",
     "output_type": "stream",
     "text": [
      "0.04978966375151461\n"
     ]
    },
    {
     "data": {
      "text/plain": "0.001"
     },
     "execution_count": 60,
     "metadata": {},
     "output_type": "execute_result"
    }
   ],
   "source": [
    "nulldist = []\n",
    "unpermuted = _r2_cat_cont(site_int, predicted_prob)\n",
    "\n",
    "print(unpermuted)\n",
    "\n",
    "for i in range(1000):\n",
    "    yperm = np.random.permutation(predicted_prob)\n",
    "    nulldist.append(_r2_cat_cont(site_int, yperm))\n",
    "(nulldist >= unpermuted).sum()/len(nulldist)"
   ],
   "metadata": {
    "collapsed": false,
    "pycharm": {
     "name": "#%%\n"
    }
   }
  },
  {
   "cell_type": "code",
   "execution_count": 61,
   "outputs": [
    {
     "name": "stdout",
     "output_type": "stream",
     "text": [
      "0.17032841128735843\n"
     ]
    },
    {
     "data": {
      "text/plain": "0.0"
     },
     "execution_count": 61,
     "metadata": {},
     "output_type": "execute_result"
    }
   ],
   "source": [
    "nulldist = []\n",
    "unpermuted = _r2_cat_cont(y, predicted_prob)\n",
    "\n",
    "print(unpermuted)\n",
    "\n",
    "for i in range(1000):\n",
    "    yperm = np.random.permutation(predicted_prob)\n",
    "    nulldist.append(_r2_cat_cont(y, yperm))\n",
    "(nulldist >= unpermuted).sum()/len(nulldist)\n"
   ],
   "metadata": {
    "collapsed": false,
    "pycharm": {
     "name": "#%%\n"
    }
   }
  },
  {
   "cell_type": "code",
   "execution_count": 62,
   "metadata": {
    "ExecuteTime": {
     "end_time": "2021-08-01T20:31:15.252041Z",
     "start_time": "2021-08-01T20:31:15.236377Z"
    },
    "pycharm": {
     "name": "#%%\n"
    }
   },
   "outputs": [
    {
     "data": {
      "text/plain": "<matplotlib.colors.LinearSegmentedColormap at 0x7fb22ed53d60>",
      "text/html": "<div style=\"vertical-align: middle;\"><strong>coolwarm</strong> </div><div class=\"cmap\"><img alt=\"coolwarm colormap\" title=\"coolwarm\" style=\"border: 1px solid #555;\" src=\"data:image/png;base64,iVBORw0KGgoAAAANSUhEUgAAAgAAAABACAYAAABsv8+/AAAAF3RFWHRUaXRsZQBjb29sd2FybSBjb2xvcm1hcPHW9i4AAAAddEVYdERlc2NyaXB0aW9uAGNvb2x3YXJtIGNvbG9ybWFw2KgRBwAAADB0RVh0QXV0aG9yAE1hdHBsb3RsaWIgdjMuNC4zLCBodHRwczovL21hdHBsb3RsaWIub3JnCV3z0wAAADJ0RVh0U29mdHdhcmUATWF0cGxvdGxpYiB2My40LjMsIGh0dHBzOi8vbWF0cGxvdGxpYi5vcmcn+2z0AAACIUlEQVR4nO3WO3LbQBBF0QaW5TV40d6XTIwTCCo2MQQYOHrnJKr5NRip7vLr959RVbUsS1VVLetaVVXr+rzu50s7X2fnt+cu+/n5/nF+8Z315buz9/3310fzXvfrfP73nOn8mnzv+f7xfva9/bzPu9w/vnM+b36v3t+72J/fGxfvx739mt1v82tyXv13jPO5x7175y/fm53f3F/7fm333vf7o+2P7cP18371e+P9nOrvR/995/e+59ZkPZ17rN/fO+Zufe75vdr67znfv3o3tnv3Lt/t69HW3+fH/Zc579+/rLc2r82fzevf7/ePv+Pq3uTdf9rfHu/v/5y3e/v+1uc/tud3j8m84/0+72tf/x2frb+e/18BAEEEAAAEEgAAEEgAAEAgAQAAgQQAAAQSAAAQSAAAQCABAACBBAAABBIAABBIAABAIAEAAIEEAAAEEgAAEEgAAEAgAQAAgQQAAAQSAAAQSAAAQCABAACBBAAABBIAABBIAABAIAEAAIEEAAAEEgAAEEgAAEAgAQAAgQQAAAQSAAAQSAAAQCABAACBBAAABBIAABBIAABAIAEAAIEEAAAEEgAAEEgAAEAgAQAAgQQAAAQSAAAQSAAAQCABAACBBAAABBIAABBIAABAIAEAAIEEAAAEEgAAEEgAAEAgAQAAgQQAAAQSAAAQSAAAQCABAACBBAAABBIAABBIAABAIAEAAIEEAAAEEgAAEOgf6GZUalYlbg8AAAAASUVORK5CYII=\"></div><div style=\"vertical-align: middle; max-width: 514px; display: flex; justify-content: space-between;\"><div style=\"float: left;\"><div title=\"#3b4cc0ff\" style=\"display: inline-block; width: 1em; height: 1em; margin: 0; vertical-align: middle; border: 1px solid #555; background-color: #3b4cc0ff;\"></div> under</div><div style=\"margin: 0 auto; display: inline-block;\">bad <div title=\"#00000000\" style=\"display: inline-block; width: 1em; height: 1em; margin: 0; vertical-align: middle; border: 1px solid #555; background-color: #00000000;\"></div></div><div style=\"float: right;\">over <div title=\"#b40426ff\" style=\"display: inline-block; width: 1em; height: 1em; margin: 0; vertical-align: middle; border: 1px solid #555; background-color: #b40426ff;\"></div></div>",
      "image/png": "[encoded data removed]"
     },
     "execution_count": 62,
     "metadata": {},
     "output_type": "execute_result"
    }
   ],
   "source": [
    "\n",
    "sns.color_palette(\"coolwarm\", as_cmap=True)"
   ]
  },
  {
   "cell_type": "code",
   "execution_count": 63,
   "metadata": {
    "ExecuteTime": {
     "end_time": "2021-08-01T20:32:31.730981Z",
     "start_time": "2021-08-01T20:32:31.724659Z"
    },
    "pycharm": {
     "name": "#%%\n"
    }
   },
   "outputs": [
    {
     "data": {
      "text/plain": "5.19933758270342"
     },
     "execution_count": 63,
     "metadata": {},
     "output_type": "execute_result"
    }
   ],
   "source": [
    "np.max(mean_fd)"
   ]
  },
  {
   "cell_type": "code",
   "execution_count": 66,
   "outputs": [
    {
     "data": {
      "text/plain": "866"
     },
     "execution_count": 66,
     "metadata": {},
     "output_type": "execute_result"
    }
   ],
   "source": [
    "len(y)"
   ],
   "metadata": {
    "collapsed": false,
    "pycharm": {
     "name": "#%%\n"
    }
   }
  },
  {
   "cell_type": "code",
   "execution_count": 64,
   "outputs": [
    {
     "name": "stdout",
     "output_type": "stream",
     "text": [
      "0.02798282700643162\n"
     ]
    },
    {
     "data": {
      "text/plain": "0.0"
     },
     "execution_count": 64,
     "metadata": {},
     "output_type": "execute_result"
    }
   ],
   "source": [
    "nulldist = []\n",
    "unpermuted = _r2_cat_cont(y, mean_fd)\n",
    "\n",
    "print(unpermuted)\n",
    "\n",
    "for i in range(1000):\n",
    "    yperm = np.random.permutation(y)\n",
    "    nulldist.append(_r2_cat_cont(yperm, mean_fd))\n",
    "(nulldist >= unpermuted).sum()/len(nulldist)\n",
    "\n"
   ],
   "metadata": {
    "collapsed": false,
    "pycharm": {
     "name": "#%%\n"
    }
   }
  },
  {
   "cell_type": "code",
   "execution_count": 65,
   "outputs": [
    {
     "name": "stdout",
     "output_type": "stream",
     "text": [
      "0.019007371520746053\n"
     ]
    },
    {
     "name": "stderr",
     "output_type": "stream",
     "text": [
      "/home/tspisak/src/RPN-signature/venv/lib/python3.8/site-packages/statsmodels/base/model.py:547: HessianInversionWarning: Inverting hessian failed, no bse or cov_params available\n",
      "  warnings.warn('Inverting hessian failed, no bse or cov_params '\n"
     ]
    },
    {
     "data": {
      "text/plain": "0.233"
     },
     "execution_count": 65,
     "metadata": {},
     "output_type": "execute_result"
    }
   ],
   "source": [
    "nulldist = []\n",
    "\n",
    "unpermuted = _r2_cat_cat(site_int, y)\n",
    "\n",
    "print(unpermuted)\n",
    "\n",
    "for i in range(1000):\n",
    "    yperm = np.random.permutation(y)\n",
    "    nulldist.append(_r2_cat_cat(site_int, yperm))\n",
    "(nulldist >= unpermuted).sum()/len(nulldist)\n",
    "\n"
   ],
   "metadata": {
    "collapsed": false,
    "pycharm": {
     "name": "#%%\n"
    }
   }
  },
  {
   "cell_type": "code",
   "execution_count": null,
   "outputs": [],
   "source": [],
   "metadata": {
    "collapsed": false,
    "pycharm": {
     "name": "#%%\n"
    }
   }
  }
 ],
 "metadata": {
  "hide_input": false,
  "kernelspec": {
   "display_name": "Python 3",
   "language": "python",
   "name": "python3"
  },
  "language_info": {
   "codemirror_mode": {
    "name": "ipython",
    "version": 3
   },
   "file_extension": ".py",
   "mimetype": "text/x-python",
   "name": "python",
   "nbconvert_exporter": "python",
   "pygments_lexer": "ipython3",
   "version": "3.7.4"
  }
 },
 "nbformat": 4,
 "nbformat_minor": 2
}