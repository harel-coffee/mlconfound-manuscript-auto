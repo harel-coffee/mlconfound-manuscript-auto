{
 "cells": [
  {
   "cell_type": "code",
   "execution_count": 75,
   "metadata": {
    "pycharm": {
     "name": "#%%\n"
    }
   },
   "outputs": [],
   "source": [
    "from mlconfound.simulate import simulate_y_c_yhat, sigmoid\n",
    "\n",
    "w_yc=3.0\n",
    "w_yyhat=3.0\n",
    "w_cyhat=3 # H0\n",
    "n=50\n",
    "\n",
    "y, c, yhat =simulate_y_c_yhat(w_yc=w_yc,\n",
    "                              w_yyhat=w_yyhat, w_cyhat=w_cyhat,\n",
    "                              n=n,\n",
    "                              random_state=42,\n",
    "                              delta=1,\n",
    "                              epsilon=0,\n",
    "                              nonlin_trf_fun=sigmoid)"
   ]
  },
  {
   "cell_type": "code",
   "execution_count": 76,
   "metadata": {
    "pycharm": {
     "name": "#%%\n"
    }
   },
   "outputs": [],
   "source": [
    "from pygam import LinearGAM\n",
    "import pandas as pd\n",
    "\n",
    "df = pd.DataFrame({\n",
    "        'Z': c,\n",
    "        'X': y\n",
    "    })\n",
    "default_kwargs = {'n_splines': 8, 'dtype': ['numerical']}\n",
    "model_kwargs = {**default_kwargs}\n",
    "fit = LinearGAM(**model_kwargs).gridsearch(y=df.X, X=df.Z.values.reshape(-1, 1),\n",
    "                                               progress=False)"
   ]
  },
  {
   "cell_type": "code",
   "execution_count": 77,
   "metadata": {
    "pycharm": {
     "name": "#%%\n"
    }
   },
   "outputs": [
    {
     "data": {
      "text/plain": [
       "<AxesSubplot:xlabel='Z', ylabel='X'>"
      ]
     },
     "execution_count": 77,
     "metadata": {},
     "output_type": "execute_result"
    },
    {
     "data": {
      "image/png": "[encoded data removed]",
      "text/plain": [
       "<Figure size 432x288 with 1 Axes>"
      ]
     },
     "metadata": {},
     "output_type": "display_data"
    }
   ],
   "source": [
    "import seaborn as sns\n",
    "sns.set_style(\"whitegrid\")\n",
    "sns.scatterplot(x=df.Z, y=df.X)\n",
    "sns.lineplot(x=df.Z, y=fit.predict(df.Z.values.reshape(-1, 1)), color='red')"
   ]
  },
  {
   "cell_type": "code",
   "execution_count": 78,
   "metadata": {
    "pycharm": {
     "name": "#%%\n"
    }
   },
   "outputs": [
    {
     "data": {
      "text/plain": [
       "{'max_depth': 3, 'n_estimators': 2}"
      ]
     },
     "execution_count": 78,
     "metadata": {},
     "output_type": "execute_result"
    }
   ],
   "source": [
    "from sklearn.ensemble import RandomForestRegressor\n",
    "from sklearn.model_selection import GridSearchCV\n",
    "import pandas as pd\n",
    "\n",
    "df = pd.DataFrame({\n",
    "        'Z': c,\n",
    "        'X': y\n",
    "    })\n",
    "\n",
    "p_grid = {\n",
    "    'max_depth': [1,2,3,4,10,50],\n",
    "    'n_estimators': [1, 2, 3, 4, 5, 6, 7, 8, 10, 50, 100]\n",
    "}\n",
    "\n",
    "cv = GridSearchCV(estimator=RandomForestRegressor(random_state=42), param_grid=p_grid, cv=10,\n",
    "                   scoring=\"neg_mean_squared_error\", return_train_score=False,\n",
    "                   n_jobs=-1)\n",
    "fit = cv.fit(y=df.X, X=df.Z.values.reshape(-1, 1))\n",
    "cv.best_params_"
   ]
  },
  {
   "cell_type": "code",
   "execution_count": 79,
   "metadata": {
    "pycharm": {
     "name": "#%%\n"
    }
   },
   "outputs": [
    {
     "data": {
      "text/plain": [
       "<AxesSubplot:xlabel='Z', ylabel='X'>"
      ]
     },
     "execution_count": 79,
     "metadata": {},
     "output_type": "execute_result"
    },
    {
     "data": {
      "image/png": "[encoded data removed]",
      "text/plain": [
       "<Figure size 432x288 with 1 Axes>"
      ]
     },
     "metadata": {},
     "output_type": "display_data"
    }
   ],
   "source": [
    "sns.scatterplot(x=df.Z, y=df.X)\n",
    "sns.lineplot(x=df.Z, y=cv.best_estimator_.predict(df.Z.values.reshape(-1, 1)), color='red')"
   ]
  }
 ],
 "metadata": {
  "kernelspec": {
   "display_name": "Python 3 (ipykernel)",
   "language": "python",
   "name": "python3"
  },
  "language_info": {
   "codemirror_mode": {
    "name": "ipython",
    "version": 3
   },
   "file_extension": ".py",
   "mimetype": "text/x-python",
   "name": "python",
   "nbconvert_exporter": "python",
   "pygments_lexer": "ipython3",
   "version": "3.8.10"
  }
 },
 "nbformat": 4,
 "nbformat_minor": 1
}